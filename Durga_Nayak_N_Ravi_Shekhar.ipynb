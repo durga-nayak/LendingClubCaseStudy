{
 "cells": [
  {
   "cell_type": "markdown",
   "id": "360d7d67",
   "metadata": {},
   "source": [
    "# Lending Club Case Study\n"
   ]
  },
  {
   "cell_type": "markdown",
   "id": "5d4e136d",
   "metadata": {},
   "source": [
    "## Import important library"
   ]
  },
  {
   "cell_type": "code",
   "execution_count": 114,
   "id": "d407d7de",
   "metadata": {},
   "outputs": [],
   "source": [
    "import pandas as pd\n",
    "import numpy as np\n",
    "from datetime import datetime as dt\n",
    "import re as re\n",
    "import matplotlib.pyplot as plt\n",
    "import seaborn as sns\n",
    "import plotly.express as px\n",
    "# Import the necessaries libraries\n",
    "import plotly.offline as pyo\n",
    "import plotly.graph_objs as go\n",
    "\n",
    "\n",
    "\n"
   ]
  },
  {
   "cell_type": "markdown",
   "id": "c7b4a757",
   "metadata": {},
   "source": [
    "## Import LendingClub Data And Verify Data"
   ]
  },
  {
   "cell_type": "code",
   "execution_count": 115,
   "id": "7580447c",
   "metadata": {
    "scrolled": true
   },
   "outputs": [
    {
     "name": "stderr",
     "output_type": "stream",
     "text": [
      "C:\\Users\\durganayak\\AppData\\Local\\Temp\\ipykernel_40016\\2010620028.py:5: DtypeWarning:\n",
      "\n",
      "Columns (47) have mixed types. Specify dtype option on import or set low_memory=False.\n",
      "\n"
     ]
    },
    {
     "data": {
      "text/html": [
       "<div>\n",
       "<style scoped>\n",
       "    .dataframe tbody tr th:only-of-type {\n",
       "        vertical-align: middle;\n",
       "    }\n",
       "\n",
       "    .dataframe tbody tr th {\n",
       "        vertical-align: top;\n",
       "    }\n",
       "\n",
       "    .dataframe thead th {\n",
       "        text-align: right;\n",
       "    }\n",
       "</style>\n",
       "<table border=\"1\" class=\"dataframe\">\n",
       "  <thead>\n",
       "    <tr style=\"text-align: right;\">\n",
       "      <th></th>\n",
       "      <th>id</th>\n",
       "      <th>member_id</th>\n",
       "      <th>loan_amnt</th>\n",
       "      <th>funded_amnt</th>\n",
       "      <th>funded_amnt_inv</th>\n",
       "      <th>term</th>\n",
       "      <th>int_rate</th>\n",
       "      <th>installment</th>\n",
       "      <th>grade</th>\n",
       "      <th>sub_grade</th>\n",
       "      <th>emp_title</th>\n",
       "      <th>emp_length</th>\n",
       "      <th>home_ownership</th>\n",
       "      <th>annual_inc</th>\n",
       "      <th>verification_status</th>\n",
       "      <th>issue_d</th>\n",
       "      <th>loan_status</th>\n",
       "      <th>pymnt_plan</th>\n",
       "      <th>url</th>\n",
       "      <th>desc</th>\n",
       "      <th>purpose</th>\n",
       "      <th>title</th>\n",
       "      <th>zip_code</th>\n",
       "      <th>addr_state</th>\n",
       "      <th>dti</th>\n",
       "      <th>delinq_2yrs</th>\n",
       "      <th>earliest_cr_line</th>\n",
       "      <th>inq_last_6mths</th>\n",
       "      <th>mths_since_last_delinq</th>\n",
       "      <th>mths_since_last_record</th>\n",
       "      <th>open_acc</th>\n",
       "      <th>pub_rec</th>\n",
       "      <th>revol_bal</th>\n",
       "      <th>revol_util</th>\n",
       "      <th>total_acc</th>\n",
       "      <th>initial_list_status</th>\n",
       "      <th>out_prncp</th>\n",
       "      <th>out_prncp_inv</th>\n",
       "      <th>total_pymnt</th>\n",
       "      <th>total_pymnt_inv</th>\n",
       "      <th>total_rec_prncp</th>\n",
       "      <th>total_rec_int</th>\n",
       "      <th>total_rec_late_fee</th>\n",
       "      <th>recoveries</th>\n",
       "      <th>collection_recovery_fee</th>\n",
       "      <th>last_pymnt_d</th>\n",
       "      <th>last_pymnt_amnt</th>\n",
       "      <th>next_pymnt_d</th>\n",
       "      <th>last_credit_pull_d</th>\n",
       "      <th>collections_12_mths_ex_med</th>\n",
       "      <th>mths_since_last_major_derog</th>\n",
       "      <th>policy_code</th>\n",
       "      <th>application_type</th>\n",
       "      <th>annual_inc_joint</th>\n",
       "      <th>dti_joint</th>\n",
       "      <th>verification_status_joint</th>\n",
       "      <th>acc_now_delinq</th>\n",
       "      <th>tot_coll_amt</th>\n",
       "      <th>tot_cur_bal</th>\n",
       "      <th>open_acc_6m</th>\n",
       "      <th>open_il_6m</th>\n",
       "      <th>open_il_12m</th>\n",
       "      <th>open_il_24m</th>\n",
       "      <th>mths_since_rcnt_il</th>\n",
       "      <th>total_bal_il</th>\n",
       "      <th>il_util</th>\n",
       "      <th>open_rv_12m</th>\n",
       "      <th>open_rv_24m</th>\n",
       "      <th>max_bal_bc</th>\n",
       "      <th>all_util</th>\n",
       "      <th>total_rev_hi_lim</th>\n",
       "      <th>inq_fi</th>\n",
       "      <th>total_cu_tl</th>\n",
       "      <th>inq_last_12m</th>\n",
       "      <th>acc_open_past_24mths</th>\n",
       "      <th>avg_cur_bal</th>\n",
       "      <th>bc_open_to_buy</th>\n",
       "      <th>bc_util</th>\n",
       "      <th>chargeoff_within_12_mths</th>\n",
       "      <th>delinq_amnt</th>\n",
       "      <th>mo_sin_old_il_acct</th>\n",
       "      <th>mo_sin_old_rev_tl_op</th>\n",
       "      <th>mo_sin_rcnt_rev_tl_op</th>\n",
       "      <th>mo_sin_rcnt_tl</th>\n",
       "      <th>mort_acc</th>\n",
       "      <th>mths_since_recent_bc</th>\n",
       "      <th>mths_since_recent_bc_dlq</th>\n",
       "      <th>mths_since_recent_inq</th>\n",
       "      <th>mths_since_recent_revol_delinq</th>\n",
       "      <th>num_accts_ever_120_pd</th>\n",
       "      <th>num_actv_bc_tl</th>\n",
       "      <th>num_actv_rev_tl</th>\n",
       "      <th>num_bc_sats</th>\n",
       "      <th>num_bc_tl</th>\n",
       "      <th>num_il_tl</th>\n",
       "      <th>num_op_rev_tl</th>\n",
       "      <th>num_rev_accts</th>\n",
       "      <th>num_rev_tl_bal_gt_0</th>\n",
       "      <th>num_sats</th>\n",
       "      <th>num_tl_120dpd_2m</th>\n",
       "      <th>num_tl_30dpd</th>\n",
       "      <th>num_tl_90g_dpd_24m</th>\n",
       "      <th>num_tl_op_past_12m</th>\n",
       "      <th>pct_tl_nvr_dlq</th>\n",
       "      <th>percent_bc_gt_75</th>\n",
       "      <th>pub_rec_bankruptcies</th>\n",
       "      <th>tax_liens</th>\n",
       "      <th>tot_hi_cred_lim</th>\n",
       "      <th>total_bal_ex_mort</th>\n",
       "      <th>total_bc_limit</th>\n",
       "      <th>total_il_high_credit_limit</th>\n",
       "    </tr>\n",
       "  </thead>\n",
       "  <tbody>\n",
       "    <tr>\n",
       "      <th>0</th>\n",
       "      <td>1077501</td>\n",
       "      <td>1296599</td>\n",
       "      <td>5000</td>\n",
       "      <td>5000</td>\n",
       "      <td>4975.0</td>\n",
       "      <td>36 months</td>\n",
       "      <td>10.65%</td>\n",
       "      <td>162.87</td>\n",
       "      <td>B</td>\n",
       "      <td>B2</td>\n",
       "      <td>NaN</td>\n",
       "      <td>10+ years</td>\n",
       "      <td>RENT</td>\n",
       "      <td>24000.0</td>\n",
       "      <td>Verified</td>\n",
       "      <td>Dec-11</td>\n",
       "      <td>Fully Paid</td>\n",
       "      <td>n</td>\n",
       "      <td>https://lendingclub.com/browse/loanDetail.acti...</td>\n",
       "      <td>Borrower added on 12/22/11 &gt; I need to upgra...</td>\n",
       "      <td>credit_card</td>\n",
       "      <td>Computer</td>\n",
       "      <td>860xx</td>\n",
       "      <td>AZ</td>\n",
       "      <td>27.65</td>\n",
       "      <td>0</td>\n",
       "      <td>Jan-85</td>\n",
       "      <td>1</td>\n",
       "      <td>NaN</td>\n",
       "      <td>NaN</td>\n",
       "      <td>3</td>\n",
       "      <td>0</td>\n",
       "      <td>13648</td>\n",
       "      <td>83.70%</td>\n",
       "      <td>9</td>\n",
       "      <td>f</td>\n",
       "      <td>0.00</td>\n",
       "      <td>0.00</td>\n",
       "      <td>5863.155187</td>\n",
       "      <td>5833.84</td>\n",
       "      <td>5000.00</td>\n",
       "      <td>863.16</td>\n",
       "      <td>0.00</td>\n",
       "      <td>0.00</td>\n",
       "      <td>0.00</td>\n",
       "      <td>Jan-15</td>\n",
       "      <td>171.62</td>\n",
       "      <td>NaN</td>\n",
       "      <td>May-16</td>\n",
       "      <td>0.0</td>\n",
       "      <td>NaN</td>\n",
       "      <td>1</td>\n",
       "      <td>INDIVIDUAL</td>\n",
       "      <td>NaN</td>\n",
       "      <td>NaN</td>\n",
       "      <td>NaN</td>\n",
       "      <td>0</td>\n",
       "      <td>NaN</td>\n",
       "      <td>NaN</td>\n",
       "      <td>NaN</td>\n",
       "      <td>NaN</td>\n",
       "      <td>NaN</td>\n",
       "      <td>NaN</td>\n",
       "      <td>NaN</td>\n",
       "      <td>NaN</td>\n",
       "      <td>NaN</td>\n",
       "      <td>NaN</td>\n",
       "      <td>NaN</td>\n",
       "      <td>NaN</td>\n",
       "      <td>NaN</td>\n",
       "      <td>NaN</td>\n",
       "      <td>NaN</td>\n",
       "      <td>NaN</td>\n",
       "      <td>NaN</td>\n",
       "      <td>NaN</td>\n",
       "      <td>NaN</td>\n",
       "      <td>NaN</td>\n",
       "      <td>NaN</td>\n",
       "      <td>0.0</td>\n",
       "      <td>0</td>\n",
       "      <td>NaN</td>\n",
       "      <td>NaN</td>\n",
       "      <td>NaN</td>\n",
       "      <td>NaN</td>\n",
       "      <td>NaN</td>\n",
       "      <td>NaN</td>\n",
       "      <td>NaN</td>\n",
       "      <td>NaN</td>\n",
       "      <td>NaN</td>\n",
       "      <td>NaN</td>\n",
       "      <td>NaN</td>\n",
       "      <td>NaN</td>\n",
       "      <td>NaN</td>\n",
       "      <td>NaN</td>\n",
       "      <td>NaN</td>\n",
       "      <td>NaN</td>\n",
       "      <td>NaN</td>\n",
       "      <td>NaN</td>\n",
       "      <td>NaN</td>\n",
       "      <td>NaN</td>\n",
       "      <td>NaN</td>\n",
       "      <td>NaN</td>\n",
       "      <td>NaN</td>\n",
       "      <td>NaN</td>\n",
       "      <td>NaN</td>\n",
       "      <td>0.0</td>\n",
       "      <td>0.0</td>\n",
       "      <td>NaN</td>\n",
       "      <td>NaN</td>\n",
       "      <td>NaN</td>\n",
       "      <td>NaN</td>\n",
       "    </tr>\n",
       "    <tr>\n",
       "      <th>1</th>\n",
       "      <td>1077430</td>\n",
       "      <td>1314167</td>\n",
       "      <td>2500</td>\n",
       "      <td>2500</td>\n",
       "      <td>2500.0</td>\n",
       "      <td>60 months</td>\n",
       "      <td>15.27%</td>\n",
       "      <td>59.83</td>\n",
       "      <td>C</td>\n",
       "      <td>C4</td>\n",
       "      <td>Ryder</td>\n",
       "      <td>&lt; 1 year</td>\n",
       "      <td>RENT</td>\n",
       "      <td>30000.0</td>\n",
       "      <td>Source Verified</td>\n",
       "      <td>Dec-11</td>\n",
       "      <td>Charged Off</td>\n",
       "      <td>n</td>\n",
       "      <td>https://lendingclub.com/browse/loanDetail.acti...</td>\n",
       "      <td>Borrower added on 12/22/11 &gt; I plan to use t...</td>\n",
       "      <td>car</td>\n",
       "      <td>bike</td>\n",
       "      <td>309xx</td>\n",
       "      <td>GA</td>\n",
       "      <td>1.00</td>\n",
       "      <td>0</td>\n",
       "      <td>Apr-99</td>\n",
       "      <td>5</td>\n",
       "      <td>NaN</td>\n",
       "      <td>NaN</td>\n",
       "      <td>3</td>\n",
       "      <td>0</td>\n",
       "      <td>1687</td>\n",
       "      <td>9.40%</td>\n",
       "      <td>4</td>\n",
       "      <td>f</td>\n",
       "      <td>0.00</td>\n",
       "      <td>0.00</td>\n",
       "      <td>1008.710000</td>\n",
       "      <td>1008.71</td>\n",
       "      <td>456.46</td>\n",
       "      <td>435.17</td>\n",
       "      <td>0.00</td>\n",
       "      <td>117.08</td>\n",
       "      <td>1.11</td>\n",
       "      <td>Apr-13</td>\n",
       "      <td>119.66</td>\n",
       "      <td>NaN</td>\n",
       "      <td>Sep-13</td>\n",
       "      <td>0.0</td>\n",
       "      <td>NaN</td>\n",
       "      <td>1</td>\n",
       "      <td>INDIVIDUAL</td>\n",
       "      <td>NaN</td>\n",
       "      <td>NaN</td>\n",
       "      <td>NaN</td>\n",
       "      <td>0</td>\n",
       "      <td>NaN</td>\n",
       "      <td>NaN</td>\n",
       "      <td>NaN</td>\n",
       "      <td>NaN</td>\n",
       "      <td>NaN</td>\n",
       "      <td>NaN</td>\n",
       "      <td>NaN</td>\n",
       "      <td>NaN</td>\n",
       "      <td>NaN</td>\n",
       "      <td>NaN</td>\n",
       "      <td>NaN</td>\n",
       "      <td>NaN</td>\n",
       "      <td>NaN</td>\n",
       "      <td>NaN</td>\n",
       "      <td>NaN</td>\n",
       "      <td>NaN</td>\n",
       "      <td>NaN</td>\n",
       "      <td>NaN</td>\n",
       "      <td>NaN</td>\n",
       "      <td>NaN</td>\n",
       "      <td>NaN</td>\n",
       "      <td>0.0</td>\n",
       "      <td>0</td>\n",
       "      <td>NaN</td>\n",
       "      <td>NaN</td>\n",
       "      <td>NaN</td>\n",
       "      <td>NaN</td>\n",
       "      <td>NaN</td>\n",
       "      <td>NaN</td>\n",
       "      <td>NaN</td>\n",
       "      <td>NaN</td>\n",
       "      <td>NaN</td>\n",
       "      <td>NaN</td>\n",
       "      <td>NaN</td>\n",
       "      <td>NaN</td>\n",
       "      <td>NaN</td>\n",
       "      <td>NaN</td>\n",
       "      <td>NaN</td>\n",
       "      <td>NaN</td>\n",
       "      <td>NaN</td>\n",
       "      <td>NaN</td>\n",
       "      <td>NaN</td>\n",
       "      <td>NaN</td>\n",
       "      <td>NaN</td>\n",
       "      <td>NaN</td>\n",
       "      <td>NaN</td>\n",
       "      <td>NaN</td>\n",
       "      <td>NaN</td>\n",
       "      <td>0.0</td>\n",
       "      <td>0.0</td>\n",
       "      <td>NaN</td>\n",
       "      <td>NaN</td>\n",
       "      <td>NaN</td>\n",
       "      <td>NaN</td>\n",
       "    </tr>\n",
       "    <tr>\n",
       "      <th>2</th>\n",
       "      <td>1077175</td>\n",
       "      <td>1313524</td>\n",
       "      <td>2400</td>\n",
       "      <td>2400</td>\n",
       "      <td>2400.0</td>\n",
       "      <td>36 months</td>\n",
       "      <td>15.96%</td>\n",
       "      <td>84.33</td>\n",
       "      <td>C</td>\n",
       "      <td>C5</td>\n",
       "      <td>NaN</td>\n",
       "      <td>10+ years</td>\n",
       "      <td>RENT</td>\n",
       "      <td>12252.0</td>\n",
       "      <td>Not Verified</td>\n",
       "      <td>Dec-11</td>\n",
       "      <td>Fully Paid</td>\n",
       "      <td>n</td>\n",
       "      <td>https://lendingclub.com/browse/loanDetail.acti...</td>\n",
       "      <td>NaN</td>\n",
       "      <td>small_business</td>\n",
       "      <td>real estate business</td>\n",
       "      <td>606xx</td>\n",
       "      <td>IL</td>\n",
       "      <td>8.72</td>\n",
       "      <td>0</td>\n",
       "      <td>Nov-01</td>\n",
       "      <td>2</td>\n",
       "      <td>NaN</td>\n",
       "      <td>NaN</td>\n",
       "      <td>2</td>\n",
       "      <td>0</td>\n",
       "      <td>2956</td>\n",
       "      <td>98.50%</td>\n",
       "      <td>10</td>\n",
       "      <td>f</td>\n",
       "      <td>0.00</td>\n",
       "      <td>0.00</td>\n",
       "      <td>3005.666844</td>\n",
       "      <td>3005.67</td>\n",
       "      <td>2400.00</td>\n",
       "      <td>605.67</td>\n",
       "      <td>0.00</td>\n",
       "      <td>0.00</td>\n",
       "      <td>0.00</td>\n",
       "      <td>Jun-14</td>\n",
       "      <td>649.91</td>\n",
       "      <td>NaN</td>\n",
       "      <td>May-16</td>\n",
       "      <td>0.0</td>\n",
       "      <td>NaN</td>\n",
       "      <td>1</td>\n",
       "      <td>INDIVIDUAL</td>\n",
       "      <td>NaN</td>\n",
       "      <td>NaN</td>\n",
       "      <td>NaN</td>\n",
       "      <td>0</td>\n",
       "      <td>NaN</td>\n",
       "      <td>NaN</td>\n",
       "      <td>NaN</td>\n",
       "      <td>NaN</td>\n",
       "      <td>NaN</td>\n",
       "      <td>NaN</td>\n",
       "      <td>NaN</td>\n",
       "      <td>NaN</td>\n",
       "      <td>NaN</td>\n",
       "      <td>NaN</td>\n",
       "      <td>NaN</td>\n",
       "      <td>NaN</td>\n",
       "      <td>NaN</td>\n",
       "      <td>NaN</td>\n",
       "      <td>NaN</td>\n",
       "      <td>NaN</td>\n",
       "      <td>NaN</td>\n",
       "      <td>NaN</td>\n",
       "      <td>NaN</td>\n",
       "      <td>NaN</td>\n",
       "      <td>NaN</td>\n",
       "      <td>0.0</td>\n",
       "      <td>0</td>\n",
       "      <td>NaN</td>\n",
       "      <td>NaN</td>\n",
       "      <td>NaN</td>\n",
       "      <td>NaN</td>\n",
       "      <td>NaN</td>\n",
       "      <td>NaN</td>\n",
       "      <td>NaN</td>\n",
       "      <td>NaN</td>\n",
       "      <td>NaN</td>\n",
       "      <td>NaN</td>\n",
       "      <td>NaN</td>\n",
       "      <td>NaN</td>\n",
       "      <td>NaN</td>\n",
       "      <td>NaN</td>\n",
       "      <td>NaN</td>\n",
       "      <td>NaN</td>\n",
       "      <td>NaN</td>\n",
       "      <td>NaN</td>\n",
       "      <td>NaN</td>\n",
       "      <td>NaN</td>\n",
       "      <td>NaN</td>\n",
       "      <td>NaN</td>\n",
       "      <td>NaN</td>\n",
       "      <td>NaN</td>\n",
       "      <td>NaN</td>\n",
       "      <td>0.0</td>\n",
       "      <td>0.0</td>\n",
       "      <td>NaN</td>\n",
       "      <td>NaN</td>\n",
       "      <td>NaN</td>\n",
       "      <td>NaN</td>\n",
       "    </tr>\n",
       "    <tr>\n",
       "      <th>3</th>\n",
       "      <td>1076863</td>\n",
       "      <td>1277178</td>\n",
       "      <td>10000</td>\n",
       "      <td>10000</td>\n",
       "      <td>10000.0</td>\n",
       "      <td>36 months</td>\n",
       "      <td>13.49%</td>\n",
       "      <td>339.31</td>\n",
       "      <td>C</td>\n",
       "      <td>C1</td>\n",
       "      <td>AIR RESOURCES BOARD</td>\n",
       "      <td>10+ years</td>\n",
       "      <td>RENT</td>\n",
       "      <td>49200.0</td>\n",
       "      <td>Source Verified</td>\n",
       "      <td>Dec-11</td>\n",
       "      <td>Fully Paid</td>\n",
       "      <td>n</td>\n",
       "      <td>https://lendingclub.com/browse/loanDetail.acti...</td>\n",
       "      <td>Borrower added on 12/21/11 &gt; to pay for prop...</td>\n",
       "      <td>other</td>\n",
       "      <td>personel</td>\n",
       "      <td>917xx</td>\n",
       "      <td>CA</td>\n",
       "      <td>20.00</td>\n",
       "      <td>0</td>\n",
       "      <td>Feb-96</td>\n",
       "      <td>1</td>\n",
       "      <td>35.0</td>\n",
       "      <td>NaN</td>\n",
       "      <td>10</td>\n",
       "      <td>0</td>\n",
       "      <td>5598</td>\n",
       "      <td>21%</td>\n",
       "      <td>37</td>\n",
       "      <td>f</td>\n",
       "      <td>0.00</td>\n",
       "      <td>0.00</td>\n",
       "      <td>12231.890000</td>\n",
       "      <td>12231.89</td>\n",
       "      <td>10000.00</td>\n",
       "      <td>2214.92</td>\n",
       "      <td>16.97</td>\n",
       "      <td>0.00</td>\n",
       "      <td>0.00</td>\n",
       "      <td>Jan-15</td>\n",
       "      <td>357.48</td>\n",
       "      <td>NaN</td>\n",
       "      <td>Apr-16</td>\n",
       "      <td>0.0</td>\n",
       "      <td>NaN</td>\n",
       "      <td>1</td>\n",
       "      <td>INDIVIDUAL</td>\n",
       "      <td>NaN</td>\n",
       "      <td>NaN</td>\n",
       "      <td>NaN</td>\n",
       "      <td>0</td>\n",
       "      <td>NaN</td>\n",
       "      <td>NaN</td>\n",
       "      <td>NaN</td>\n",
       "      <td>NaN</td>\n",
       "      <td>NaN</td>\n",
       "      <td>NaN</td>\n",
       "      <td>NaN</td>\n",
       "      <td>NaN</td>\n",
       "      <td>NaN</td>\n",
       "      <td>NaN</td>\n",
       "      <td>NaN</td>\n",
       "      <td>NaN</td>\n",
       "      <td>NaN</td>\n",
       "      <td>NaN</td>\n",
       "      <td>NaN</td>\n",
       "      <td>NaN</td>\n",
       "      <td>NaN</td>\n",
       "      <td>NaN</td>\n",
       "      <td>NaN</td>\n",
       "      <td>NaN</td>\n",
       "      <td>NaN</td>\n",
       "      <td>0.0</td>\n",
       "      <td>0</td>\n",
       "      <td>NaN</td>\n",
       "      <td>NaN</td>\n",
       "      <td>NaN</td>\n",
       "      <td>NaN</td>\n",
       "      <td>NaN</td>\n",
       "      <td>NaN</td>\n",
       "      <td>NaN</td>\n",
       "      <td>NaN</td>\n",
       "      <td>NaN</td>\n",
       "      <td>NaN</td>\n",
       "      <td>NaN</td>\n",
       "      <td>NaN</td>\n",
       "      <td>NaN</td>\n",
       "      <td>NaN</td>\n",
       "      <td>NaN</td>\n",
       "      <td>NaN</td>\n",
       "      <td>NaN</td>\n",
       "      <td>NaN</td>\n",
       "      <td>NaN</td>\n",
       "      <td>NaN</td>\n",
       "      <td>NaN</td>\n",
       "      <td>NaN</td>\n",
       "      <td>NaN</td>\n",
       "      <td>NaN</td>\n",
       "      <td>NaN</td>\n",
       "      <td>0.0</td>\n",
       "      <td>0.0</td>\n",
       "      <td>NaN</td>\n",
       "      <td>NaN</td>\n",
       "      <td>NaN</td>\n",
       "      <td>NaN</td>\n",
       "    </tr>\n",
       "    <tr>\n",
       "      <th>4</th>\n",
       "      <td>1075358</td>\n",
       "      <td>1311748</td>\n",
       "      <td>3000</td>\n",
       "      <td>3000</td>\n",
       "      <td>3000.0</td>\n",
       "      <td>60 months</td>\n",
       "      <td>12.69%</td>\n",
       "      <td>67.79</td>\n",
       "      <td>B</td>\n",
       "      <td>B5</td>\n",
       "      <td>University Medical Group</td>\n",
       "      <td>1 year</td>\n",
       "      <td>RENT</td>\n",
       "      <td>80000.0</td>\n",
       "      <td>Source Verified</td>\n",
       "      <td>Dec-11</td>\n",
       "      <td>Current</td>\n",
       "      <td>n</td>\n",
       "      <td>https://lendingclub.com/browse/loanDetail.acti...</td>\n",
       "      <td>Borrower added on 12/21/11 &gt; I plan on combi...</td>\n",
       "      <td>other</td>\n",
       "      <td>Personal</td>\n",
       "      <td>972xx</td>\n",
       "      <td>OR</td>\n",
       "      <td>17.94</td>\n",
       "      <td>0</td>\n",
       "      <td>Jan-96</td>\n",
       "      <td>0</td>\n",
       "      <td>38.0</td>\n",
       "      <td>NaN</td>\n",
       "      <td>15</td>\n",
       "      <td>0</td>\n",
       "      <td>27783</td>\n",
       "      <td>53.90%</td>\n",
       "      <td>38</td>\n",
       "      <td>f</td>\n",
       "      <td>524.06</td>\n",
       "      <td>524.06</td>\n",
       "      <td>3513.330000</td>\n",
       "      <td>3513.33</td>\n",
       "      <td>2475.94</td>\n",
       "      <td>1037.39</td>\n",
       "      <td>0.00</td>\n",
       "      <td>0.00</td>\n",
       "      <td>0.00</td>\n",
       "      <td>May-16</td>\n",
       "      <td>67.79</td>\n",
       "      <td>Jun-16</td>\n",
       "      <td>May-16</td>\n",
       "      <td>0.0</td>\n",
       "      <td>NaN</td>\n",
       "      <td>1</td>\n",
       "      <td>INDIVIDUAL</td>\n",
       "      <td>NaN</td>\n",
       "      <td>NaN</td>\n",
       "      <td>NaN</td>\n",
       "      <td>0</td>\n",
       "      <td>NaN</td>\n",
       "      <td>NaN</td>\n",
       "      <td>NaN</td>\n",
       "      <td>NaN</td>\n",
       "      <td>NaN</td>\n",
       "      <td>NaN</td>\n",
       "      <td>NaN</td>\n",
       "      <td>NaN</td>\n",
       "      <td>NaN</td>\n",
       "      <td>NaN</td>\n",
       "      <td>NaN</td>\n",
       "      <td>NaN</td>\n",
       "      <td>NaN</td>\n",
       "      <td>NaN</td>\n",
       "      <td>NaN</td>\n",
       "      <td>NaN</td>\n",
       "      <td>NaN</td>\n",
       "      <td>NaN</td>\n",
       "      <td>NaN</td>\n",
       "      <td>NaN</td>\n",
       "      <td>NaN</td>\n",
       "      <td>0.0</td>\n",
       "      <td>0</td>\n",
       "      <td>NaN</td>\n",
       "      <td>NaN</td>\n",
       "      <td>NaN</td>\n",
       "      <td>NaN</td>\n",
       "      <td>NaN</td>\n",
       "      <td>NaN</td>\n",
       "      <td>NaN</td>\n",
       "      <td>NaN</td>\n",
       "      <td>NaN</td>\n",
       "      <td>NaN</td>\n",
       "      <td>NaN</td>\n",
       "      <td>NaN</td>\n",
       "      <td>NaN</td>\n",
       "      <td>NaN</td>\n",
       "      <td>NaN</td>\n",
       "      <td>NaN</td>\n",
       "      <td>NaN</td>\n",
       "      <td>NaN</td>\n",
       "      <td>NaN</td>\n",
       "      <td>NaN</td>\n",
       "      <td>NaN</td>\n",
       "      <td>NaN</td>\n",
       "      <td>NaN</td>\n",
       "      <td>NaN</td>\n",
       "      <td>NaN</td>\n",
       "      <td>0.0</td>\n",
       "      <td>0.0</td>\n",
       "      <td>NaN</td>\n",
       "      <td>NaN</td>\n",
       "      <td>NaN</td>\n",
       "      <td>NaN</td>\n",
       "    </tr>\n",
       "  </tbody>\n",
       "</table>\n",
       "</div>"
      ],
      "text/plain": [
       "        id  member_id  loan_amnt  funded_amnt  funded_amnt_inv        term  \\\n",
       "0  1077501    1296599       5000         5000           4975.0   36 months   \n",
       "1  1077430    1314167       2500         2500           2500.0   60 months   \n",
       "2  1077175    1313524       2400         2400           2400.0   36 months   \n",
       "3  1076863    1277178      10000        10000          10000.0   36 months   \n",
       "4  1075358    1311748       3000         3000           3000.0   60 months   \n",
       "\n",
       "  int_rate  installment grade sub_grade                 emp_title emp_length  \\\n",
       "0   10.65%       162.87     B        B2                       NaN  10+ years   \n",
       "1   15.27%        59.83     C        C4                     Ryder   < 1 year   \n",
       "2   15.96%        84.33     C        C5                       NaN  10+ years   \n",
       "3   13.49%       339.31     C        C1       AIR RESOURCES BOARD  10+ years   \n",
       "4   12.69%        67.79     B        B5  University Medical Group     1 year   \n",
       "\n",
       "  home_ownership  annual_inc verification_status issue_d  loan_status  \\\n",
       "0           RENT     24000.0            Verified  Dec-11   Fully Paid   \n",
       "1           RENT     30000.0     Source Verified  Dec-11  Charged Off   \n",
       "2           RENT     12252.0        Not Verified  Dec-11   Fully Paid   \n",
       "3           RENT     49200.0     Source Verified  Dec-11   Fully Paid   \n",
       "4           RENT     80000.0     Source Verified  Dec-11      Current   \n",
       "\n",
       "  pymnt_plan                                                url  \\\n",
       "0          n  https://lendingclub.com/browse/loanDetail.acti...   \n",
       "1          n  https://lendingclub.com/browse/loanDetail.acti...   \n",
       "2          n  https://lendingclub.com/browse/loanDetail.acti...   \n",
       "3          n  https://lendingclub.com/browse/loanDetail.acti...   \n",
       "4          n  https://lendingclub.com/browse/loanDetail.acti...   \n",
       "\n",
       "                                                desc         purpose  \\\n",
       "0    Borrower added on 12/22/11 > I need to upgra...     credit_card   \n",
       "1    Borrower added on 12/22/11 > I plan to use t...             car   \n",
       "2                                                NaN  small_business   \n",
       "3    Borrower added on 12/21/11 > to pay for prop...           other   \n",
       "4    Borrower added on 12/21/11 > I plan on combi...           other   \n",
       "\n",
       "                  title zip_code addr_state    dti  delinq_2yrs  \\\n",
       "0              Computer    860xx         AZ  27.65            0   \n",
       "1                  bike    309xx         GA   1.00            0   \n",
       "2  real estate business    606xx         IL   8.72            0   \n",
       "3              personel    917xx         CA  20.00            0   \n",
       "4              Personal    972xx         OR  17.94            0   \n",
       "\n",
       "  earliest_cr_line  inq_last_6mths  mths_since_last_delinq  \\\n",
       "0           Jan-85               1                     NaN   \n",
       "1           Apr-99               5                     NaN   \n",
       "2           Nov-01               2                     NaN   \n",
       "3           Feb-96               1                    35.0   \n",
       "4           Jan-96               0                    38.0   \n",
       "\n",
       "   mths_since_last_record  open_acc  pub_rec  revol_bal revol_util  total_acc  \\\n",
       "0                     NaN         3        0      13648     83.70%          9   \n",
       "1                     NaN         3        0       1687      9.40%          4   \n",
       "2                     NaN         2        0       2956     98.50%         10   \n",
       "3                     NaN        10        0       5598        21%         37   \n",
       "4                     NaN        15        0      27783     53.90%         38   \n",
       "\n",
       "  initial_list_status  out_prncp  out_prncp_inv   total_pymnt  \\\n",
       "0                   f       0.00           0.00   5863.155187   \n",
       "1                   f       0.00           0.00   1008.710000   \n",
       "2                   f       0.00           0.00   3005.666844   \n",
       "3                   f       0.00           0.00  12231.890000   \n",
       "4                   f     524.06         524.06   3513.330000   \n",
       "\n",
       "   total_pymnt_inv  total_rec_prncp  total_rec_int  total_rec_late_fee  \\\n",
       "0          5833.84          5000.00         863.16                0.00   \n",
       "1          1008.71           456.46         435.17                0.00   \n",
       "2          3005.67          2400.00         605.67                0.00   \n",
       "3         12231.89         10000.00        2214.92               16.97   \n",
       "4          3513.33          2475.94        1037.39                0.00   \n",
       "\n",
       "   recoveries  collection_recovery_fee last_pymnt_d  last_pymnt_amnt  \\\n",
       "0        0.00                     0.00       Jan-15           171.62   \n",
       "1      117.08                     1.11       Apr-13           119.66   \n",
       "2        0.00                     0.00       Jun-14           649.91   \n",
       "3        0.00                     0.00       Jan-15           357.48   \n",
       "4        0.00                     0.00       May-16            67.79   \n",
       "\n",
       "  next_pymnt_d last_credit_pull_d  collections_12_mths_ex_med  \\\n",
       "0          NaN             May-16                         0.0   \n",
       "1          NaN             Sep-13                         0.0   \n",
       "2          NaN             May-16                         0.0   \n",
       "3          NaN             Apr-16                         0.0   \n",
       "4       Jun-16             May-16                         0.0   \n",
       "\n",
       "   mths_since_last_major_derog  policy_code application_type  \\\n",
       "0                          NaN            1       INDIVIDUAL   \n",
       "1                          NaN            1       INDIVIDUAL   \n",
       "2                          NaN            1       INDIVIDUAL   \n",
       "3                          NaN            1       INDIVIDUAL   \n",
       "4                          NaN            1       INDIVIDUAL   \n",
       "\n",
       "   annual_inc_joint  dti_joint  verification_status_joint  acc_now_delinq  \\\n",
       "0               NaN        NaN                        NaN               0   \n",
       "1               NaN        NaN                        NaN               0   \n",
       "2               NaN        NaN                        NaN               0   \n",
       "3               NaN        NaN                        NaN               0   \n",
       "4               NaN        NaN                        NaN               0   \n",
       "\n",
       "   tot_coll_amt  tot_cur_bal  open_acc_6m  open_il_6m  open_il_12m  \\\n",
       "0           NaN          NaN          NaN         NaN          NaN   \n",
       "1           NaN          NaN          NaN         NaN          NaN   \n",
       "2           NaN          NaN          NaN         NaN          NaN   \n",
       "3           NaN          NaN          NaN         NaN          NaN   \n",
       "4           NaN          NaN          NaN         NaN          NaN   \n",
       "\n",
       "   open_il_24m  mths_since_rcnt_il  total_bal_il  il_util  open_rv_12m  \\\n",
       "0          NaN                 NaN           NaN      NaN          NaN   \n",
       "1          NaN                 NaN           NaN      NaN          NaN   \n",
       "2          NaN                 NaN           NaN      NaN          NaN   \n",
       "3          NaN                 NaN           NaN      NaN          NaN   \n",
       "4          NaN                 NaN           NaN      NaN          NaN   \n",
       "\n",
       "   open_rv_24m  max_bal_bc  all_util  total_rev_hi_lim  inq_fi  total_cu_tl  \\\n",
       "0          NaN         NaN       NaN               NaN     NaN          NaN   \n",
       "1          NaN         NaN       NaN               NaN     NaN          NaN   \n",
       "2          NaN         NaN       NaN               NaN     NaN          NaN   \n",
       "3          NaN         NaN       NaN               NaN     NaN          NaN   \n",
       "4          NaN         NaN       NaN               NaN     NaN          NaN   \n",
       "\n",
       "   inq_last_12m  acc_open_past_24mths  avg_cur_bal  bc_open_to_buy  bc_util  \\\n",
       "0           NaN                   NaN          NaN             NaN      NaN   \n",
       "1           NaN                   NaN          NaN             NaN      NaN   \n",
       "2           NaN                   NaN          NaN             NaN      NaN   \n",
       "3           NaN                   NaN          NaN             NaN      NaN   \n",
       "4           NaN                   NaN          NaN             NaN      NaN   \n",
       "\n",
       "   chargeoff_within_12_mths  delinq_amnt  mo_sin_old_il_acct  \\\n",
       "0                       0.0            0                 NaN   \n",
       "1                       0.0            0                 NaN   \n",
       "2                       0.0            0                 NaN   \n",
       "3                       0.0            0                 NaN   \n",
       "4                       0.0            0                 NaN   \n",
       "\n",
       "   mo_sin_old_rev_tl_op  mo_sin_rcnt_rev_tl_op  mo_sin_rcnt_tl  mort_acc  \\\n",
       "0                   NaN                    NaN             NaN       NaN   \n",
       "1                   NaN                    NaN             NaN       NaN   \n",
       "2                   NaN                    NaN             NaN       NaN   \n",
       "3                   NaN                    NaN             NaN       NaN   \n",
       "4                   NaN                    NaN             NaN       NaN   \n",
       "\n",
       "   mths_since_recent_bc  mths_since_recent_bc_dlq  mths_since_recent_inq  \\\n",
       "0                   NaN                       NaN                    NaN   \n",
       "1                   NaN                       NaN                    NaN   \n",
       "2                   NaN                       NaN                    NaN   \n",
       "3                   NaN                       NaN                    NaN   \n",
       "4                   NaN                       NaN                    NaN   \n",
       "\n",
       "   mths_since_recent_revol_delinq  num_accts_ever_120_pd  num_actv_bc_tl  \\\n",
       "0                             NaN                    NaN             NaN   \n",
       "1                             NaN                    NaN             NaN   \n",
       "2                             NaN                    NaN             NaN   \n",
       "3                             NaN                    NaN             NaN   \n",
       "4                             NaN                    NaN             NaN   \n",
       "\n",
       "   num_actv_rev_tl  num_bc_sats  num_bc_tl  num_il_tl  num_op_rev_tl  \\\n",
       "0              NaN          NaN        NaN        NaN            NaN   \n",
       "1              NaN          NaN        NaN        NaN            NaN   \n",
       "2              NaN          NaN        NaN        NaN            NaN   \n",
       "3              NaN          NaN        NaN        NaN            NaN   \n",
       "4              NaN          NaN        NaN        NaN            NaN   \n",
       "\n",
       "   num_rev_accts  num_rev_tl_bal_gt_0  num_sats  num_tl_120dpd_2m  \\\n",
       "0            NaN                  NaN       NaN               NaN   \n",
       "1            NaN                  NaN       NaN               NaN   \n",
       "2            NaN                  NaN       NaN               NaN   \n",
       "3            NaN                  NaN       NaN               NaN   \n",
       "4            NaN                  NaN       NaN               NaN   \n",
       "\n",
       "   num_tl_30dpd  num_tl_90g_dpd_24m  num_tl_op_past_12m  pct_tl_nvr_dlq  \\\n",
       "0           NaN                 NaN                 NaN             NaN   \n",
       "1           NaN                 NaN                 NaN             NaN   \n",
       "2           NaN                 NaN                 NaN             NaN   \n",
       "3           NaN                 NaN                 NaN             NaN   \n",
       "4           NaN                 NaN                 NaN             NaN   \n",
       "\n",
       "   percent_bc_gt_75  pub_rec_bankruptcies  tax_liens  tot_hi_cred_lim  \\\n",
       "0               NaN                   0.0        0.0              NaN   \n",
       "1               NaN                   0.0        0.0              NaN   \n",
       "2               NaN                   0.0        0.0              NaN   \n",
       "3               NaN                   0.0        0.0              NaN   \n",
       "4               NaN                   0.0        0.0              NaN   \n",
       "\n",
       "   total_bal_ex_mort  total_bc_limit  total_il_high_credit_limit  \n",
       "0                NaN             NaN                         NaN  \n",
       "1                NaN             NaN                         NaN  \n",
       "2                NaN             NaN                         NaN  \n",
       "3                NaN             NaN                         NaN  \n",
       "4                NaN             NaN                         NaN  "
      ]
     },
     "execution_count": 115,
     "metadata": {},
     "output_type": "execute_result"
    }
   ],
   "source": [
    "pd.set_option('display.max_rows', 500)\n",
    "pd.set_option('display.max_columns', None)\n",
    "global lc\n",
    "\n",
    "lc  = pd.read_csv('C:\\\\Users\\durganayak\\\\OneDrive - Microsoft\\\\Documents\\\\ML_AI_Learning\\\\Workspace\\\\CodeRepo\\\\LendingClub\\\\loan.csv')\n",
    "\n",
    "lc.head()"
   ]
  },
  {
   "cell_type": "markdown",
   "id": "62d70c58",
   "metadata": {},
   "source": [
    "## Data Handling and Cleaning"
   ]
  },
  {
   "cell_type": "markdown",
   "id": "d7339801",
   "metadata": {},
   "source": [
    "### Missing Values "
   ]
  },
  {
   "cell_type": "code",
   "execution_count": 116,
   "id": "8d408b92",
   "metadata": {},
   "outputs": [
    {
     "name": "stdout",
     "output_type": "stream",
     "text": [
      "(39717, 111)\n",
      "<class 'pandas.core.frame.DataFrame'>\n",
      "RangeIndex: 39717 entries, 0 to 39716\n",
      "Data columns (total 111 columns):\n",
      " #    Column                          Non-Null Count  Dtype  \n",
      "---   ------                          --------------  -----  \n",
      " 0    id                              39717 non-null  int64  \n",
      " 1    member_id                       39717 non-null  int64  \n",
      " 2    loan_amnt                       39717 non-null  int64  \n",
      " 3    funded_amnt                     39717 non-null  int64  \n",
      " 4    funded_amnt_inv                 39717 non-null  float64\n",
      " 5    term                            39717 non-null  object \n",
      " 6    int_rate                        39717 non-null  object \n",
      " 7    installment                     39717 non-null  float64\n",
      " 8    grade                           39717 non-null  object \n",
      " 9    sub_grade                       39717 non-null  object \n",
      " 10   emp_title                       37258 non-null  object \n",
      " 11   emp_length                      38642 non-null  object \n",
      " 12   home_ownership                  39717 non-null  object \n",
      " 13   annual_inc                      39717 non-null  float64\n",
      " 14   verification_status             39717 non-null  object \n",
      " 15   issue_d                         39717 non-null  object \n",
      " 16   loan_status                     39717 non-null  object \n",
      " 17   pymnt_plan                      39717 non-null  object \n",
      " 18   url                             39717 non-null  object \n",
      " 19   desc                            26777 non-null  object \n",
      " 20   purpose                         39717 non-null  object \n",
      " 21   title                           39706 non-null  object \n",
      " 22   zip_code                        39717 non-null  object \n",
      " 23   addr_state                      39717 non-null  object \n",
      " 24   dti                             39717 non-null  float64\n",
      " 25   delinq_2yrs                     39717 non-null  int64  \n",
      " 26   earliest_cr_line                39717 non-null  object \n",
      " 27   inq_last_6mths                  39717 non-null  int64  \n",
      " 28   mths_since_last_delinq          14035 non-null  float64\n",
      " 29   mths_since_last_record          2786 non-null   float64\n",
      " 30   open_acc                        39717 non-null  int64  \n",
      " 31   pub_rec                         39717 non-null  int64  \n",
      " 32   revol_bal                       39717 non-null  int64  \n",
      " 33   revol_util                      39667 non-null  object \n",
      " 34   total_acc                       39717 non-null  int64  \n",
      " 35   initial_list_status             39717 non-null  object \n",
      " 36   out_prncp                       39717 non-null  float64\n",
      " 37   out_prncp_inv                   39717 non-null  float64\n",
      " 38   total_pymnt                     39717 non-null  float64\n",
      " 39   total_pymnt_inv                 39717 non-null  float64\n",
      " 40   total_rec_prncp                 39717 non-null  float64\n",
      " 41   total_rec_int                   39717 non-null  float64\n",
      " 42   total_rec_late_fee              39717 non-null  float64\n",
      " 43   recoveries                      39717 non-null  float64\n",
      " 44   collection_recovery_fee         39717 non-null  float64\n",
      " 45   last_pymnt_d                    39646 non-null  object \n",
      " 46   last_pymnt_amnt                 39717 non-null  float64\n",
      " 47   next_pymnt_d                    1140 non-null   object \n",
      " 48   last_credit_pull_d              39715 non-null  object \n",
      " 49   collections_12_mths_ex_med      39661 non-null  float64\n",
      " 50   mths_since_last_major_derog     0 non-null      float64\n",
      " 51   policy_code                     39717 non-null  int64  \n",
      " 52   application_type                39717 non-null  object \n",
      " 53   annual_inc_joint                0 non-null      float64\n",
      " 54   dti_joint                       0 non-null      float64\n",
      " 55   verification_status_joint       0 non-null      float64\n",
      " 56   acc_now_delinq                  39717 non-null  int64  \n",
      " 57   tot_coll_amt                    0 non-null      float64\n",
      " 58   tot_cur_bal                     0 non-null      float64\n",
      " 59   open_acc_6m                     0 non-null      float64\n",
      " 60   open_il_6m                      0 non-null      float64\n",
      " 61   open_il_12m                     0 non-null      float64\n",
      " 62   open_il_24m                     0 non-null      float64\n",
      " 63   mths_since_rcnt_il              0 non-null      float64\n",
      " 64   total_bal_il                    0 non-null      float64\n",
      " 65   il_util                         0 non-null      float64\n",
      " 66   open_rv_12m                     0 non-null      float64\n",
      " 67   open_rv_24m                     0 non-null      float64\n",
      " 68   max_bal_bc                      0 non-null      float64\n",
      " 69   all_util                        0 non-null      float64\n",
      " 70   total_rev_hi_lim                0 non-null      float64\n",
      " 71   inq_fi                          0 non-null      float64\n",
      " 72   total_cu_tl                     0 non-null      float64\n",
      " 73   inq_last_12m                    0 non-null      float64\n",
      " 74   acc_open_past_24mths            0 non-null      float64\n",
      " 75   avg_cur_bal                     0 non-null      float64\n",
      " 76   bc_open_to_buy                  0 non-null      float64\n",
      " 77   bc_util                         0 non-null      float64\n",
      " 78   chargeoff_within_12_mths        39661 non-null  float64\n",
      " 79   delinq_amnt                     39717 non-null  int64  \n",
      " 80   mo_sin_old_il_acct              0 non-null      float64\n",
      " 81   mo_sin_old_rev_tl_op            0 non-null      float64\n",
      " 82   mo_sin_rcnt_rev_tl_op           0 non-null      float64\n",
      " 83   mo_sin_rcnt_tl                  0 non-null      float64\n",
      " 84   mort_acc                        0 non-null      float64\n",
      " 85   mths_since_recent_bc            0 non-null      float64\n",
      " 86   mths_since_recent_bc_dlq        0 non-null      float64\n",
      " 87   mths_since_recent_inq           0 non-null      float64\n",
      " 88   mths_since_recent_revol_delinq  0 non-null      float64\n",
      " 89   num_accts_ever_120_pd           0 non-null      float64\n",
      " 90   num_actv_bc_tl                  0 non-null      float64\n",
      " 91   num_actv_rev_tl                 0 non-null      float64\n",
      " 92   num_bc_sats                     0 non-null      float64\n",
      " 93   num_bc_tl                       0 non-null      float64\n",
      " 94   num_il_tl                       0 non-null      float64\n",
      " 95   num_op_rev_tl                   0 non-null      float64\n",
      " 96   num_rev_accts                   0 non-null      float64\n",
      " 97   num_rev_tl_bal_gt_0             0 non-null      float64\n",
      " 98   num_sats                        0 non-null      float64\n",
      " 99   num_tl_120dpd_2m                0 non-null      float64\n",
      " 100  num_tl_30dpd                    0 non-null      float64\n",
      " 101  num_tl_90g_dpd_24m              0 non-null      float64\n",
      " 102  num_tl_op_past_12m              0 non-null      float64\n",
      " 103  pct_tl_nvr_dlq                  0 non-null      float64\n",
      " 104  percent_bc_gt_75                0 non-null      float64\n",
      " 105  pub_rec_bankruptcies            39020 non-null  float64\n",
      " 106  tax_liens                       39678 non-null  float64\n",
      " 107  tot_hi_cred_lim                 0 non-null      float64\n",
      " 108  total_bal_ex_mort               0 non-null      float64\n",
      " 109  total_bc_limit                  0 non-null      float64\n",
      " 110  total_il_high_credit_limit      0 non-null      float64\n",
      "dtypes: float64(74), int64(13), object(24)\n",
      "memory usage: 33.6+ MB\n"
     ]
    }
   ],
   "source": [
    "print(lc.shape)\n",
    "lc.info(verbose=True,  show_counts=True)"
   ]
  },
  {
   "cell_type": "markdown",
   "id": "cb6513d3",
   "metadata": {},
   "source": [
    "\n",
    "### drop null columns\n"
   ]
  },
  {
   "cell_type": "code",
   "execution_count": 117,
   "id": "aa6321f9",
   "metadata": {},
   "outputs": [
    {
     "name": "stdout",
     "output_type": "stream",
     "text": [
      "<class 'pandas.core.frame.DataFrame'>\n",
      "RangeIndex: 39717 entries, 0 to 39716\n",
      "Data columns (total 57 columns):\n",
      " #   Column                      Non-Null Count  Dtype  \n",
      "---  ------                      --------------  -----  \n",
      " 0   id                          39717 non-null  int64  \n",
      " 1   member_id                   39717 non-null  int64  \n",
      " 2   loan_amnt                   39717 non-null  int64  \n",
      " 3   funded_amnt                 39717 non-null  int64  \n",
      " 4   funded_amnt_inv             39717 non-null  float64\n",
      " 5   term                        39717 non-null  object \n",
      " 6   int_rate                    39717 non-null  object \n",
      " 7   installment                 39717 non-null  float64\n",
      " 8   grade                       39717 non-null  object \n",
      " 9   sub_grade                   39717 non-null  object \n",
      " 10  emp_title                   37258 non-null  object \n",
      " 11  emp_length                  38642 non-null  object \n",
      " 12  home_ownership              39717 non-null  object \n",
      " 13  annual_inc                  39717 non-null  float64\n",
      " 14  verification_status         39717 non-null  object \n",
      " 15  issue_d                     39717 non-null  object \n",
      " 16  loan_status                 39717 non-null  object \n",
      " 17  pymnt_plan                  39717 non-null  object \n",
      " 18  url                         39717 non-null  object \n",
      " 19  desc                        26777 non-null  object \n",
      " 20  purpose                     39717 non-null  object \n",
      " 21  title                       39706 non-null  object \n",
      " 22  zip_code                    39717 non-null  object \n",
      " 23  addr_state                  39717 non-null  object \n",
      " 24  dti                         39717 non-null  float64\n",
      " 25  delinq_2yrs                 39717 non-null  int64  \n",
      " 26  earliest_cr_line            39717 non-null  object \n",
      " 27  inq_last_6mths              39717 non-null  int64  \n",
      " 28  mths_since_last_delinq      14035 non-null  float64\n",
      " 29  mths_since_last_record      2786 non-null   float64\n",
      " 30  open_acc                    39717 non-null  int64  \n",
      " 31  pub_rec                     39717 non-null  int64  \n",
      " 32  revol_bal                   39717 non-null  int64  \n",
      " 33  revol_util                  39667 non-null  object \n",
      " 34  total_acc                   39717 non-null  int64  \n",
      " 35  initial_list_status         39717 non-null  object \n",
      " 36  out_prncp                   39717 non-null  float64\n",
      " 37  out_prncp_inv               39717 non-null  float64\n",
      " 38  total_pymnt                 39717 non-null  float64\n",
      " 39  total_pymnt_inv             39717 non-null  float64\n",
      " 40  total_rec_prncp             39717 non-null  float64\n",
      " 41  total_rec_int               39717 non-null  float64\n",
      " 42  total_rec_late_fee          39717 non-null  float64\n",
      " 43  recoveries                  39717 non-null  float64\n",
      " 44  collection_recovery_fee     39717 non-null  float64\n",
      " 45  last_pymnt_d                39646 non-null  object \n",
      " 46  last_pymnt_amnt             39717 non-null  float64\n",
      " 47  next_pymnt_d                1140 non-null   object \n",
      " 48  last_credit_pull_d          39715 non-null  object \n",
      " 49  collections_12_mths_ex_med  39661 non-null  float64\n",
      " 50  policy_code                 39717 non-null  int64  \n",
      " 51  application_type            39717 non-null  object \n",
      " 52  acc_now_delinq              39717 non-null  int64  \n",
      " 53  chargeoff_within_12_mths    39661 non-null  float64\n",
      " 54  delinq_amnt                 39717 non-null  int64  \n",
      " 55  pub_rec_bankruptcies        39020 non-null  float64\n",
      " 56  tax_liens                   39678 non-null  float64\n",
      "dtypes: float64(20), int64(13), object(24)\n",
      "memory usage: 17.3+ MB\n"
     ]
    }
   ],
   "source": [
    "lc.dropna(how='all', axis=1, inplace=True)\n",
    "lc.info(verbose=True,  show_counts=True)"
   ]
  },
  {
   "cell_type": "code",
   "execution_count": 118,
   "id": "ead23caa",
   "metadata": {},
   "outputs": [
    {
     "name": "stdout",
     "output_type": "stream",
     "text": [
      "id                                0\n",
      "member_id                         0\n",
      "loan_amnt                         0\n",
      "funded_amnt                       0\n",
      "funded_amnt_inv                   0\n",
      "term                              0\n",
      "int_rate                          0\n",
      "installment                       0\n",
      "grade                             0\n",
      "sub_grade                         0\n",
      "emp_title                      2459\n",
      "emp_length                     1075\n",
      "home_ownership                    0\n",
      "annual_inc                        0\n",
      "verification_status               0\n",
      "issue_d                           0\n",
      "loan_status                       0\n",
      "pymnt_plan                        0\n",
      "url                               0\n",
      "desc                          12940\n",
      "purpose                           0\n",
      "title                            11\n",
      "zip_code                          0\n",
      "addr_state                        0\n",
      "dti                               0\n",
      "delinq_2yrs                       0\n",
      "earliest_cr_line                  0\n",
      "inq_last_6mths                    0\n",
      "mths_since_last_delinq        25682\n",
      "mths_since_last_record        36931\n",
      "open_acc                          0\n",
      "pub_rec                           0\n",
      "revol_bal                         0\n",
      "revol_util                       50\n",
      "total_acc                         0\n",
      "initial_list_status               0\n",
      "out_prncp                         0\n",
      "out_prncp_inv                     0\n",
      "total_pymnt                       0\n",
      "total_pymnt_inv                   0\n",
      "total_rec_prncp                   0\n",
      "total_rec_int                     0\n",
      "total_rec_late_fee                0\n",
      "recoveries                        0\n",
      "collection_recovery_fee           0\n",
      "last_pymnt_d                     71\n",
      "last_pymnt_amnt                   0\n",
      "next_pymnt_d                  38577\n",
      "last_credit_pull_d                2\n",
      "collections_12_mths_ex_med       56\n",
      "policy_code                       0\n",
      "application_type                  0\n",
      "acc_now_delinq                    0\n",
      "chargeoff_within_12_mths         56\n",
      "delinq_amnt                       0\n",
      "pub_rec_bankruptcies            697\n",
      "tax_liens                        39\n",
      "dtype: int64\n"
     ]
    }
   ],
   "source": [
    "print(lc.isnull().sum())\n"
   ]
  },
  {
   "cell_type": "markdown",
   "id": "962799f8",
   "metadata": {},
   "source": [
    "### Drop columns missing more than 70% of the data\n"
   ]
  },
  {
   "cell_type": "code",
   "execution_count": 119,
   "id": "11f8fb30",
   "metadata": {},
   "outputs": [
    {
     "name": "stdout",
     "output_type": "stream",
     "text": [
      "Index(['mths_since_last_record', 'next_pymnt_d'], dtype='object')\n",
      "<class 'pandas.core.frame.DataFrame'>\n",
      "RangeIndex: 39717 entries, 0 to 39716\n",
      "Data columns (total 55 columns):\n",
      " #   Column                      Non-Null Count  Dtype  \n",
      "---  ------                      --------------  -----  \n",
      " 0   id                          39717 non-null  int64  \n",
      " 1   member_id                   39717 non-null  int64  \n",
      " 2   loan_amnt                   39717 non-null  int64  \n",
      " 3   funded_amnt                 39717 non-null  int64  \n",
      " 4   funded_amnt_inv             39717 non-null  float64\n",
      " 5   term                        39717 non-null  object \n",
      " 6   int_rate                    39717 non-null  object \n",
      " 7   installment                 39717 non-null  float64\n",
      " 8   grade                       39717 non-null  object \n",
      " 9   sub_grade                   39717 non-null  object \n",
      " 10  emp_title                   37258 non-null  object \n",
      " 11  emp_length                  38642 non-null  object \n",
      " 12  home_ownership              39717 non-null  object \n",
      " 13  annual_inc                  39717 non-null  float64\n",
      " 14  verification_status         39717 non-null  object \n",
      " 15  issue_d                     39717 non-null  object \n",
      " 16  loan_status                 39717 non-null  object \n",
      " 17  pymnt_plan                  39717 non-null  object \n",
      " 18  url                         39717 non-null  object \n",
      " 19  desc                        26777 non-null  object \n",
      " 20  purpose                     39717 non-null  object \n",
      " 21  title                       39706 non-null  object \n",
      " 22  zip_code                    39717 non-null  object \n",
      " 23  addr_state                  39717 non-null  object \n",
      " 24  dti                         39717 non-null  float64\n",
      " 25  delinq_2yrs                 39717 non-null  int64  \n",
      " 26  earliest_cr_line            39717 non-null  object \n",
      " 27  inq_last_6mths              39717 non-null  int64  \n",
      " 28  mths_since_last_delinq      14035 non-null  float64\n",
      " 29  open_acc                    39717 non-null  int64  \n",
      " 30  pub_rec                     39717 non-null  int64  \n",
      " 31  revol_bal                   39717 non-null  int64  \n",
      " 32  revol_util                  39667 non-null  object \n",
      " 33  total_acc                   39717 non-null  int64  \n",
      " 34  initial_list_status         39717 non-null  object \n",
      " 35  out_prncp                   39717 non-null  float64\n",
      " 36  out_prncp_inv               39717 non-null  float64\n",
      " 37  total_pymnt                 39717 non-null  float64\n",
      " 38  total_pymnt_inv             39717 non-null  float64\n",
      " 39  total_rec_prncp             39717 non-null  float64\n",
      " 40  total_rec_int               39717 non-null  float64\n",
      " 41  total_rec_late_fee          39717 non-null  float64\n",
      " 42  recoveries                  39717 non-null  float64\n",
      " 43  collection_recovery_fee     39717 non-null  float64\n",
      " 44  last_pymnt_d                39646 non-null  object \n",
      " 45  last_pymnt_amnt             39717 non-null  float64\n",
      " 46  last_credit_pull_d          39715 non-null  object \n",
      " 47  collections_12_mths_ex_med  39661 non-null  float64\n",
      " 48  policy_code                 39717 non-null  int64  \n",
      " 49  application_type            39717 non-null  object \n",
      " 50  acc_now_delinq              39717 non-null  int64  \n",
      " 51  chargeoff_within_12_mths    39661 non-null  float64\n",
      " 52  delinq_amnt                 39717 non-null  int64  \n",
      " 53  pub_rec_bankruptcies        39020 non-null  float64\n",
      " 54  tax_liens                   39678 non-null  float64\n",
      "dtypes: float64(19), int64(13), object(23)\n",
      "memory usage: 16.7+ MB\n",
      "None\n"
     ]
    }
   ],
   "source": [
    "print(lc.columns[lc.isnull().mean() > 0.70])\n",
    "lc.drop(lc.columns[lc.isnull().mean() > 0.70], axis=1,  inplace=True)\n",
    "# print(lc.shape)\n",
    "print(lc.info())"
   ]
  },
  {
   "cell_type": "markdown",
   "id": "eeaa66a6",
   "metadata": {},
   "source": [
    "### Analyze Lending Club Attributes With Domain Knowledge"
   ]
  },
  {
   "cell_type": "code",
   "execution_count": 120,
   "id": "4ff8d3ba",
   "metadata": {},
   "outputs": [
    {
     "data": {
      "text/html": [
       "<div>\n",
       "<style scoped>\n",
       "    .dataframe tbody tr th:only-of-type {\n",
       "        vertical-align: middle;\n",
       "    }\n",
       "\n",
       "    .dataframe tbody tr th {\n",
       "        vertical-align: top;\n",
       "    }\n",
       "\n",
       "    .dataframe thead th {\n",
       "        text-align: right;\n",
       "    }\n",
       "</style>\n",
       "<table border=\"1\" class=\"dataframe\">\n",
       "  <thead>\n",
       "    <tr style=\"text-align: right;\">\n",
       "      <th></th>\n",
       "      <th>id</th>\n",
       "      <th>member_id</th>\n",
       "      <th>loan_amnt</th>\n",
       "      <th>funded_amnt</th>\n",
       "      <th>funded_amnt_inv</th>\n",
       "      <th>installment</th>\n",
       "      <th>annual_inc</th>\n",
       "      <th>dti</th>\n",
       "      <th>delinq_2yrs</th>\n",
       "      <th>inq_last_6mths</th>\n",
       "      <th>mths_since_last_delinq</th>\n",
       "      <th>open_acc</th>\n",
       "      <th>pub_rec</th>\n",
       "      <th>revol_bal</th>\n",
       "      <th>total_acc</th>\n",
       "      <th>out_prncp</th>\n",
       "      <th>out_prncp_inv</th>\n",
       "      <th>total_pymnt</th>\n",
       "      <th>total_pymnt_inv</th>\n",
       "      <th>total_rec_prncp</th>\n",
       "      <th>total_rec_int</th>\n",
       "      <th>total_rec_late_fee</th>\n",
       "      <th>recoveries</th>\n",
       "      <th>collection_recovery_fee</th>\n",
       "      <th>last_pymnt_amnt</th>\n",
       "      <th>collections_12_mths_ex_med</th>\n",
       "      <th>policy_code</th>\n",
       "      <th>acc_now_delinq</th>\n",
       "      <th>chargeoff_within_12_mths</th>\n",
       "      <th>delinq_amnt</th>\n",
       "      <th>pub_rec_bankruptcies</th>\n",
       "      <th>tax_liens</th>\n",
       "    </tr>\n",
       "  </thead>\n",
       "  <tbody>\n",
       "    <tr>\n",
       "      <th>count</th>\n",
       "      <td>3.971700e+04</td>\n",
       "      <td>3.971700e+04</td>\n",
       "      <td>39717.000000</td>\n",
       "      <td>39717.000000</td>\n",
       "      <td>39717.000000</td>\n",
       "      <td>39717.000000</td>\n",
       "      <td>3.971700e+04</td>\n",
       "      <td>39717.000000</td>\n",
       "      <td>39717.000000</td>\n",
       "      <td>39717.000000</td>\n",
       "      <td>14035.000000</td>\n",
       "      <td>39717.000000</td>\n",
       "      <td>39717.000000</td>\n",
       "      <td>39717.000000</td>\n",
       "      <td>39717.000000</td>\n",
       "      <td>39717.000000</td>\n",
       "      <td>39717.000000</td>\n",
       "      <td>39717.000000</td>\n",
       "      <td>39717.000000</td>\n",
       "      <td>39717.000000</td>\n",
       "      <td>39717.000000</td>\n",
       "      <td>39717.000000</td>\n",
       "      <td>39717.000000</td>\n",
       "      <td>39717.000000</td>\n",
       "      <td>39717.000000</td>\n",
       "      <td>39661.0</td>\n",
       "      <td>39717.0</td>\n",
       "      <td>39717.0</td>\n",
       "      <td>39661.0</td>\n",
       "      <td>39717.0</td>\n",
       "      <td>39020.000000</td>\n",
       "      <td>39678.0</td>\n",
       "    </tr>\n",
       "    <tr>\n",
       "      <th>mean</th>\n",
       "      <td>6.831319e+05</td>\n",
       "      <td>8.504636e+05</td>\n",
       "      <td>11219.443815</td>\n",
       "      <td>10947.713196</td>\n",
       "      <td>10397.448868</td>\n",
       "      <td>324.561922</td>\n",
       "      <td>6.896893e+04</td>\n",
       "      <td>13.315130</td>\n",
       "      <td>0.146512</td>\n",
       "      <td>0.869200</td>\n",
       "      <td>35.900962</td>\n",
       "      <td>9.294408</td>\n",
       "      <td>0.055065</td>\n",
       "      <td>13382.528086</td>\n",
       "      <td>22.088828</td>\n",
       "      <td>51.227887</td>\n",
       "      <td>50.989768</td>\n",
       "      <td>12153.596544</td>\n",
       "      <td>11567.149118</td>\n",
       "      <td>9793.348813</td>\n",
       "      <td>2263.663172</td>\n",
       "      <td>1.363015</td>\n",
       "      <td>95.221624</td>\n",
       "      <td>12.406112</td>\n",
       "      <td>2678.826162</td>\n",
       "      <td>0.0</td>\n",
       "      <td>1.0</td>\n",
       "      <td>0.0</td>\n",
       "      <td>0.0</td>\n",
       "      <td>0.0</td>\n",
       "      <td>0.043260</td>\n",
       "      <td>0.0</td>\n",
       "    </tr>\n",
       "    <tr>\n",
       "      <th>std</th>\n",
       "      <td>2.106941e+05</td>\n",
       "      <td>2.656783e+05</td>\n",
       "      <td>7456.670694</td>\n",
       "      <td>7187.238670</td>\n",
       "      <td>7128.450439</td>\n",
       "      <td>208.874874</td>\n",
       "      <td>6.379377e+04</td>\n",
       "      <td>6.678594</td>\n",
       "      <td>0.491812</td>\n",
       "      <td>1.070219</td>\n",
       "      <td>22.020060</td>\n",
       "      <td>4.400282</td>\n",
       "      <td>0.237200</td>\n",
       "      <td>15885.016641</td>\n",
       "      <td>11.401709</td>\n",
       "      <td>375.172839</td>\n",
       "      <td>373.824457</td>\n",
       "      <td>9042.040766</td>\n",
       "      <td>8942.672613</td>\n",
       "      <td>7065.522127</td>\n",
       "      <td>2608.111964</td>\n",
       "      <td>7.289979</td>\n",
       "      <td>688.744771</td>\n",
       "      <td>148.671593</td>\n",
       "      <td>4447.136012</td>\n",
       "      <td>0.0</td>\n",
       "      <td>0.0</td>\n",
       "      <td>0.0</td>\n",
       "      <td>0.0</td>\n",
       "      <td>0.0</td>\n",
       "      <td>0.204324</td>\n",
       "      <td>0.0</td>\n",
       "    </tr>\n",
       "    <tr>\n",
       "      <th>min</th>\n",
       "      <td>5.473400e+04</td>\n",
       "      <td>7.069900e+04</td>\n",
       "      <td>500.000000</td>\n",
       "      <td>500.000000</td>\n",
       "      <td>0.000000</td>\n",
       "      <td>15.690000</td>\n",
       "      <td>4.000000e+03</td>\n",
       "      <td>0.000000</td>\n",
       "      <td>0.000000</td>\n",
       "      <td>0.000000</td>\n",
       "      <td>0.000000</td>\n",
       "      <td>2.000000</td>\n",
       "      <td>0.000000</td>\n",
       "      <td>0.000000</td>\n",
       "      <td>2.000000</td>\n",
       "      <td>0.000000</td>\n",
       "      <td>0.000000</td>\n",
       "      <td>0.000000</td>\n",
       "      <td>0.000000</td>\n",
       "      <td>0.000000</td>\n",
       "      <td>0.000000</td>\n",
       "      <td>0.000000</td>\n",
       "      <td>0.000000</td>\n",
       "      <td>0.000000</td>\n",
       "      <td>0.000000</td>\n",
       "      <td>0.0</td>\n",
       "      <td>1.0</td>\n",
       "      <td>0.0</td>\n",
       "      <td>0.0</td>\n",
       "      <td>0.0</td>\n",
       "      <td>0.000000</td>\n",
       "      <td>0.0</td>\n",
       "    </tr>\n",
       "    <tr>\n",
       "      <th>25%</th>\n",
       "      <td>5.162210e+05</td>\n",
       "      <td>6.667800e+05</td>\n",
       "      <td>5500.000000</td>\n",
       "      <td>5400.000000</td>\n",
       "      <td>5000.000000</td>\n",
       "      <td>167.020000</td>\n",
       "      <td>4.040400e+04</td>\n",
       "      <td>8.170000</td>\n",
       "      <td>0.000000</td>\n",
       "      <td>0.000000</td>\n",
       "      <td>18.000000</td>\n",
       "      <td>6.000000</td>\n",
       "      <td>0.000000</td>\n",
       "      <td>3703.000000</td>\n",
       "      <td>13.000000</td>\n",
       "      <td>0.000000</td>\n",
       "      <td>0.000000</td>\n",
       "      <td>5576.930000</td>\n",
       "      <td>5112.310000</td>\n",
       "      <td>4600.000000</td>\n",
       "      <td>662.180000</td>\n",
       "      <td>0.000000</td>\n",
       "      <td>0.000000</td>\n",
       "      <td>0.000000</td>\n",
       "      <td>218.680000</td>\n",
       "      <td>0.0</td>\n",
       "      <td>1.0</td>\n",
       "      <td>0.0</td>\n",
       "      <td>0.0</td>\n",
       "      <td>0.0</td>\n",
       "      <td>0.000000</td>\n",
       "      <td>0.0</td>\n",
       "    </tr>\n",
       "    <tr>\n",
       "      <th>50%</th>\n",
       "      <td>6.656650e+05</td>\n",
       "      <td>8.508120e+05</td>\n",
       "      <td>10000.000000</td>\n",
       "      <td>9600.000000</td>\n",
       "      <td>8975.000000</td>\n",
       "      <td>280.220000</td>\n",
       "      <td>5.900000e+04</td>\n",
       "      <td>13.400000</td>\n",
       "      <td>0.000000</td>\n",
       "      <td>1.000000</td>\n",
       "      <td>34.000000</td>\n",
       "      <td>9.000000</td>\n",
       "      <td>0.000000</td>\n",
       "      <td>8850.000000</td>\n",
       "      <td>20.000000</td>\n",
       "      <td>0.000000</td>\n",
       "      <td>0.000000</td>\n",
       "      <td>9899.640319</td>\n",
       "      <td>9287.150000</td>\n",
       "      <td>8000.000000</td>\n",
       "      <td>1348.910000</td>\n",
       "      <td>0.000000</td>\n",
       "      <td>0.000000</td>\n",
       "      <td>0.000000</td>\n",
       "      <td>546.140000</td>\n",
       "      <td>0.0</td>\n",
       "      <td>1.0</td>\n",
       "      <td>0.0</td>\n",
       "      <td>0.0</td>\n",
       "      <td>0.0</td>\n",
       "      <td>0.000000</td>\n",
       "      <td>0.0</td>\n",
       "    </tr>\n",
       "    <tr>\n",
       "      <th>75%</th>\n",
       "      <td>8.377550e+05</td>\n",
       "      <td>1.047339e+06</td>\n",
       "      <td>15000.000000</td>\n",
       "      <td>15000.000000</td>\n",
       "      <td>14400.000000</td>\n",
       "      <td>430.780000</td>\n",
       "      <td>8.230000e+04</td>\n",
       "      <td>18.600000</td>\n",
       "      <td>0.000000</td>\n",
       "      <td>1.000000</td>\n",
       "      <td>52.000000</td>\n",
       "      <td>12.000000</td>\n",
       "      <td>0.000000</td>\n",
       "      <td>17058.000000</td>\n",
       "      <td>29.000000</td>\n",
       "      <td>0.000000</td>\n",
       "      <td>0.000000</td>\n",
       "      <td>16534.433040</td>\n",
       "      <td>15798.810000</td>\n",
       "      <td>13653.260000</td>\n",
       "      <td>2833.400000</td>\n",
       "      <td>0.000000</td>\n",
       "      <td>0.000000</td>\n",
       "      <td>0.000000</td>\n",
       "      <td>3293.160000</td>\n",
       "      <td>0.0</td>\n",
       "      <td>1.0</td>\n",
       "      <td>0.0</td>\n",
       "      <td>0.0</td>\n",
       "      <td>0.0</td>\n",
       "      <td>0.000000</td>\n",
       "      <td>0.0</td>\n",
       "    </tr>\n",
       "    <tr>\n",
       "      <th>max</th>\n",
       "      <td>1.077501e+06</td>\n",
       "      <td>1.314167e+06</td>\n",
       "      <td>35000.000000</td>\n",
       "      <td>35000.000000</td>\n",
       "      <td>35000.000000</td>\n",
       "      <td>1305.190000</td>\n",
       "      <td>6.000000e+06</td>\n",
       "      <td>29.990000</td>\n",
       "      <td>11.000000</td>\n",
       "      <td>8.000000</td>\n",
       "      <td>120.000000</td>\n",
       "      <td>44.000000</td>\n",
       "      <td>4.000000</td>\n",
       "      <td>149588.000000</td>\n",
       "      <td>90.000000</td>\n",
       "      <td>6311.470000</td>\n",
       "      <td>6307.370000</td>\n",
       "      <td>58563.679930</td>\n",
       "      <td>58563.680000</td>\n",
       "      <td>35000.020000</td>\n",
       "      <td>23563.680000</td>\n",
       "      <td>180.200000</td>\n",
       "      <td>29623.350000</td>\n",
       "      <td>7002.190000</td>\n",
       "      <td>36115.200000</td>\n",
       "      <td>0.0</td>\n",
       "      <td>1.0</td>\n",
       "      <td>0.0</td>\n",
       "      <td>0.0</td>\n",
       "      <td>0.0</td>\n",
       "      <td>2.000000</td>\n",
       "      <td>0.0</td>\n",
       "    </tr>\n",
       "  </tbody>\n",
       "</table>\n",
       "</div>"
      ],
      "text/plain": [
       "                 id     member_id     loan_amnt   funded_amnt  \\\n",
       "count  3.971700e+04  3.971700e+04  39717.000000  39717.000000   \n",
       "mean   6.831319e+05  8.504636e+05  11219.443815  10947.713196   \n",
       "std    2.106941e+05  2.656783e+05   7456.670694   7187.238670   \n",
       "min    5.473400e+04  7.069900e+04    500.000000    500.000000   \n",
       "25%    5.162210e+05  6.667800e+05   5500.000000   5400.000000   \n",
       "50%    6.656650e+05  8.508120e+05  10000.000000   9600.000000   \n",
       "75%    8.377550e+05  1.047339e+06  15000.000000  15000.000000   \n",
       "max    1.077501e+06  1.314167e+06  35000.000000  35000.000000   \n",
       "\n",
       "       funded_amnt_inv   installment    annual_inc           dti  \\\n",
       "count     39717.000000  39717.000000  3.971700e+04  39717.000000   \n",
       "mean      10397.448868    324.561922  6.896893e+04     13.315130   \n",
       "std        7128.450439    208.874874  6.379377e+04      6.678594   \n",
       "min           0.000000     15.690000  4.000000e+03      0.000000   \n",
       "25%        5000.000000    167.020000  4.040400e+04      8.170000   \n",
       "50%        8975.000000    280.220000  5.900000e+04     13.400000   \n",
       "75%       14400.000000    430.780000  8.230000e+04     18.600000   \n",
       "max       35000.000000   1305.190000  6.000000e+06     29.990000   \n",
       "\n",
       "        delinq_2yrs  inq_last_6mths  mths_since_last_delinq      open_acc  \\\n",
       "count  39717.000000    39717.000000            14035.000000  39717.000000   \n",
       "mean       0.146512        0.869200               35.900962      9.294408   \n",
       "std        0.491812        1.070219               22.020060      4.400282   \n",
       "min        0.000000        0.000000                0.000000      2.000000   \n",
       "25%        0.000000        0.000000               18.000000      6.000000   \n",
       "50%        0.000000        1.000000               34.000000      9.000000   \n",
       "75%        0.000000        1.000000               52.000000     12.000000   \n",
       "max       11.000000        8.000000              120.000000     44.000000   \n",
       "\n",
       "            pub_rec      revol_bal     total_acc     out_prncp  out_prncp_inv  \\\n",
       "count  39717.000000   39717.000000  39717.000000  39717.000000   39717.000000   \n",
       "mean       0.055065   13382.528086     22.088828     51.227887      50.989768   \n",
       "std        0.237200   15885.016641     11.401709    375.172839     373.824457   \n",
       "min        0.000000       0.000000      2.000000      0.000000       0.000000   \n",
       "25%        0.000000    3703.000000     13.000000      0.000000       0.000000   \n",
       "50%        0.000000    8850.000000     20.000000      0.000000       0.000000   \n",
       "75%        0.000000   17058.000000     29.000000      0.000000       0.000000   \n",
       "max        4.000000  149588.000000     90.000000   6311.470000    6307.370000   \n",
       "\n",
       "        total_pymnt  total_pymnt_inv  total_rec_prncp  total_rec_int  \\\n",
       "count  39717.000000     39717.000000     39717.000000   39717.000000   \n",
       "mean   12153.596544     11567.149118      9793.348813    2263.663172   \n",
       "std     9042.040766      8942.672613      7065.522127    2608.111964   \n",
       "min        0.000000         0.000000         0.000000       0.000000   \n",
       "25%     5576.930000      5112.310000      4600.000000     662.180000   \n",
       "50%     9899.640319      9287.150000      8000.000000    1348.910000   \n",
       "75%    16534.433040     15798.810000     13653.260000    2833.400000   \n",
       "max    58563.679930     58563.680000     35000.020000   23563.680000   \n",
       "\n",
       "       total_rec_late_fee    recoveries  collection_recovery_fee  \\\n",
       "count        39717.000000  39717.000000             39717.000000   \n",
       "mean             1.363015     95.221624                12.406112   \n",
       "std              7.289979    688.744771               148.671593   \n",
       "min              0.000000      0.000000                 0.000000   \n",
       "25%              0.000000      0.000000                 0.000000   \n",
       "50%              0.000000      0.000000                 0.000000   \n",
       "75%              0.000000      0.000000                 0.000000   \n",
       "max            180.200000  29623.350000              7002.190000   \n",
       "\n",
       "       last_pymnt_amnt  collections_12_mths_ex_med  policy_code  \\\n",
       "count     39717.000000                     39661.0      39717.0   \n",
       "mean       2678.826162                         0.0          1.0   \n",
       "std        4447.136012                         0.0          0.0   \n",
       "min           0.000000                         0.0          1.0   \n",
       "25%         218.680000                         0.0          1.0   \n",
       "50%         546.140000                         0.0          1.0   \n",
       "75%        3293.160000                         0.0          1.0   \n",
       "max       36115.200000                         0.0          1.0   \n",
       "\n",
       "       acc_now_delinq  chargeoff_within_12_mths  delinq_amnt  \\\n",
       "count         39717.0                   39661.0      39717.0   \n",
       "mean              0.0                       0.0          0.0   \n",
       "std               0.0                       0.0          0.0   \n",
       "min               0.0                       0.0          0.0   \n",
       "25%               0.0                       0.0          0.0   \n",
       "50%               0.0                       0.0          0.0   \n",
       "75%               0.0                       0.0          0.0   \n",
       "max               0.0                       0.0          0.0   \n",
       "\n",
       "       pub_rec_bankruptcies  tax_liens  \n",
       "count          39020.000000    39678.0  \n",
       "mean               0.043260        0.0  \n",
       "std                0.204324        0.0  \n",
       "min                0.000000        0.0  \n",
       "25%                0.000000        0.0  \n",
       "50%                0.000000        0.0  \n",
       "75%                0.000000        0.0  \n",
       "max                2.000000        0.0  "
      ]
     },
     "execution_count": 120,
     "metadata": {},
     "output_type": "execute_result"
    }
   ],
   "source": [
    "pd.set_option('display.max_rows', 500)\n",
    "pd.set_option('display.max_columns', None)\n",
    "\n",
    "lc.describe()\n",
    "\n",
    "# lc.apply(lambda x : pd.factorize(x)[0]).corr(method='pearson', min_periods=1).loc['loan_status']\n",
    "# data[data.columns[1:]].corr()['loan_status'][:-1]\n",
    "# lc.corr().loc['loan_status']\n",
    "#lc.columns\n",
    "#draw corr heatmap"
   ]
  },
  {
   "cell_type": "markdown",
   "id": "4e465bd0",
   "metadata": {},
   "source": [
    "### After analyzing the variables there are basically three different kinds of variables \n",
    "####    1.  Variables related to the applicant  (e.g home_ownership)\n",
    "####     2.  Variables related to loan characterstics (e.g loan_amnt\tfunded_amnt\tfunded_amnt_inv\t)\n",
    "####     3. Behavioural variables genarated after loan (e.g delinq_2yrs)\n",
    "\n",
    "#### Since behavioural attributes are absent at the time of loan application, hence those variables can not be used for prediction."
   ]
  },
  {
   "cell_type": "markdown",
   "id": "0b48361c",
   "metadata": {},
   "source": [
    "#### Drop Behaviural Attributes"
   ]
  },
  {
   "cell_type": "code",
   "execution_count": 121,
   "id": "bcb93314",
   "metadata": {},
   "outputs": [],
   "source": [
    " lc.columns\n",
    "# drop behavioural attributes\n",
    "lc.drop(['delinq_2yrs',\n",
    "                 'earliest_cr_line',\n",
    "                 'inq_last_6mths',\n",
    "                 'open_acc',\n",
    "                 'pub_rec',\n",
    "                 'revol_bal',\n",
    "                 'revol_util',\n",
    "                 'total_acc',\n",
    "                 'out_prncp',\n",
    "                 'out_prncp_inv',\n",
    "                 'total_pymnt',\n",
    "                 'total_pymnt_inv',\n",
    "                 'total_rec_prncp',\n",
    "                 'total_rec_int',\n",
    "                 'total_rec_late_fee',\n",
    "                 'recoveries',\n",
    "                 'collection_recovery_fee',\n",
    "                 'last_pymnt_d',\n",
    "                 'last_pymnt_amnt',\n",
    "                 'last_credit_pull_d',\n",
    "                 'delinq_amnt',\n",
    "                 'chargeoff_within_12_mths',\n",
    "                 'acc_now_delinq',\n",
    "                 'collections_12_mths_ex_med',\n",
    "                 'mths_since_last_delinq'\n",
    "                ], axis=1, inplace=True)\n",
    "\n",
    "# lc.head()"
   ]
  },
  {
   "cell_type": "code",
   "execution_count": 122,
   "id": "90c59c8a",
   "metadata": {},
   "outputs": [
    {
     "data": {
      "text/html": [
       "<div>\n",
       "<style scoped>\n",
       "    .dataframe tbody tr th:only-of-type {\n",
       "        vertical-align: middle;\n",
       "    }\n",
       "\n",
       "    .dataframe tbody tr th {\n",
       "        vertical-align: top;\n",
       "    }\n",
       "\n",
       "    .dataframe thead th {\n",
       "        text-align: right;\n",
       "    }\n",
       "</style>\n",
       "<table border=\"1\" class=\"dataframe\">\n",
       "  <thead>\n",
       "    <tr style=\"text-align: right;\">\n",
       "      <th></th>\n",
       "      <th>id</th>\n",
       "      <th>member_id</th>\n",
       "      <th>loan_amnt</th>\n",
       "      <th>funded_amnt</th>\n",
       "      <th>funded_amnt_inv</th>\n",
       "      <th>term</th>\n",
       "      <th>int_rate</th>\n",
       "      <th>installment</th>\n",
       "      <th>grade</th>\n",
       "      <th>sub_grade</th>\n",
       "      <th>emp_title</th>\n",
       "      <th>emp_length</th>\n",
       "      <th>home_ownership</th>\n",
       "      <th>annual_inc</th>\n",
       "      <th>verification_status</th>\n",
       "      <th>issue_d</th>\n",
       "      <th>loan_status</th>\n",
       "      <th>pymnt_plan</th>\n",
       "      <th>url</th>\n",
       "      <th>desc</th>\n",
       "      <th>purpose</th>\n",
       "      <th>title</th>\n",
       "      <th>zip_code</th>\n",
       "      <th>addr_state</th>\n",
       "      <th>dti</th>\n",
       "      <th>initial_list_status</th>\n",
       "      <th>policy_code</th>\n",
       "      <th>application_type</th>\n",
       "      <th>pub_rec_bankruptcies</th>\n",
       "      <th>tax_liens</th>\n",
       "    </tr>\n",
       "  </thead>\n",
       "  <tbody>\n",
       "    <tr>\n",
       "      <th>count</th>\n",
       "      <td>39717.000000</td>\n",
       "      <td>39717.000000</td>\n",
       "      <td>39717.000000</td>\n",
       "      <td>39717.000000</td>\n",
       "      <td>39717.000000</td>\n",
       "      <td>39717.000000</td>\n",
       "      <td>39717.000000</td>\n",
       "      <td>39717.000000</td>\n",
       "      <td>39717.000000</td>\n",
       "      <td>39717.000000</td>\n",
       "      <td>39717.000000</td>\n",
       "      <td>39717.000000</td>\n",
       "      <td>39717.000000</td>\n",
       "      <td>39717.000000</td>\n",
       "      <td>39717.000000</td>\n",
       "      <td>39717.000000</td>\n",
       "      <td>39717.000000</td>\n",
       "      <td>39717.0</td>\n",
       "      <td>39717.000000</td>\n",
       "      <td>39717.000000</td>\n",
       "      <td>39717.000000</td>\n",
       "      <td>39717.000000</td>\n",
       "      <td>39717.000000</td>\n",
       "      <td>39717.000000</td>\n",
       "      <td>39717.000000</td>\n",
       "      <td>39717.0</td>\n",
       "      <td>39717.0</td>\n",
       "      <td>39717.0</td>\n",
       "      <td>39717.000000</td>\n",
       "      <td>39717.000000</td>\n",
       "    </tr>\n",
       "    <tr>\n",
       "      <th>mean</th>\n",
       "      <td>19858.000000</td>\n",
       "      <td>19858.000000</td>\n",
       "      <td>78.881688</td>\n",
       "      <td>104.658484</td>\n",
       "      <td>1096.210212</td>\n",
       "      <td>0.267417</td>\n",
       "      <td>108.484881</td>\n",
       "      <td>6700.507415</td>\n",
       "      <td>1.747891</td>\n",
       "      <td>11.521918</td>\n",
       "      <td>11723.160737</td>\n",
       "      <td>3.855352</td>\n",
       "      <td>0.973941</td>\n",
       "      <td>555.874865</td>\n",
       "      <td>1.103532</td>\n",
       "      <td>12.881008</td>\n",
       "      <td>0.199084</td>\n",
       "      <td>0.0</td>\n",
       "      <td>19858.000000</td>\n",
       "      <td>8879.151270</td>\n",
       "      <td>4.320442</td>\n",
       "      <td>5336.286250</td>\n",
       "      <td>211.140872</td>\n",
       "      <td>12.290581</td>\n",
       "      <td>1214.207317</td>\n",
       "      <td>0.0</td>\n",
       "      <td>0.0</td>\n",
       "      <td>0.0</td>\n",
       "      <td>0.024952</td>\n",
       "      <td>-0.000982</td>\n",
       "    </tr>\n",
       "    <tr>\n",
       "      <th>std</th>\n",
       "      <td>11465.454657</td>\n",
       "      <td>11465.454657</td>\n",
       "      <td>134.210998</td>\n",
       "      <td>179.977949</td>\n",
       "      <td>1982.365012</td>\n",
       "      <td>0.442617</td>\n",
       "      <td>83.923663</td>\n",
       "      <td>4546.003426</td>\n",
       "      <td>1.690579</td>\n",
       "      <td>7.466759</td>\n",
       "      <td>8914.548612</td>\n",
       "      <td>3.476979</td>\n",
       "      <td>0.964550</td>\n",
       "      <td>1105.356434</td>\n",
       "      <td>0.858979</td>\n",
       "      <td>10.993449</td>\n",
       "      <td>0.465683</td>\n",
       "      <td>0.0</td>\n",
       "      <td>11465.454657</td>\n",
       "      <td>8845.410017</td>\n",
       "      <td>2.480870</td>\n",
       "      <td>6156.575709</td>\n",
       "      <td>174.630800</td>\n",
       "      <td>9.784694</td>\n",
       "      <td>748.645137</td>\n",
       "      <td>0.0</td>\n",
       "      <td>0.0</td>\n",
       "      <td>0.0</td>\n",
       "      <td>0.244502</td>\n",
       "      <td>0.031321</td>\n",
       "    </tr>\n",
       "    <tr>\n",
       "      <th>min</th>\n",
       "      <td>0.000000</td>\n",
       "      <td>0.000000</td>\n",
       "      <td>0.000000</td>\n",
       "      <td>0.000000</td>\n",
       "      <td>0.000000</td>\n",
       "      <td>0.000000</td>\n",
       "      <td>0.000000</td>\n",
       "      <td>0.000000</td>\n",
       "      <td>0.000000</td>\n",
       "      <td>0.000000</td>\n",
       "      <td>-1.000000</td>\n",
       "      <td>-1.000000</td>\n",
       "      <td>0.000000</td>\n",
       "      <td>0.000000</td>\n",
       "      <td>0.000000</td>\n",
       "      <td>0.000000</td>\n",
       "      <td>0.000000</td>\n",
       "      <td>0.0</td>\n",
       "      <td>0.000000</td>\n",
       "      <td>-1.000000</td>\n",
       "      <td>0.000000</td>\n",
       "      <td>-1.000000</td>\n",
       "      <td>0.000000</td>\n",
       "      <td>0.000000</td>\n",
       "      <td>0.000000</td>\n",
       "      <td>0.0</td>\n",
       "      <td>0.0</td>\n",
       "      <td>0.0</td>\n",
       "      <td>-1.000000</td>\n",
       "      <td>-1.000000</td>\n",
       "    </tr>\n",
       "    <tr>\n",
       "      <th>25%</th>\n",
       "      <td>9929.000000</td>\n",
       "      <td>9929.000000</td>\n",
       "      <td>9.000000</td>\n",
       "      <td>9.000000</td>\n",
       "      <td>24.000000</td>\n",
       "      <td>0.000000</td>\n",
       "      <td>38.000000</td>\n",
       "      <td>3003.000000</td>\n",
       "      <td>0.000000</td>\n",
       "      <td>5.000000</td>\n",
       "      <td>3357.000000</td>\n",
       "      <td>0.000000</td>\n",
       "      <td>0.000000</td>\n",
       "      <td>23.000000</td>\n",
       "      <td>0.000000</td>\n",
       "      <td>4.000000</td>\n",
       "      <td>0.000000</td>\n",
       "      <td>0.0</td>\n",
       "      <td>9929.000000</td>\n",
       "      <td>-1.000000</td>\n",
       "      <td>3.000000</td>\n",
       "      <td>117.000000</td>\n",
       "      <td>76.000000</td>\n",
       "      <td>3.000000</td>\n",
       "      <td>573.000000</td>\n",
       "      <td>0.0</td>\n",
       "      <td>0.0</td>\n",
       "      <td>0.0</td>\n",
       "      <td>0.000000</td>\n",
       "      <td>0.000000</td>\n",
       "    </tr>\n",
       "    <tr>\n",
       "      <th>50%</th>\n",
       "      <td>19858.000000</td>\n",
       "      <td>19858.000000</td>\n",
       "      <td>32.000000</td>\n",
       "      <td>35.000000</td>\n",
       "      <td>183.000000</td>\n",
       "      <td>0.000000</td>\n",
       "      <td>106.000000</td>\n",
       "      <td>6496.000000</td>\n",
       "      <td>1.000000</td>\n",
       "      <td>12.000000</td>\n",
       "      <td>10623.000000</td>\n",
       "      <td>3.000000</td>\n",
       "      <td>1.000000</td>\n",
       "      <td>77.000000</td>\n",
       "      <td>1.000000</td>\n",
       "      <td>10.000000</td>\n",
       "      <td>0.000000</td>\n",
       "      <td>0.0</td>\n",
       "      <td>19858.000000</td>\n",
       "      <td>6704.000000</td>\n",
       "      <td>5.000000</td>\n",
       "      <td>2200.000000</td>\n",
       "      <td>162.000000</td>\n",
       "      <td>11.000000</td>\n",
       "      <td>1170.000000</td>\n",
       "      <td>0.0</td>\n",
       "      <td>0.0</td>\n",
       "      <td>0.0</td>\n",
       "      <td>0.000000</td>\n",
       "      <td>0.000000</td>\n",
       "    </tr>\n",
       "    <tr>\n",
       "      <th>75%</th>\n",
       "      <td>29787.000000</td>\n",
       "      <td>29787.000000</td>\n",
       "      <td>80.000000</td>\n",
       "      <td>97.000000</td>\n",
       "      <td>888.000000</td>\n",
       "      <td>1.000000</td>\n",
       "      <td>173.000000</td>\n",
       "      <td>10531.000000</td>\n",
       "      <td>2.000000</td>\n",
       "      <td>17.000000</td>\n",
       "      <td>19320.000000</td>\n",
       "      <td>7.000000</td>\n",
       "      <td>2.000000</td>\n",
       "      <td>362.000000</td>\n",
       "      <td>2.000000</td>\n",
       "      <td>19.000000</td>\n",
       "      <td>0.000000</td>\n",
       "      <td>0.0</td>\n",
       "      <td>29787.000000</td>\n",
       "      <td>16625.000000</td>\n",
       "      <td>5.000000</td>\n",
       "      <td>10028.000000</td>\n",
       "      <td>315.000000</td>\n",
       "      <td>17.000000</td>\n",
       "      <td>1808.000000</td>\n",
       "      <td>0.0</td>\n",
       "      <td>0.0</td>\n",
       "      <td>0.0</td>\n",
       "      <td>0.000000</td>\n",
       "      <td>0.000000</td>\n",
       "    </tr>\n",
       "    <tr>\n",
       "      <th>max</th>\n",
       "      <td>39716.000000</td>\n",
       "      <td>39716.000000</td>\n",
       "      <td>884.000000</td>\n",
       "      <td>1040.000000</td>\n",
       "      <td>8204.000000</td>\n",
       "      <td>1.000000</td>\n",
       "      <td>370.000000</td>\n",
       "      <td>15382.000000</td>\n",
       "      <td>6.000000</td>\n",
       "      <td>34.000000</td>\n",
       "      <td>28819.000000</td>\n",
       "      <td>10.000000</td>\n",
       "      <td>4.000000</td>\n",
       "      <td>5317.000000</td>\n",
       "      <td>2.000000</td>\n",
       "      <td>54.000000</td>\n",
       "      <td>2.000000</td>\n",
       "      <td>0.0</td>\n",
       "      <td>39716.000000</td>\n",
       "      <td>26526.000000</td>\n",
       "      <td>13.000000</td>\n",
       "      <td>19614.000000</td>\n",
       "      <td>822.000000</td>\n",
       "      <td>49.000000</td>\n",
       "      <td>2867.000000</td>\n",
       "      <td>0.0</td>\n",
       "      <td>0.0</td>\n",
       "      <td>0.0</td>\n",
       "      <td>2.000000</td>\n",
       "      <td>0.000000</td>\n",
       "    </tr>\n",
       "  </tbody>\n",
       "</table>\n",
       "</div>"
      ],
      "text/plain": [
       "                 id     member_id     loan_amnt   funded_amnt  \\\n",
       "count  39717.000000  39717.000000  39717.000000  39717.000000   \n",
       "mean   19858.000000  19858.000000     78.881688    104.658484   \n",
       "std    11465.454657  11465.454657    134.210998    179.977949   \n",
       "min        0.000000      0.000000      0.000000      0.000000   \n",
       "25%     9929.000000   9929.000000      9.000000      9.000000   \n",
       "50%    19858.000000  19858.000000     32.000000     35.000000   \n",
       "75%    29787.000000  29787.000000     80.000000     97.000000   \n",
       "max    39716.000000  39716.000000    884.000000   1040.000000   \n",
       "\n",
       "       funded_amnt_inv          term      int_rate   installment  \\\n",
       "count     39717.000000  39717.000000  39717.000000  39717.000000   \n",
       "mean       1096.210212      0.267417    108.484881   6700.507415   \n",
       "std        1982.365012      0.442617     83.923663   4546.003426   \n",
       "min           0.000000      0.000000      0.000000      0.000000   \n",
       "25%          24.000000      0.000000     38.000000   3003.000000   \n",
       "50%         183.000000      0.000000    106.000000   6496.000000   \n",
       "75%         888.000000      1.000000    173.000000  10531.000000   \n",
       "max        8204.000000      1.000000    370.000000  15382.000000   \n",
       "\n",
       "              grade     sub_grade     emp_title    emp_length  home_ownership  \\\n",
       "count  39717.000000  39717.000000  39717.000000  39717.000000    39717.000000   \n",
       "mean       1.747891     11.521918  11723.160737      3.855352        0.973941   \n",
       "std        1.690579      7.466759   8914.548612      3.476979        0.964550   \n",
       "min        0.000000      0.000000     -1.000000     -1.000000        0.000000   \n",
       "25%        0.000000      5.000000   3357.000000      0.000000        0.000000   \n",
       "50%        1.000000     12.000000  10623.000000      3.000000        1.000000   \n",
       "75%        2.000000     17.000000  19320.000000      7.000000        2.000000   \n",
       "max        6.000000     34.000000  28819.000000     10.000000        4.000000   \n",
       "\n",
       "         annual_inc  verification_status       issue_d   loan_status  \\\n",
       "count  39717.000000         39717.000000  39717.000000  39717.000000   \n",
       "mean     555.874865             1.103532     12.881008      0.199084   \n",
       "std     1105.356434             0.858979     10.993449      0.465683   \n",
       "min        0.000000             0.000000      0.000000      0.000000   \n",
       "25%       23.000000             0.000000      4.000000      0.000000   \n",
       "50%       77.000000             1.000000     10.000000      0.000000   \n",
       "75%      362.000000             2.000000     19.000000      0.000000   \n",
       "max     5317.000000             2.000000     54.000000      2.000000   \n",
       "\n",
       "       pymnt_plan           url          desc       purpose         title  \\\n",
       "count     39717.0  39717.000000  39717.000000  39717.000000  39717.000000   \n",
       "mean          0.0  19858.000000   8879.151270      4.320442   5336.286250   \n",
       "std           0.0  11465.454657   8845.410017      2.480870   6156.575709   \n",
       "min           0.0      0.000000     -1.000000      0.000000     -1.000000   \n",
       "25%           0.0   9929.000000     -1.000000      3.000000    117.000000   \n",
       "50%           0.0  19858.000000   6704.000000      5.000000   2200.000000   \n",
       "75%           0.0  29787.000000  16625.000000      5.000000  10028.000000   \n",
       "max           0.0  39716.000000  26526.000000     13.000000  19614.000000   \n",
       "\n",
       "           zip_code    addr_state           dti  initial_list_status  \\\n",
       "count  39717.000000  39717.000000  39717.000000              39717.0   \n",
       "mean     211.140872     12.290581   1214.207317                  0.0   \n",
       "std      174.630800      9.784694    748.645137                  0.0   \n",
       "min        0.000000      0.000000      0.000000                  0.0   \n",
       "25%       76.000000      3.000000    573.000000                  0.0   \n",
       "50%      162.000000     11.000000   1170.000000                  0.0   \n",
       "75%      315.000000     17.000000   1808.000000                  0.0   \n",
       "max      822.000000     49.000000   2867.000000                  0.0   \n",
       "\n",
       "       policy_code  application_type  pub_rec_bankruptcies     tax_liens  \n",
       "count      39717.0           39717.0          39717.000000  39717.000000  \n",
       "mean           0.0               0.0              0.024952     -0.000982  \n",
       "std            0.0               0.0              0.244502      0.031321  \n",
       "min            0.0               0.0             -1.000000     -1.000000  \n",
       "25%            0.0               0.0              0.000000      0.000000  \n",
       "50%            0.0               0.0              0.000000      0.000000  \n",
       "75%            0.0               0.0              0.000000      0.000000  \n",
       "max            0.0               0.0              2.000000      0.000000  "
      ]
     },
     "execution_count": 122,
     "metadata": {},
     "output_type": "execute_result"
    }
   ],
   "source": [
    "lc.apply(lambda x : pd.factorize(x)[0]).describe()"
   ]
  },
  {
   "cell_type": "markdown",
   "id": "2fefc870",
   "metadata": {},
   "source": [
    "#### Drop attributes having constant values (zero standard deviation) and has no impact on target variables"
   ]
  },
  {
   "cell_type": "code",
   "execution_count": 123,
   "id": "a667b2dd",
   "metadata": {},
   "outputs": [],
   "source": [
    "def analyze_variable(name):\n",
    "    print(lc.shape)\n",
    "    print('Non Null Values', name, '  = ', lc[name].value_counts().sum())\n",
    "    print('Null Values', name, '  = ',lc[name].isnull().sum())\n",
    "    lcm = lc[~lc[name].isnull()]\n",
    "    print('Mode = ', lcm[name].mode())\n",
    "    print('DataType = ', lc[name].dtype)\n",
    "    print(lc[name].value_counts())\n",
    "    print('========================')"
   ]
  },
  {
   "cell_type": "code",
   "execution_count": 124,
   "id": "73445ce1",
   "metadata": {},
   "outputs": [
    {
     "name": "stdout",
     "output_type": "stream",
     "text": [
      "0.0    39678\n",
      "Name: tax_liens, dtype: int64\n",
      "1    39717\n",
      "Name: policy_code, dtype: int64\n",
      "f    39717\n",
      "Name: initial_list_status, dtype: int64\n"
     ]
    }
   ],
   "source": [
    "lc.shape\n",
    "print(lc['tax_liens'].value_counts())\n",
    "print(lc['policy_code'].value_counts())\n",
    "print(lc.initial_list_status.value_counts())\n",
    "\n",
    "lc.drop(['application_type',\n",
    "'tax_liens', 'policy_code', 'initial_list_status', 'pymnt_plan', 'url'], axis=1, inplace=True)\n",
    "\n",
    "\n",
    "\n",
    "\n"
   ]
  },
  {
   "cell_type": "code",
   "execution_count": null,
   "id": "012a9d09",
   "metadata": {
    "scrolled": true
   },
   "outputs": [],
   "source": []
  },
  {
   "cell_type": "code",
   "execution_count": 125,
   "id": "b76c80e2",
   "metadata": {},
   "outputs": [
    {
     "data": {
      "text/html": [
       "<div>\n",
       "<style scoped>\n",
       "    .dataframe tbody tr th:only-of-type {\n",
       "        vertical-align: middle;\n",
       "    }\n",
       "\n",
       "    .dataframe tbody tr th {\n",
       "        vertical-align: top;\n",
       "    }\n",
       "\n",
       "    .dataframe thead th {\n",
       "        text-align: right;\n",
       "    }\n",
       "</style>\n",
       "<table border=\"1\" class=\"dataframe\">\n",
       "  <thead>\n",
       "    <tr style=\"text-align: right;\">\n",
       "      <th></th>\n",
       "      <th>id</th>\n",
       "      <th>member_id</th>\n",
       "      <th>loan_amnt</th>\n",
       "      <th>funded_amnt</th>\n",
       "      <th>funded_amnt_inv</th>\n",
       "      <th>term</th>\n",
       "      <th>int_rate</th>\n",
       "      <th>installment</th>\n",
       "      <th>grade</th>\n",
       "      <th>sub_grade</th>\n",
       "      <th>emp_title</th>\n",
       "      <th>emp_length</th>\n",
       "      <th>home_ownership</th>\n",
       "      <th>annual_inc</th>\n",
       "      <th>verification_status</th>\n",
       "      <th>issue_d</th>\n",
       "      <th>loan_status</th>\n",
       "      <th>desc</th>\n",
       "      <th>purpose</th>\n",
       "      <th>title</th>\n",
       "      <th>zip_code</th>\n",
       "      <th>addr_state</th>\n",
       "      <th>dti</th>\n",
       "      <th>pub_rec_bankruptcies</th>\n",
       "    </tr>\n",
       "  </thead>\n",
       "  <tbody>\n",
       "    <tr>\n",
       "      <th>count</th>\n",
       "      <td>39717.000000</td>\n",
       "      <td>39717.000000</td>\n",
       "      <td>39717.000000</td>\n",
       "      <td>39717.000000</td>\n",
       "      <td>39717.000000</td>\n",
       "      <td>39717.000000</td>\n",
       "      <td>39717.000000</td>\n",
       "      <td>39717.000000</td>\n",
       "      <td>39717.000000</td>\n",
       "      <td>39717.000000</td>\n",
       "      <td>39717.000000</td>\n",
       "      <td>39717.000000</td>\n",
       "      <td>39717.000000</td>\n",
       "      <td>39717.000000</td>\n",
       "      <td>39717.000000</td>\n",
       "      <td>39717.000000</td>\n",
       "      <td>39717.000000</td>\n",
       "      <td>39717.000000</td>\n",
       "      <td>39717.000000</td>\n",
       "      <td>39717.000000</td>\n",
       "      <td>39717.000000</td>\n",
       "      <td>39717.000000</td>\n",
       "      <td>39717.000000</td>\n",
       "      <td>39717.000000</td>\n",
       "    </tr>\n",
       "    <tr>\n",
       "      <th>mean</th>\n",
       "      <td>19858.000000</td>\n",
       "      <td>19858.000000</td>\n",
       "      <td>78.881688</td>\n",
       "      <td>104.658484</td>\n",
       "      <td>1096.210212</td>\n",
       "      <td>0.267417</td>\n",
       "      <td>108.484881</td>\n",
       "      <td>6700.507415</td>\n",
       "      <td>1.747891</td>\n",
       "      <td>11.521918</td>\n",
       "      <td>11723.160737</td>\n",
       "      <td>3.855352</td>\n",
       "      <td>0.973941</td>\n",
       "      <td>555.874865</td>\n",
       "      <td>1.103532</td>\n",
       "      <td>12.881008</td>\n",
       "      <td>0.199084</td>\n",
       "      <td>8879.151270</td>\n",
       "      <td>4.320442</td>\n",
       "      <td>5336.286250</td>\n",
       "      <td>211.140872</td>\n",
       "      <td>12.290581</td>\n",
       "      <td>1214.207317</td>\n",
       "      <td>0.024952</td>\n",
       "    </tr>\n",
       "    <tr>\n",
       "      <th>std</th>\n",
       "      <td>11465.454657</td>\n",
       "      <td>11465.454657</td>\n",
       "      <td>134.210998</td>\n",
       "      <td>179.977949</td>\n",
       "      <td>1982.365012</td>\n",
       "      <td>0.442617</td>\n",
       "      <td>83.923663</td>\n",
       "      <td>4546.003426</td>\n",
       "      <td>1.690579</td>\n",
       "      <td>7.466759</td>\n",
       "      <td>8914.548612</td>\n",
       "      <td>3.476979</td>\n",
       "      <td>0.964550</td>\n",
       "      <td>1105.356434</td>\n",
       "      <td>0.858979</td>\n",
       "      <td>10.993449</td>\n",
       "      <td>0.465683</td>\n",
       "      <td>8845.410017</td>\n",
       "      <td>2.480870</td>\n",
       "      <td>6156.575709</td>\n",
       "      <td>174.630800</td>\n",
       "      <td>9.784694</td>\n",
       "      <td>748.645137</td>\n",
       "      <td>0.244502</td>\n",
       "    </tr>\n",
       "    <tr>\n",
       "      <th>min</th>\n",
       "      <td>0.000000</td>\n",
       "      <td>0.000000</td>\n",
       "      <td>0.000000</td>\n",
       "      <td>0.000000</td>\n",
       "      <td>0.000000</td>\n",
       "      <td>0.000000</td>\n",
       "      <td>0.000000</td>\n",
       "      <td>0.000000</td>\n",
       "      <td>0.000000</td>\n",
       "      <td>0.000000</td>\n",
       "      <td>-1.000000</td>\n",
       "      <td>-1.000000</td>\n",
       "      <td>0.000000</td>\n",
       "      <td>0.000000</td>\n",
       "      <td>0.000000</td>\n",
       "      <td>0.000000</td>\n",
       "      <td>0.000000</td>\n",
       "      <td>-1.000000</td>\n",
       "      <td>0.000000</td>\n",
       "      <td>-1.000000</td>\n",
       "      <td>0.000000</td>\n",
       "      <td>0.000000</td>\n",
       "      <td>0.000000</td>\n",
       "      <td>-1.000000</td>\n",
       "    </tr>\n",
       "    <tr>\n",
       "      <th>25%</th>\n",
       "      <td>9929.000000</td>\n",
       "      <td>9929.000000</td>\n",
       "      <td>9.000000</td>\n",
       "      <td>9.000000</td>\n",
       "      <td>24.000000</td>\n",
       "      <td>0.000000</td>\n",
       "      <td>38.000000</td>\n",
       "      <td>3003.000000</td>\n",
       "      <td>0.000000</td>\n",
       "      <td>5.000000</td>\n",
       "      <td>3357.000000</td>\n",
       "      <td>0.000000</td>\n",
       "      <td>0.000000</td>\n",
       "      <td>23.000000</td>\n",
       "      <td>0.000000</td>\n",
       "      <td>4.000000</td>\n",
       "      <td>0.000000</td>\n",
       "      <td>-1.000000</td>\n",
       "      <td>3.000000</td>\n",
       "      <td>117.000000</td>\n",
       "      <td>76.000000</td>\n",
       "      <td>3.000000</td>\n",
       "      <td>573.000000</td>\n",
       "      <td>0.000000</td>\n",
       "    </tr>\n",
       "    <tr>\n",
       "      <th>50%</th>\n",
       "      <td>19858.000000</td>\n",
       "      <td>19858.000000</td>\n",
       "      <td>32.000000</td>\n",
       "      <td>35.000000</td>\n",
       "      <td>183.000000</td>\n",
       "      <td>0.000000</td>\n",
       "      <td>106.000000</td>\n",
       "      <td>6496.000000</td>\n",
       "      <td>1.000000</td>\n",
       "      <td>12.000000</td>\n",
       "      <td>10623.000000</td>\n",
       "      <td>3.000000</td>\n",
       "      <td>1.000000</td>\n",
       "      <td>77.000000</td>\n",
       "      <td>1.000000</td>\n",
       "      <td>10.000000</td>\n",
       "      <td>0.000000</td>\n",
       "      <td>6704.000000</td>\n",
       "      <td>5.000000</td>\n",
       "      <td>2200.000000</td>\n",
       "      <td>162.000000</td>\n",
       "      <td>11.000000</td>\n",
       "      <td>1170.000000</td>\n",
       "      <td>0.000000</td>\n",
       "    </tr>\n",
       "    <tr>\n",
       "      <th>75%</th>\n",
       "      <td>29787.000000</td>\n",
       "      <td>29787.000000</td>\n",
       "      <td>80.000000</td>\n",
       "      <td>97.000000</td>\n",
       "      <td>888.000000</td>\n",
       "      <td>1.000000</td>\n",
       "      <td>173.000000</td>\n",
       "      <td>10531.000000</td>\n",
       "      <td>2.000000</td>\n",
       "      <td>17.000000</td>\n",
       "      <td>19320.000000</td>\n",
       "      <td>7.000000</td>\n",
       "      <td>2.000000</td>\n",
       "      <td>362.000000</td>\n",
       "      <td>2.000000</td>\n",
       "      <td>19.000000</td>\n",
       "      <td>0.000000</td>\n",
       "      <td>16625.000000</td>\n",
       "      <td>5.000000</td>\n",
       "      <td>10028.000000</td>\n",
       "      <td>315.000000</td>\n",
       "      <td>17.000000</td>\n",
       "      <td>1808.000000</td>\n",
       "      <td>0.000000</td>\n",
       "    </tr>\n",
       "    <tr>\n",
       "      <th>max</th>\n",
       "      <td>39716.000000</td>\n",
       "      <td>39716.000000</td>\n",
       "      <td>884.000000</td>\n",
       "      <td>1040.000000</td>\n",
       "      <td>8204.000000</td>\n",
       "      <td>1.000000</td>\n",
       "      <td>370.000000</td>\n",
       "      <td>15382.000000</td>\n",
       "      <td>6.000000</td>\n",
       "      <td>34.000000</td>\n",
       "      <td>28819.000000</td>\n",
       "      <td>10.000000</td>\n",
       "      <td>4.000000</td>\n",
       "      <td>5317.000000</td>\n",
       "      <td>2.000000</td>\n",
       "      <td>54.000000</td>\n",
       "      <td>2.000000</td>\n",
       "      <td>26526.000000</td>\n",
       "      <td>13.000000</td>\n",
       "      <td>19614.000000</td>\n",
       "      <td>822.000000</td>\n",
       "      <td>49.000000</td>\n",
       "      <td>2867.000000</td>\n",
       "      <td>2.000000</td>\n",
       "    </tr>\n",
       "  </tbody>\n",
       "</table>\n",
       "</div>"
      ],
      "text/plain": [
       "                 id     member_id     loan_amnt   funded_amnt  \\\n",
       "count  39717.000000  39717.000000  39717.000000  39717.000000   \n",
       "mean   19858.000000  19858.000000     78.881688    104.658484   \n",
       "std    11465.454657  11465.454657    134.210998    179.977949   \n",
       "min        0.000000      0.000000      0.000000      0.000000   \n",
       "25%     9929.000000   9929.000000      9.000000      9.000000   \n",
       "50%    19858.000000  19858.000000     32.000000     35.000000   \n",
       "75%    29787.000000  29787.000000     80.000000     97.000000   \n",
       "max    39716.000000  39716.000000    884.000000   1040.000000   \n",
       "\n",
       "       funded_amnt_inv          term      int_rate   installment  \\\n",
       "count     39717.000000  39717.000000  39717.000000  39717.000000   \n",
       "mean       1096.210212      0.267417    108.484881   6700.507415   \n",
       "std        1982.365012      0.442617     83.923663   4546.003426   \n",
       "min           0.000000      0.000000      0.000000      0.000000   \n",
       "25%          24.000000      0.000000     38.000000   3003.000000   \n",
       "50%         183.000000      0.000000    106.000000   6496.000000   \n",
       "75%         888.000000      1.000000    173.000000  10531.000000   \n",
       "max        8204.000000      1.000000    370.000000  15382.000000   \n",
       "\n",
       "              grade     sub_grade     emp_title    emp_length  home_ownership  \\\n",
       "count  39717.000000  39717.000000  39717.000000  39717.000000    39717.000000   \n",
       "mean       1.747891     11.521918  11723.160737      3.855352        0.973941   \n",
       "std        1.690579      7.466759   8914.548612      3.476979        0.964550   \n",
       "min        0.000000      0.000000     -1.000000     -1.000000        0.000000   \n",
       "25%        0.000000      5.000000   3357.000000      0.000000        0.000000   \n",
       "50%        1.000000     12.000000  10623.000000      3.000000        1.000000   \n",
       "75%        2.000000     17.000000  19320.000000      7.000000        2.000000   \n",
       "max        6.000000     34.000000  28819.000000     10.000000        4.000000   \n",
       "\n",
       "         annual_inc  verification_status       issue_d   loan_status  \\\n",
       "count  39717.000000         39717.000000  39717.000000  39717.000000   \n",
       "mean     555.874865             1.103532     12.881008      0.199084   \n",
       "std     1105.356434             0.858979     10.993449      0.465683   \n",
       "min        0.000000             0.000000      0.000000      0.000000   \n",
       "25%       23.000000             0.000000      4.000000      0.000000   \n",
       "50%       77.000000             1.000000     10.000000      0.000000   \n",
       "75%      362.000000             2.000000     19.000000      0.000000   \n",
       "max     5317.000000             2.000000     54.000000      2.000000   \n",
       "\n",
       "               desc       purpose         title      zip_code    addr_state  \\\n",
       "count  39717.000000  39717.000000  39717.000000  39717.000000  39717.000000   \n",
       "mean    8879.151270      4.320442   5336.286250    211.140872     12.290581   \n",
       "std     8845.410017      2.480870   6156.575709    174.630800      9.784694   \n",
       "min       -1.000000      0.000000     -1.000000      0.000000      0.000000   \n",
       "25%       -1.000000      3.000000    117.000000     76.000000      3.000000   \n",
       "50%     6704.000000      5.000000   2200.000000    162.000000     11.000000   \n",
       "75%    16625.000000      5.000000  10028.000000    315.000000     17.000000   \n",
       "max    26526.000000     13.000000  19614.000000    822.000000     49.000000   \n",
       "\n",
       "                dti  pub_rec_bankruptcies  \n",
       "count  39717.000000          39717.000000  \n",
       "mean    1214.207317              0.024952  \n",
       "std      748.645137              0.244502  \n",
       "min        0.000000             -1.000000  \n",
       "25%      573.000000              0.000000  \n",
       "50%     1170.000000              0.000000  \n",
       "75%     1808.000000              0.000000  \n",
       "max     2867.000000              2.000000  "
      ]
     },
     "execution_count": 125,
     "metadata": {},
     "output_type": "execute_result"
    }
   ],
   "source": [
    "lc.apply(lambda x : pd.factorize(x)[0]).describe()\n"
   ]
  },
  {
   "cell_type": "markdown",
   "id": "b7e15311",
   "metadata": {},
   "source": [
    "#### Correct data types"
   ]
  },
  {
   "cell_type": "markdown",
   "id": "10580a7b",
   "metadata": {},
   "source": [
    "##### Make int rate as float instead of string"
   ]
  },
  {
   "cell_type": "code",
   "execution_count": 126,
   "id": "5b0053d0",
   "metadata": {},
   "outputs": [
    {
     "name": "stdout",
     "output_type": "stream",
     "text": [
      "(39717, 24)\n",
      "Non Null Values term   =  39717\n",
      "Null Values term   =  0\n",
      "Mode =  0     36 months\n",
      "Name: term, dtype: object\n",
      "DataType =  object\n",
      " 36 months    29096\n",
      " 60 months    10621\n",
      "Name: term, dtype: int64\n",
      "========================\n",
      "(39717, 24)\n",
      "Non Null Values term   =  39717\n",
      "Null Values term   =  0\n",
      "Mode =  0    36\n",
      "Name: term, dtype: object\n",
      "DataType =  object\n",
      "36    29096\n",
      "60    10621\n",
      "Name: term, dtype: int64\n",
      "========================\n"
     ]
    }
   ],
   "source": [
    "#analyze term variable\n",
    "\n",
    "analyze_variable('term')\n",
    "\n",
    "lc.term = lc.term.apply(lambda x: re.findall('\\d+', str(x))[0])\n",
    "analyze_variable('term')\n"
   ]
  },
  {
   "cell_type": "code",
   "execution_count": 127,
   "id": "89dd45f9",
   "metadata": {},
   "outputs": [
    {
     "data": {
      "text/plain": [
       "id                        int64\n",
       "member_id                 int64\n",
       "loan_amnt                 int64\n",
       "funded_amnt               int64\n",
       "funded_amnt_inv         float64\n",
       "term                     object\n",
       "int_rate                float64\n",
       "installment             float64\n",
       "grade                    object\n",
       "sub_grade                object\n",
       "emp_title                object\n",
       "emp_length               object\n",
       "home_ownership           object\n",
       "annual_inc              float64\n",
       "verification_status      object\n",
       "issue_d                  object\n",
       "loan_status              object\n",
       "desc                     object\n",
       "purpose                  object\n",
       "title                    object\n",
       "zip_code                 object\n",
       "addr_state               object\n",
       "dti                     float64\n",
       "pub_rec_bankruptcies    float64\n",
       "dtype: object"
      ]
     },
     "execution_count": 127,
     "metadata": {},
     "output_type": "execute_result"
    }
   ],
   "source": [
    "#print int_rate value counts and verify the data and covert to float\n",
    "lc.int_rate.dtype\n",
    "lc.int_rate.value_counts()\n",
    "\n",
    "lc.int_rate = lc.int_rate.apply(lambda x: float(x[:-1]))\n",
    "\n",
    "\n",
    "lc.dtypes\n"
   ]
  },
  {
   "cell_type": "code",
   "execution_count": 128,
   "id": "21926917",
   "metadata": {},
   "outputs": [
    {
     "name": "stdout",
     "output_type": "stream",
     "text": [
      "(39717, 24)\n",
      "Non Null Values grade   =  39717\n",
      "Null Values grade   =  0\n",
      "Mode =  0    B\n",
      "Name: grade, dtype: object\n",
      "DataType =  object\n",
      "B    12020\n",
      "A    10085\n",
      "C     8098\n",
      "D     5307\n",
      "E     2842\n",
      "F     1049\n",
      "G      316\n",
      "Name: grade, dtype: int64\n",
      "========================\n",
      "(39717, 25)\n",
      "Non Null Values sub_grade   =  39717\n",
      "Null Values sub_grade   =  0\n",
      "Mode =  0    B3\n",
      "Name: sub_grade, dtype: object\n",
      "DataType =  object\n",
      "B3    2917\n",
      "A4    2886\n",
      "A5    2742\n",
      "B5    2704\n",
      "B4    2512\n",
      "C1    2136\n",
      "B2    2057\n",
      "C2    2011\n",
      "B1    1830\n",
      "A3    1810\n",
      "C3    1529\n",
      "A2    1508\n",
      "D2    1348\n",
      "C4    1236\n",
      "C5    1186\n",
      "D3    1173\n",
      "A1    1139\n",
      "D4     981\n",
      "D1     931\n",
      "D5     874\n",
      "E1     763\n",
      "E2     656\n",
      "E3     553\n",
      "E4     454\n",
      "E5     416\n",
      "F1     329\n",
      "F2     249\n",
      "F3     185\n",
      "F4     168\n",
      "F5     118\n",
      "G1     104\n",
      "G2      78\n",
      "G4      56\n",
      "G3      48\n",
      "G5      30\n",
      "Name: sub_grade, dtype: int64\n",
      "========================\n"
     ]
    }
   ],
   "source": [
    "\n",
    "#Grade looks great. No missing value and with correct data types\n",
    "analyze_variable('grade')\n",
    "#Add a new column grade_c as categorical\n",
    "lc['grade_c'] = lc.grade.factorize()[0]\n",
    "\n",
    "#SubGrade looks great. No missing value and with correct data types\n",
    "analyze_variable('sub_grade')\n",
    "#Add a new column sub_grade_c as categorical\n",
    "lc['sub_grade_c'] = lc.sub_grade.factorize()[0]\n",
    "\n"
   ]
  },
  {
   "cell_type": "code",
   "execution_count": 129,
   "id": "faa10590",
   "metadata": {},
   "outputs": [
    {
     "name": "stdout",
     "output_type": "stream",
     "text": [
      "(39717, 26)\n",
      "Non Null Values emp_title   =  37258\n",
      "Null Values emp_title   =  2459\n",
      "Mode =  0    US Army\n",
      "Name: emp_title, dtype: object\n",
      "DataType =  object\n",
      "US Army                              134\n",
      "Bank of America                      109\n",
      "IBM                                   66\n",
      "AT&T                                  59\n",
      "Kaiser Permanente                     56\n",
      "                                    ... \n",
      "Community College of Philadelphia      1\n",
      "AMEC                                   1\n",
      "lee county sheriff                     1\n",
      "Bacon County Board of Education        1\n",
      "Evergreen Center                       1\n",
      "Name: emp_title, Length: 28820, dtype: int64\n",
      "========================\n"
     ]
    }
   ],
   "source": [
    "analyze_variable('emp_title')\n",
    "#There are missing values for emp title and it does not have any significance too. Drop the column\n",
    "lc.drop(['emp_title'], axis=1, inplace=True)\n"
   ]
  },
  {
   "cell_type": "code",
   "execution_count": null,
   "id": "5db410d0",
   "metadata": {},
   "outputs": [],
   "source": []
  },
  {
   "cell_type": "code",
   "execution_count": 130,
   "id": "31fc8793",
   "metadata": {},
   "outputs": [
    {
     "name": "stdout",
     "output_type": "stream",
     "text": [
      "(39717, 25)\n",
      "Non Null Values emp_length   =  38642\n",
      "Null Values emp_length   =  1075\n",
      "Mode =  0    10+ years\n",
      "Name: emp_length, dtype: object\n",
      "DataType =  object\n",
      "10+ years    8879\n",
      "< 1 year     4583\n",
      "2 years      4388\n",
      "3 years      4095\n",
      "4 years      3436\n",
      "5 years      3282\n",
      "1 year       3240\n",
      "6 years      2229\n",
      "7 years      1773\n",
      "8 years      1479\n",
      "9 years      1258\n",
      "Name: emp_length, dtype: int64\n",
      "========================\n"
     ]
    }
   ],
   "source": [
    "# Analyze emp_length\n",
    "analyze_variable('emp_length')\n",
    "\n",
    "# There are two ways for the missing value. Either imputation can be applied or the records can be dropped. \n",
    "# Since the number of records are less, Better to drop these records instead of putting the mode(10+ years).\n",
    "lc = lc[~lc.emp_length.isnull()]\n",
    "\n",
    "#Converting emp length from < 1 year as 0 to mo \n",
    "lc.emp_length = lc.emp_length.apply(lambda x: 0 if \"<\" in x else (int(x.split(\"+\")[0]) if \"+\" in x else int(x.split()[0])))\n",
    "\n"
   ]
  },
  {
   "cell_type": "code",
   "execution_count": 131,
   "id": "96c075ef",
   "metadata": {},
   "outputs": [
    {
     "data": {
      "text/plain": [
       "(38642, 25)"
      ]
     },
     "execution_count": 131,
     "metadata": {},
     "output_type": "execute_result"
    }
   ],
   "source": [
    "lc.shape"
   ]
  },
  {
   "cell_type": "code",
   "execution_count": 132,
   "id": "9d51f1b1",
   "metadata": {},
   "outputs": [
    {
     "name": "stdout",
     "output_type": "stream",
     "text": [
      "(38642, 25)\n",
      "Non Null Values home_ownership   =  38642\n",
      "Null Values home_ownership   =  0\n",
      "Mode =  0    RENT\n",
      "Name: home_ownership, dtype: object\n",
      "DataType =  object\n",
      "RENT        18488\n",
      "MORTGAGE    17212\n",
      "OWN          2841\n",
      "OTHER          98\n",
      "NONE            3\n",
      "Name: home_ownership, dtype: int64\n",
      "========================\n"
     ]
    },
    {
     "data": {
      "text/plain": [
       "RENT        18488\n",
       "MORTGAGE    17212\n",
       "OWN          2841\n",
       "OTHER          98\n",
       "Name: home_ownership, dtype: int64"
      ]
     },
     "execution_count": 132,
     "metadata": {},
     "output_type": "execute_result"
    }
   ],
   "source": [
    "# Analyze home_ownership\n",
    "analyze_variable('home_ownership')\n",
    "\n",
    "# Since only three rows has unkown home_ownership, better to drop those rows\n",
    "lc = lc[lc.home_ownership != 'NONE']\n",
    "lc.home_ownership.value_counts()"
   ]
  },
  {
   "cell_type": "code",
   "execution_count": 133,
   "id": "05fc160a",
   "metadata": {},
   "outputs": [
    {
     "data": {
      "text/plain": [
       "Index(['id', 'member_id', 'loan_amnt', 'funded_amnt', 'funded_amnt_inv',\n",
       "       'term', 'int_rate', 'installment', 'grade', 'sub_grade', 'emp_length',\n",
       "       'home_ownership', 'annual_inc', 'verification_status', 'issue_d',\n",
       "       'loan_status', 'desc', 'purpose', 'title', 'zip_code', 'addr_state',\n",
       "       'dti', 'pub_rec_bankruptcies', 'grade_c', 'sub_grade_c'],\n",
       "      dtype='object')"
      ]
     },
     "execution_count": 133,
     "metadata": {},
     "output_type": "execute_result"
    }
   ],
   "source": [
    "lc.columns\n",
    "# , 'annual_inc', 'verification_status',\n",
    "#        'issue_d', 'loan_status', 'url', 'desc', 'purpose', 'title', 'zip_code',\n",
    "#        'addr_state', 'dti', 'mths_since_last_delinq',\n",
    "#        'collections_12_mths_ex_med', 'pub_rec_bankruptcies'\n"
   ]
  },
  {
   "cell_type": "code",
   "execution_count": null,
   "id": "2ff949f2",
   "metadata": {},
   "outputs": [],
   "source": []
  },
  {
   "cell_type": "code",
   "execution_count": 134,
   "id": "8bee7007",
   "metadata": {},
   "outputs": [],
   "source": [
    "def analyze_variable(name):\n",
    "    print(lc.shape)\n",
    "    print('Non Null Values', name, '  = ', lc[name].value_counts().sum())\n",
    "    print('Null Values', name, '  = ',lc[name].isnull().sum())\n",
    "    lcm = lc[~lc[name].isnull()]\n",
    "    print('Mode = ', lcm[name].mode())\n",
    "    print('DataType = ', lc[name].dtype)\n",
    "    print(lc[name].value_counts())\n",
    "    print('========================')"
   ]
  },
  {
   "cell_type": "code",
   "execution_count": 135,
   "id": "33c899f1",
   "metadata": {},
   "outputs": [
    {
     "name": "stdout",
     "output_type": "stream",
     "text": [
      "(38639, 25)\n",
      "Non Null Values annual_inc   =  38639\n",
      "Null Values annual_inc   =  0\n",
      "Mode =  0    60000.0\n",
      "Name: annual_inc, dtype: float64\n",
      "DataType =  float64\n",
      "60000.0     1472\n",
      "50000.0     1036\n",
      "40000.0      859\n",
      "45000.0      813\n",
      "75000.0      803\n",
      "            ... \n",
      "22188.0        1\n",
      "144240.0       1\n",
      "13800.0        1\n",
      "94860.0        1\n",
      "27376.0        1\n",
      "Name: annual_inc, Length: 5100, dtype: int64\n",
      "========================\n"
     ]
    }
   ],
   "source": [
    "#Analyze annual_inc\n",
    "analyze_variable('annual_inc')\n",
    "# No missing value and data type correctionb"
   ]
  },
  {
   "cell_type": "code",
   "execution_count": 136,
   "id": "c46bec90",
   "metadata": {},
   "outputs": [
    {
     "name": "stdout",
     "output_type": "stream",
     "text": [
      "(38639, 25)\n",
      "Non Null Values verification_status   =  38639\n",
      "Null Values verification_status   =  0\n",
      "Mode =  0    Not Verified\n",
      "Name: verification_status, dtype: object\n",
      "DataType =  object\n",
      "Not Verified       16495\n",
      "Verified           12353\n",
      "Source Verified     9791\n",
      "Name: verification_status, dtype: int64\n",
      "========================\n",
      "(38639, 25)\n",
      "Non Null Values issue_d   =  38639\n",
      "Null Values issue_d   =  0\n",
      "Mode =  0    Dec-11\n",
      "Name: issue_d, dtype: object\n",
      "DataType =  object\n",
      "Dec-11    2207\n",
      "Nov-11    2124\n",
      "Oct-11    2028\n",
      "Sep-11    1985\n",
      "Aug-11    1873\n",
      "Jul-11    1793\n",
      "Jun-11    1771\n",
      "May-11    1632\n",
      "Apr-11    1508\n",
      "Mar-11    1403\n",
      "Jan-11    1336\n",
      "Feb-11    1239\n",
      "Dec-10    1220\n",
      "Nov-10    1096\n",
      "Jul-10    1092\n",
      "Oct-10    1086\n",
      "Sep-10    1058\n",
      "Aug-10    1058\n",
      "Jun-10     996\n",
      "May-10     894\n",
      "Apr-10     806\n",
      "Mar-10     718\n",
      "Feb-10     605\n",
      "Nov-09     602\n",
      "Dec-09     598\n",
      "Jan-10     585\n",
      "Oct-09     545\n",
      "Sep-09     449\n",
      "Aug-09     408\n",
      "Jul-09     374\n",
      "Jun-09     356\n",
      "May-09     319\n",
      "Apr-09     290\n",
      "Mar-09     276\n",
      "Feb-09     260\n",
      "Jan-09     239\n",
      "Mar-08     236\n",
      "Dec-08     223\n",
      "Nov-08     184\n",
      "Feb-08     174\n",
      "Jan-08     170\n",
      "Apr-08     155\n",
      "Oct-08      96\n",
      "Dec-07      85\n",
      "Jul-08      83\n",
      "May-08      71\n",
      "Aug-08      71\n",
      "Jun-08      66\n",
      "Oct-07      47\n",
      "Nov-07      37\n",
      "Sep-08      32\n",
      "Aug-07      31\n",
      "Jul-07      30\n",
      "Sep-07      18\n",
      "Jun-07       1\n",
      "Name: issue_d, dtype: int64\n",
      "========================\n",
      "<class 'pandas.core.frame.DataFrame'>\n",
      "Int64Index: 38639 entries, 0 to 39716\n",
      "Data columns (total 27 columns):\n",
      " #   Column                Non-Null Count  Dtype         \n",
      "---  ------                --------------  -----         \n",
      " 0   id                    38639 non-null  int64         \n",
      " 1   member_id             38639 non-null  int64         \n",
      " 2   loan_amnt             38639 non-null  int64         \n",
      " 3   funded_amnt           38639 non-null  int64         \n",
      " 4   funded_amnt_inv       38639 non-null  float64       \n",
      " 5   term                  38639 non-null  object        \n",
      " 6   int_rate              38639 non-null  float64       \n",
      " 7   installment           38639 non-null  float64       \n",
      " 8   grade                 38639 non-null  object        \n",
      " 9   sub_grade             38639 non-null  object        \n",
      " 10  emp_length            38639 non-null  int64         \n",
      " 11  home_ownership        38639 non-null  object        \n",
      " 12  annual_inc            38639 non-null  float64       \n",
      " 13  verification_status   38639 non-null  object        \n",
      " 14  issue_d               38639 non-null  datetime64[ns]\n",
      " 15  loan_status           38639 non-null  object        \n",
      " 16  desc                  26144 non-null  object        \n",
      " 17  purpose               38639 non-null  object        \n",
      " 18  title                 38629 non-null  object        \n",
      " 19  zip_code              38639 non-null  object        \n",
      " 20  addr_state            38639 non-null  object        \n",
      " 21  dti                   38639 non-null  float64       \n",
      " 22  pub_rec_bankruptcies  37945 non-null  float64       \n",
      " 23  grade_c               38639 non-null  int64         \n",
      " 24  sub_grade_c           38639 non-null  int64         \n",
      " 25  Year                  38639 non-null  int64         \n",
      " 26  Month                 38639 non-null  int64         \n",
      "dtypes: datetime64[ns](1), float64(6), int64(9), object(11)\n",
      "memory usage: 8.3+ MB\n"
     ]
    }
   ],
   "source": [
    "#analyze verification_status\n",
    "analyze_variable('verification_status')\n",
    "\n",
    "#Analyze issue date . \n",
    "\n",
    "analyze_variable('issue_d')\n",
    "\n",
    "# After analyzing the datatype for issue_d shoud be date\n",
    "lc.issue_d = lc.issue_d.apply(lambda x: dt.strptime(x, '%b-%y'))\n",
    "\n",
    "#Add derived column from Issue Date\n",
    "lc['Year'] = lc.issue_d.apply(lambda x: x.year)\n",
    "lc['Month'] = lc.issue_d.apply(lambda x: x.month)\n",
    "\n",
    "lc.info()\n"
   ]
  },
  {
   "cell_type": "code",
   "execution_count": 137,
   "id": "230f8bb3",
   "metadata": {
    "scrolled": true
   },
   "outputs": [
    {
     "name": "stdout",
     "output_type": "stream",
     "text": [
      "(38639, 27)\n",
      "Non Null Values loan_status   =  38639\n",
      "Null Values loan_status   =  0\n",
      "Mode =  0    Fully Paid\n",
      "Name: loan_status, dtype: object\n",
      "DataType =  object\n",
      "Fully Paid     32142\n",
      "Charged Off     5399\n",
      "Current         1098\n",
      "Name: loan_status, dtype: int64\n",
      "========================\n",
      "(37541, 27)\n",
      "Non Null Values loan_status   =  37541\n",
      "Null Values loan_status   =  0\n",
      "Mode =  0    0\n",
      "Name: loan_status, dtype: int64\n",
      "DataType =  int64\n",
      "0    32142\n",
      "1     5399\n",
      "Name: loan_status, dtype: int64\n",
      "========================\n"
     ]
    }
   ],
   "source": [
    "#Analyze loan_status\n",
    "analyze_variable('loan_status')\n",
    "\n",
    "# Number of fully paid loans are higher as compared to charged off and very minimal number of current loans\n",
    "# Since current loans will not help to predict target variable , let's drop current loan records\n",
    "\n",
    "lc = lc[lc['loan_status'] != 'Current']\n",
    "\n",
    "\n",
    "lc[\"loan_status\"] = lc[\"loan_status\"].apply(lambda x: 0 if x == \"Fully Paid\" else 1)\n",
    "analyze_variable('loan_status')\n"
   ]
  },
  {
   "cell_type": "code",
   "execution_count": 138,
   "id": "edeb5ec0",
   "metadata": {},
   "outputs": [
    {
     "name": "stdout",
     "output_type": "stream",
     "text": [
      "(37541, 27)\n",
      "Non Null Values desc   =  25444\n",
      "Null Values desc   =  12097\n",
      "Mode =  0     \n",
      "Name: desc, dtype: object\n",
      "DataType =  object\n",
      "                                                                                                                                                                                                                                                                                                                                                                                                                                                                                                                                                               209\n",
      "Debt Consolidation                                                                                                                                                                                                                                                                                                                                                                                                                                                                                                                                               7\n",
      "Camping Membership                                                                                                                                                                                                                                                                                                                                                                                                                                                                                                                                               6\n",
      "credit card debt consolidation                                                                                                                                                                                                                                                                                                                                                                                                                                                                                                                                   3\n",
      "credit card consolidation                                                                                                                                                                                                                                                                                                                                                                                                                                                                                                                                        3\n",
      "                                                                                                                                                                                                                                                                                                                                                                                                                                                                                                                                                              ... \n",
      "  Borrower added on 04/25/11 > The &quot;purpose&quot; is incorrect.  The funds would be used for &quot;Home Improvement&quot; to replace old entry deck and also vinyl side the entry section of the house.  I am working my way around the house and am financing pieces rather than the entire project.<br/><br/>I have no idea why Lending Tree miscategorized the purpose of the loan as I entered this information previously regarding the Home Improvement description.<br/> Borrower added on 04/27/11 > &quot;Lending Club&quot; ... oops :)<br/>      1\n",
      "  Borrower added on 04/24/11 > Just bought a house, looking to fix her up. I always pay my debts on time. I'm a safe bet.<br/> Borrower added on 04/27/11 > Already made<br/>                                                                                                                                                                                                                                                                                                                                                                                    1\n",
      "  Borrower added on 04/24/11 > I am a full-time employee at a university.  I have been saving up for a medical procedure for a while (it's not covered by insurance for various reasons), and have put aside over 8k in 9 months just on my own.  I am hoping to borrow the remaining amount.  I have never made a late loan payment or late credit card payment.  I am very careful with my finances (see above--8k in 9 months!).<br/>                                                                                                                         1\n",
      "  Borrower added on 04/25/11 > The purpose of this loan request is to pay off 5 existing credit card balances with interest rates over 20%.  Minimum payment on the cards is equivalent to the monthly payments on the proposed loan.  The benefit is that the balances would be paid off in 3 years.  I appreciate you taking the time to review my request.<br/>                                                                                                                                                                                               1\n",
      "I plan to consolidate over $7,000 of debt: a combination of credit cards and student loans.                                                                                                                                                                                                                                                                                                                                                                                                                                                                      1\n",
      "Name: desc, Length: 25199, dtype: int64\n",
      "========================\n"
     ]
    }
   ],
   "source": [
    "#analyze desc\n",
    "analyze_variable('desc')\n",
    "# since more than 30% of the data is missing for desc and desc is not well distributed, let's drop the desc column\n",
    "lc.drop(['desc'], axis=1, inplace=True)"
   ]
  },
  {
   "cell_type": "code",
   "execution_count": 139,
   "id": "ce105a4a",
   "metadata": {
    "scrolled": true
   },
   "outputs": [
    {
     "name": "stdout",
     "output_type": "stream",
     "text": [
      "(37541, 26)\n",
      "Non Null Values purpose   =  37541\n",
      "Null Values purpose   =  0\n",
      "Mode =  0    debt_consolidation\n",
      "Name: purpose, dtype: object\n",
      "DataType =  object\n",
      "debt_consolidation    17674\n",
      "credit_card            4899\n",
      "other                  3711\n",
      "home_improvement       2785\n",
      "major_purchase         2080\n",
      "small_business         1710\n",
      "car                    1448\n",
      "wedding                 913\n",
      "medical                 656\n",
      "moving                  552\n",
      "house                   354\n",
      "vacation                348\n",
      "educational             317\n",
      "renewable_energy         94\n",
      "Name: purpose, dtype: int64\n",
      "========================\n"
     ]
    }
   ],
   "source": [
    "\n",
    "analyze_variable('purpose')\n",
    "\n",
    "# More loan is for debt consolidation and credit card"
   ]
  },
  {
   "cell_type": "code",
   "execution_count": 140,
   "id": "26099a6d",
   "metadata": {},
   "outputs": [
    {
     "name": "stdout",
     "output_type": "stream",
     "text": [
      "(37541, 26)\n",
      "Non Null Values title   =  37531\n",
      "Null Values title   =  10\n",
      "Mode =  0    Debt Consolidation\n",
      "Name: title, dtype: object\n",
      "DataType =  object\n",
      "Debt Consolidation                 2054\n",
      "Debt Consolidation Loan            1586\n",
      "Personal Loan                       623\n",
      "Consolidation                       485\n",
      "debt consolidation                  459\n",
      "                                   ... \n",
      "Tony's CC consolidation               1\n",
      "Pay All                               1\n",
      "Back on my feet                       1\n",
      "Primary  Debt Consolidaton Loan       1\n",
      "JAL Loan                              1\n",
      "Name: title, Length: 18845, dtype: int64\n",
      "========================\n"
     ]
    }
   ],
   "source": [
    "analyze_variable('title')\n",
    "#Looks like title is a more granular lebel variable of purpose variable and let's drop the title column\n",
    "lc.drop(['title'], axis=1,inplace=True)"
   ]
  },
  {
   "cell_type": "code",
   "execution_count": 141,
   "id": "c2eb52a0",
   "metadata": {},
   "outputs": [
    {
     "name": "stdout",
     "output_type": "stream",
     "text": [
      "(37541, 25)\n",
      "Non Null Values zip_code   =  37541\n",
      "Null Values zip_code   =  0\n",
      "Mode =  0    100xx\n",
      "Name: zip_code, dtype: object\n",
      "DataType =  object\n",
      "100xx    576\n",
      "945xx    518\n",
      "112xx    494\n",
      "606xx    486\n",
      "070xx    450\n",
      "        ... \n",
      "090xx      1\n",
      "677xx      1\n",
      "353xx      1\n",
      "556xx      1\n",
      "469xx      1\n",
      "Name: zip_code, Length: 821, dtype: int64\n",
      "========================\n",
      "(37541, 25)\n",
      "Non Null Values addr_state   =  37541\n",
      "Null Values addr_state   =  0\n",
      "Mode =  0    CA\n",
      "Name: addr_state, dtype: object\n",
      "DataType =  object\n",
      "CA    6767\n",
      "NY    3599\n",
      "FL    2694\n",
      "TX    2605\n",
      "NJ    1768\n",
      "IL    1442\n",
      "PA    1437\n",
      "VA    1339\n",
      "GA    1319\n",
      "MA    1267\n",
      "OH    1146\n",
      "MD    1005\n",
      "AZ     806\n",
      "WA     783\n",
      "CO     744\n",
      "NC     726\n",
      "CT     707\n",
      "MI     671\n",
      "MO     647\n",
      "MN     583\n",
      "NV     464\n",
      "SC     451\n",
      "WI     426\n",
      "OR     421\n",
      "AL     418\n",
      "LA     417\n",
      "KY     307\n",
      "OK     282\n",
      "UT     247\n",
      "KS     244\n",
      "AR     227\n",
      "DC     211\n",
      "RI     192\n",
      "NM     179\n",
      "WV     164\n",
      "HI     162\n",
      "NH     157\n",
      "DE     110\n",
      "MT      77\n",
      "AK      76\n",
      "WY      76\n",
      "SD      61\n",
      "VT      53\n",
      "MS      19\n",
      "TN      17\n",
      "IN       9\n",
      "ID       6\n",
      "IA       5\n",
      "NE       5\n",
      "ME       3\n",
      "Name: addr_state, dtype: int64\n",
      "========================\n",
      "(37541, 25)\n",
      "Non Null Values pub_rec_bankruptcies   =  36847\n",
      "Null Values pub_rec_bankruptcies   =  694\n",
      "Mode =  0    0.0\n",
      "Name: pub_rec_bankruptcies, dtype: float64\n",
      "DataType =  float64\n",
      "0.0    35312\n",
      "1.0     1530\n",
      "2.0        5\n",
      "Name: pub_rec_bankruptcies, dtype: int64\n",
      "========================\n"
     ]
    }
   ],
   "source": [
    "\n",
    "analyze_variable('zip_code')\n",
    "analyze_variable('addr_state')\n",
    "#Most of the application has zero pub rec bankrupties and more than 95% of the records. Better to drop this column\n",
    "analyze_variable('pub_rec_bankruptcies')\n",
    "#Also zipcode does not have much significance . let's drop that column\n",
    "lc.drop(['pub_rec_bankruptcies',  'zip_code'], axis = 1,inplace=True)\n",
    "\n"
   ]
  },
  {
   "cell_type": "code",
   "execution_count": 142,
   "id": "bd26b3ce",
   "metadata": {},
   "outputs": [
    {
     "name": "stdout",
     "output_type": "stream",
     "text": [
      "(37541, 23)\n",
      "Non Null Values dti   =  37541\n",
      "Null Values dti   =  0\n",
      "Mode =  0    0.0\n",
      "Name: dti, dtype: float64\n",
      "DataType =  float64\n",
      "0.00     168\n",
      "18.00     44\n",
      "12.00     44\n",
      "19.20     39\n",
      "13.20     38\n",
      "        ... \n",
      "29.78      1\n",
      "25.73      1\n",
      "29.48      1\n",
      "25.60      1\n",
      "25.43      1\n",
      "Name: dti, Length: 2848, dtype: int64\n",
      "========================\n"
     ]
    }
   ],
   "source": [
    "analyze_variable('dti')\n",
    "\n",
    "#DTI ratio looks good "
   ]
  },
  {
   "cell_type": "code",
   "execution_count": 143,
   "id": "4dca006f",
   "metadata": {},
   "outputs": [
    {
     "name": "stdout",
     "output_type": "stream",
     "text": [
      "<class 'pandas.core.frame.DataFrame'>\n",
      "Int64Index: 37541 entries, 0 to 39716\n",
      "Data columns (total 23 columns):\n",
      " #   Column               Non-Null Count  Dtype         \n",
      "---  ------               --------------  -----         \n",
      " 0   id                   37541 non-null  int64         \n",
      " 1   member_id            37541 non-null  int64         \n",
      " 2   loan_amnt            37541 non-null  int64         \n",
      " 3   funded_amnt          37541 non-null  int64         \n",
      " 4   funded_amnt_inv      37541 non-null  float64       \n",
      " 5   term                 37541 non-null  object        \n",
      " 6   int_rate             37541 non-null  float64       \n",
      " 7   installment          37541 non-null  float64       \n",
      " 8   grade                37541 non-null  object        \n",
      " 9   sub_grade            37541 non-null  object        \n",
      " 10  emp_length           37541 non-null  int64         \n",
      " 11  home_ownership       37541 non-null  object        \n",
      " 12  annual_inc           37541 non-null  float64       \n",
      " 13  verification_status  37541 non-null  object        \n",
      " 14  issue_d              37541 non-null  datetime64[ns]\n",
      " 15  loan_status          37541 non-null  int64         \n",
      " 16  purpose              37541 non-null  object        \n",
      " 17  addr_state           37541 non-null  object        \n",
      " 18  dti                  37541 non-null  float64       \n",
      " 19  grade_c              37541 non-null  int64         \n",
      " 20  sub_grade_c          37541 non-null  int64         \n",
      " 21  Year                 37541 non-null  int64         \n",
      " 22  Month                37541 non-null  int64         \n",
      "dtypes: datetime64[ns](1), float64(5), int64(10), object(7)\n",
      "memory usage: 6.9+ MB\n",
      "(37541, 23)\n"
     ]
    }
   ],
   "source": [
    "lc.info()\n",
    "print(lc.shape)"
   ]
  },
  {
   "cell_type": "markdown",
   "id": "9698acc5",
   "metadata": {},
   "source": [
    "## Data Cleaning Part(Missing Value, Null Columns, Data Type Correction and Adding Derived Column) is completed "
   ]
  },
  {
   "cell_type": "markdown",
   "id": "a72ecb9d",
   "metadata": {},
   "source": [
    "### Sanity Checks\n",
    "#### 1. Loan Amount Should Be less than or equal to funded amount"
   ]
  },
  {
   "cell_type": "code",
   "execution_count": 144,
   "id": "bc109b1b",
   "metadata": {},
   "outputs": [
    {
     "name": "stdout",
     "output_type": "stream",
     "text": [
      "Before Deleting Bad Recs =  (37541, 23)\n",
      "After Deleting Bad Recs =  (35814, 23)\n"
     ]
    }
   ],
   "source": [
    "lc[lc['loan_amnt'] > lc['funded_amnt']]\n",
    "\n",
    "# Around 1727 records are having loan amount greater than funded amount. It seems these records are not valid records. Let's drop those records.\n",
    "print('Before Deleting Bad Recs = ', lc.shape)\n",
    "lc = lc[~(lc['loan_amnt'] > lc['funded_amnt'])]\n",
    "print('After Deleting Bad Recs = ', lc.shape)"
   ]
  },
  {
   "cell_type": "markdown",
   "id": "22b4813b",
   "metadata": {},
   "source": [
    "#### 2. Funded Amount Invested should not be greater than Funded Amount"
   ]
  },
  {
   "cell_type": "code",
   "execution_count": 145,
   "id": "f693329a",
   "metadata": {
    "scrolled": true
   },
   "outputs": [
    {
     "data": {
      "text/html": [
       "<div>\n",
       "<style scoped>\n",
       "    .dataframe tbody tr th:only-of-type {\n",
       "        vertical-align: middle;\n",
       "    }\n",
       "\n",
       "    .dataframe tbody tr th {\n",
       "        vertical-align: top;\n",
       "    }\n",
       "\n",
       "    .dataframe thead th {\n",
       "        text-align: right;\n",
       "    }\n",
       "</style>\n",
       "<table border=\"1\" class=\"dataframe\">\n",
       "  <thead>\n",
       "    <tr style=\"text-align: right;\">\n",
       "      <th></th>\n",
       "      <th>id</th>\n",
       "      <th>member_id</th>\n",
       "      <th>loan_amnt</th>\n",
       "      <th>funded_amnt</th>\n",
       "      <th>funded_amnt_inv</th>\n",
       "      <th>term</th>\n",
       "      <th>int_rate</th>\n",
       "      <th>installment</th>\n",
       "      <th>grade</th>\n",
       "      <th>sub_grade</th>\n",
       "      <th>emp_length</th>\n",
       "      <th>home_ownership</th>\n",
       "      <th>annual_inc</th>\n",
       "      <th>verification_status</th>\n",
       "      <th>issue_d</th>\n",
       "      <th>loan_status</th>\n",
       "      <th>purpose</th>\n",
       "      <th>addr_state</th>\n",
       "      <th>dti</th>\n",
       "      <th>grade_c</th>\n",
       "      <th>sub_grade_c</th>\n",
       "      <th>Year</th>\n",
       "      <th>Month</th>\n",
       "    </tr>\n",
       "  </thead>\n",
       "  <tbody>\n",
       "    <tr>\n",
       "      <th>0</th>\n",
       "      <td>1077501</td>\n",
       "      <td>1296599</td>\n",
       "      <td>5000</td>\n",
       "      <td>5000</td>\n",
       "      <td>4975.0</td>\n",
       "      <td>36</td>\n",
       "      <td>10.65</td>\n",
       "      <td>162.87</td>\n",
       "      <td>B</td>\n",
       "      <td>B2</td>\n",
       "      <td>10</td>\n",
       "      <td>RENT</td>\n",
       "      <td>24000.0</td>\n",
       "      <td>Verified</td>\n",
       "      <td>2011-12-01</td>\n",
       "      <td>0</td>\n",
       "      <td>credit_card</td>\n",
       "      <td>AZ</td>\n",
       "      <td>27.65</td>\n",
       "      <td>0</td>\n",
       "      <td>0</td>\n",
       "      <td>2011</td>\n",
       "      <td>12</td>\n",
       "    </tr>\n",
       "    <tr>\n",
       "      <th>1</th>\n",
       "      <td>1077430</td>\n",
       "      <td>1314167</td>\n",
       "      <td>2500</td>\n",
       "      <td>2500</td>\n",
       "      <td>2500.0</td>\n",
       "      <td>60</td>\n",
       "      <td>15.27</td>\n",
       "      <td>59.83</td>\n",
       "      <td>C</td>\n",
       "      <td>C4</td>\n",
       "      <td>0</td>\n",
       "      <td>RENT</td>\n",
       "      <td>30000.0</td>\n",
       "      <td>Source Verified</td>\n",
       "      <td>2011-12-01</td>\n",
       "      <td>1</td>\n",
       "      <td>car</td>\n",
       "      <td>GA</td>\n",
       "      <td>1.00</td>\n",
       "      <td>1</td>\n",
       "      <td>1</td>\n",
       "      <td>2011</td>\n",
       "      <td>12</td>\n",
       "    </tr>\n",
       "    <tr>\n",
       "      <th>2</th>\n",
       "      <td>1077175</td>\n",
       "      <td>1313524</td>\n",
       "      <td>2400</td>\n",
       "      <td>2400</td>\n",
       "      <td>2400.0</td>\n",
       "      <td>36</td>\n",
       "      <td>15.96</td>\n",
       "      <td>84.33</td>\n",
       "      <td>C</td>\n",
       "      <td>C5</td>\n",
       "      <td>10</td>\n",
       "      <td>RENT</td>\n",
       "      <td>12252.0</td>\n",
       "      <td>Not Verified</td>\n",
       "      <td>2011-12-01</td>\n",
       "      <td>0</td>\n",
       "      <td>small_business</td>\n",
       "      <td>IL</td>\n",
       "      <td>8.72</td>\n",
       "      <td>1</td>\n",
       "      <td>2</td>\n",
       "      <td>2011</td>\n",
       "      <td>12</td>\n",
       "    </tr>\n",
       "    <tr>\n",
       "      <th>3</th>\n",
       "      <td>1076863</td>\n",
       "      <td>1277178</td>\n",
       "      <td>10000</td>\n",
       "      <td>10000</td>\n",
       "      <td>10000.0</td>\n",
       "      <td>36</td>\n",
       "      <td>13.49</td>\n",
       "      <td>339.31</td>\n",
       "      <td>C</td>\n",
       "      <td>C1</td>\n",
       "      <td>10</td>\n",
       "      <td>RENT</td>\n",
       "      <td>49200.0</td>\n",
       "      <td>Source Verified</td>\n",
       "      <td>2011-12-01</td>\n",
       "      <td>0</td>\n",
       "      <td>other</td>\n",
       "      <td>CA</td>\n",
       "      <td>20.00</td>\n",
       "      <td>1</td>\n",
       "      <td>3</td>\n",
       "      <td>2011</td>\n",
       "      <td>12</td>\n",
       "    </tr>\n",
       "    <tr>\n",
       "      <th>5</th>\n",
       "      <td>1075269</td>\n",
       "      <td>1311441</td>\n",
       "      <td>5000</td>\n",
       "      <td>5000</td>\n",
       "      <td>5000.0</td>\n",
       "      <td>36</td>\n",
       "      <td>7.90</td>\n",
       "      <td>156.46</td>\n",
       "      <td>A</td>\n",
       "      <td>A4</td>\n",
       "      <td>3</td>\n",
       "      <td>RENT</td>\n",
       "      <td>36000.0</td>\n",
       "      <td>Source Verified</td>\n",
       "      <td>2011-12-01</td>\n",
       "      <td>0</td>\n",
       "      <td>wedding</td>\n",
       "      <td>AZ</td>\n",
       "      <td>11.20</td>\n",
       "      <td>2</td>\n",
       "      <td>5</td>\n",
       "      <td>2011</td>\n",
       "      <td>12</td>\n",
       "    </tr>\n",
       "  </tbody>\n",
       "</table>\n",
       "</div>"
      ],
      "text/plain": [
       "        id  member_id  loan_amnt  funded_amnt  funded_amnt_inv term  int_rate  \\\n",
       "0  1077501    1296599       5000         5000           4975.0   36     10.65   \n",
       "1  1077430    1314167       2500         2500           2500.0   60     15.27   \n",
       "2  1077175    1313524       2400         2400           2400.0   36     15.96   \n",
       "3  1076863    1277178      10000        10000          10000.0   36     13.49   \n",
       "5  1075269    1311441       5000         5000           5000.0   36      7.90   \n",
       "\n",
       "   installment grade sub_grade  emp_length home_ownership  annual_inc  \\\n",
       "0       162.87     B        B2          10           RENT     24000.0   \n",
       "1        59.83     C        C4           0           RENT     30000.0   \n",
       "2        84.33     C        C5          10           RENT     12252.0   \n",
       "3       339.31     C        C1          10           RENT     49200.0   \n",
       "5       156.46     A        A4           3           RENT     36000.0   \n",
       "\n",
       "  verification_status    issue_d  loan_status         purpose addr_state  \\\n",
       "0            Verified 2011-12-01            0     credit_card         AZ   \n",
       "1     Source Verified 2011-12-01            1             car         GA   \n",
       "2        Not Verified 2011-12-01            0  small_business         IL   \n",
       "3     Source Verified 2011-12-01            0           other         CA   \n",
       "5     Source Verified 2011-12-01            0         wedding         AZ   \n",
       "\n",
       "     dti  grade_c  sub_grade_c  Year  Month  \n",
       "0  27.65        0            0  2011     12  \n",
       "1   1.00        1            1  2011     12  \n",
       "2   8.72        1            2  2011     12  \n",
       "3  20.00        1            3  2011     12  \n",
       "5  11.20        2            5  2011     12  "
      ]
     },
     "execution_count": 145,
     "metadata": {},
     "output_type": "execute_result"
    }
   ],
   "source": [
    "lc[lc['funded_amnt_inv'] > lc['funded_amnt']]\n",
    "#No such records are present then we are good with this\n",
    "lc.head()"
   ]
  },
  {
   "cell_type": "code",
   "execution_count": 146,
   "id": "3f49a6a3",
   "metadata": {},
   "outputs": [],
   "source": [
    "# lc.corr()"
   ]
  },
  {
   "cell_type": "markdown",
   "id": "70ce1d35",
   "metadata": {},
   "source": [
    "### Outlier Detection"
   ]
  },
  {
   "cell_type": "code",
   "execution_count": 147,
   "id": "46fc41e2",
   "metadata": {},
   "outputs": [
    {
     "data": {
      "text/html": [
       "<div>\n",
       "<style scoped>\n",
       "    .dataframe tbody tr th:only-of-type {\n",
       "        vertical-align: middle;\n",
       "    }\n",
       "\n",
       "    .dataframe tbody tr th {\n",
       "        vertical-align: top;\n",
       "    }\n",
       "\n",
       "    .dataframe thead th {\n",
       "        text-align: right;\n",
       "    }\n",
       "</style>\n",
       "<table border=\"1\" class=\"dataframe\">\n",
       "  <thead>\n",
       "    <tr style=\"text-align: right;\">\n",
       "      <th></th>\n",
       "      <th>loan_amnt</th>\n",
       "      <th>funded_amnt</th>\n",
       "      <th>funded_amnt_inv</th>\n",
       "      <th>int_rate</th>\n",
       "      <th>installment</th>\n",
       "      <th>annual_inc</th>\n",
       "      <th>dti</th>\n",
       "    </tr>\n",
       "  </thead>\n",
       "  <tbody>\n",
       "    <tr>\n",
       "      <th>count</th>\n",
       "      <td>35814.000000</td>\n",
       "      <td>35814.000000</td>\n",
       "      <td>35814.000000</td>\n",
       "      <td>35814.000000</td>\n",
       "      <td>35814.000000</td>\n",
       "      <td>3.581400e+04</td>\n",
       "      <td>35814.000000</td>\n",
       "    </tr>\n",
       "    <tr>\n",
       "      <th>mean</th>\n",
       "      <td>10759.952114</td>\n",
       "      <td>10759.952114</td>\n",
       "      <td>10208.615727</td>\n",
       "      <td>11.962904</td>\n",
       "      <td>324.042434</td>\n",
       "      <td>6.866818e+04</td>\n",
       "      <td>13.266851</td>\n",
       "    </tr>\n",
       "    <tr>\n",
       "      <th>std</th>\n",
       "      <td>7139.830349</td>\n",
       "      <td>7139.830349</td>\n",
       "      <td>7052.696040</td>\n",
       "      <td>3.651783</td>\n",
       "      <td>211.110697</td>\n",
       "      <td>6.197754e+04</td>\n",
       "      <td>6.661454</td>\n",
       "    </tr>\n",
       "    <tr>\n",
       "      <th>min</th>\n",
       "      <td>500.000000</td>\n",
       "      <td>500.000000</td>\n",
       "      <td>0.000000</td>\n",
       "      <td>5.420000</td>\n",
       "      <td>15.690000</td>\n",
       "      <td>4.000000e+03</td>\n",
       "      <td>0.000000</td>\n",
       "    </tr>\n",
       "    <tr>\n",
       "      <th>25%</th>\n",
       "      <td>5000.000000</td>\n",
       "      <td>5000.000000</td>\n",
       "      <td>5000.000000</td>\n",
       "      <td>9.200000</td>\n",
       "      <td>165.380000</td>\n",
       "      <td>4.030000e+04</td>\n",
       "      <td>8.150000</td>\n",
       "    </tr>\n",
       "    <tr>\n",
       "      <th>50%</th>\n",
       "      <td>9350.000000</td>\n",
       "      <td>9350.000000</td>\n",
       "      <td>8500.000000</td>\n",
       "      <td>11.830000</td>\n",
       "      <td>278.150000</td>\n",
       "      <td>5.880000e+04</td>\n",
       "      <td>13.350000</td>\n",
       "    </tr>\n",
       "    <tr>\n",
       "      <th>75%</th>\n",
       "      <td>15000.000000</td>\n",
       "      <td>15000.000000</td>\n",
       "      <td>14000.000000</td>\n",
       "      <td>14.420000</td>\n",
       "      <td>428.660000</td>\n",
       "      <td>8.200000e+04</td>\n",
       "      <td>18.530000</td>\n",
       "    </tr>\n",
       "    <tr>\n",
       "      <th>max</th>\n",
       "      <td>35000.000000</td>\n",
       "      <td>35000.000000</td>\n",
       "      <td>35000.000000</td>\n",
       "      <td>24.400000</td>\n",
       "      <td>1305.190000</td>\n",
       "      <td>6.000000e+06</td>\n",
       "      <td>29.990000</td>\n",
       "    </tr>\n",
       "  </tbody>\n",
       "</table>\n",
       "</div>"
      ],
      "text/plain": [
       "          loan_amnt   funded_amnt  funded_amnt_inv      int_rate  \\\n",
       "count  35814.000000  35814.000000     35814.000000  35814.000000   \n",
       "mean   10759.952114  10759.952114     10208.615727     11.962904   \n",
       "std     7139.830349   7139.830349      7052.696040      3.651783   \n",
       "min      500.000000    500.000000         0.000000      5.420000   \n",
       "25%     5000.000000   5000.000000      5000.000000      9.200000   \n",
       "50%     9350.000000   9350.000000      8500.000000     11.830000   \n",
       "75%    15000.000000  15000.000000     14000.000000     14.420000   \n",
       "max    35000.000000  35000.000000     35000.000000     24.400000   \n",
       "\n",
       "        installment    annual_inc           dti  \n",
       "count  35814.000000  3.581400e+04  35814.000000  \n",
       "mean     324.042434  6.866818e+04     13.266851  \n",
       "std      211.110697  6.197754e+04      6.661454  \n",
       "min       15.690000  4.000000e+03      0.000000  \n",
       "25%      165.380000  4.030000e+04      8.150000  \n",
       "50%      278.150000  5.880000e+04     13.350000  \n",
       "75%      428.660000  8.200000e+04     18.530000  \n",
       "max     1305.190000  6.000000e+06     29.990000  "
      ]
     },
     "execution_count": 147,
     "metadata": {},
     "output_type": "execute_result"
    }
   ],
   "source": [
    "lc.columns\n",
    "# Target Variable - Loan Status\n",
    "# Categorical Variables - term, grade, sub_grade, emp_length, home_ownership, verification_status, loan_status, purpose, addr_state,Year, Month  \n",
    "# Contineous Variables - 'loan_amnt', 'funded_amnt', 'funded_amnt_inv', 'int_rate', 'installment', 'annual_inc', 'dti'\n",
    "lc[['loan_amnt', 'funded_amnt', 'funded_amnt_inv', 'int_rate', 'installment', 'annual_inc', 'dti']].describe()"
   ]
  },
  {
   "cell_type": "code",
   "execution_count": 148,
   "id": "77a046fe",
   "metadata": {},
   "outputs": [],
   "source": [
    "def boxplot(name):\n",
    "    sns.boxplot(y=lc[name])\n",
    "#     fig = px.box(lc, y=name)\n",
    "#     fig.show()\n",
    "#     fig, axs = plt.subplots(2, 3)\n",
    "#     # basic plot\n",
    "#     axs[0, 0].boxplot(data)\n",
    "    "
   ]
  },
  {
   "cell_type": "code",
   "execution_count": 149,
   "id": "4f70cb84",
   "metadata": {},
   "outputs": [],
   "source": [
    "def IQR(name):\n",
    "    Q1 = lc.quantile(0.25)\n",
    "    Q3 = lc.quantile(0.75)\n",
    "    IQR = Q3 - Q1"
   ]
  },
  {
   "cell_type": "code",
   "execution_count": 150,
   "id": "408bc55f",
   "metadata": {},
   "outputs": [],
   "source": [
    "def remove_outlier(name, lc):\n",
    "    Q1 = lc[name].quantile(0.25)\n",
    "    Q3 = lc[name].quantile(0.75)\n",
    "    IQR = Q3 - Q1\n",
    "    lb = (Q1 - 1.5 * IQR)\n",
    "    ub = (Q3 + 1.5 * IQR)\n",
    "   \n",
    "    lco = ~((lc[name] < lb) | (lc[name] > ub))\n",
    "    lc  = lc[lco]\n",
    "    return lc"
   ]
  },
  {
   "cell_type": "code",
   "execution_count": 151,
   "id": "b5279f88",
   "metadata": {
    "scrolled": true
   },
   "outputs": [
    {
     "data": {
      "image/png": "[encoded data removed]",
      "text/plain": [
       "<Figure size 432x288 with 1 Axes>"
      ]
     },
     "metadata": {
      "needs_background": "light"
     },
     "output_type": "display_data"
    }
   ],
   "source": [
    "# Using Box Plot to detect outliers\n",
    "# lc.loan_amnt.plot.box()\n",
    "boxplot('loan_amnt')\n",
    "\n",
    "\n",
    "\n",
    "\n",
    "\n"
   ]
  },
  {
   "cell_type": "code",
   "execution_count": 152,
   "id": "2e2db660",
   "metadata": {},
   "outputs": [
    {
     "data": {
      "image/png": "[encoded data removed]",
      "text/plain": [
       "<Figure size 432x288 with 1 Axes>"
      ]
     },
     "metadata": {
      "needs_background": "light"
     },
     "output_type": "display_data"
    }
   ],
   "source": [
    "boxplot('funded_amnt')"
   ]
  },
  {
   "cell_type": "code",
   "execution_count": 153,
   "id": "c27b8c6f",
   "metadata": {},
   "outputs": [
    {
     "data": {
      "image/png": "[encoded data removed]",
      "text/plain": [
       "<Figure size 432x288 with 1 Axes>"
      ]
     },
     "metadata": {
      "needs_background": "light"
     },
     "output_type": "display_data"
    }
   ],
   "source": [
    "boxplot('funded_amnt_inv')"
   ]
  },
  {
   "cell_type": "code",
   "execution_count": 154,
   "id": "fbe3688e",
   "metadata": {},
   "outputs": [
    {
     "data": {
      "text/plain": [
       "(34756, 23)"
      ]
     },
     "execution_count": 154,
     "metadata": {},
     "output_type": "execute_result"
    }
   ],
   "source": [
    "#remove the outlier for loan amount funded amount and funded_amnt_inv\n",
    "\n",
    "lc = lc[lc['loan_amnt'] < 30000]\n",
    "#  funded amount and funded_amnt_inv\n",
    "lc = lc[lc['funded_amnt'] < 30000]\n",
    "\n",
    "lc = lc[lc['funded_amnt_inv'] < 27500]\n",
    "\n",
    "lc.shape"
   ]
  },
  {
   "cell_type": "code",
   "execution_count": 155,
   "id": "9dc9a783",
   "metadata": {},
   "outputs": [
    {
     "data": {
      "image/png": "[encoded data removed]",
      "text/plain": [
       "<Figure size 432x288 with 1 Axes>"
      ]
     },
     "metadata": {
      "needs_background": "light"
     },
     "output_type": "display_data"
    }
   ],
   "source": [
    "#'dti'\n",
    "\n",
    "boxplot('dti')\n",
    "#box plot of dti looks good"
   ]
  },
  {
   "cell_type": "code",
   "execution_count": 156,
   "id": "dd42991a",
   "metadata": {},
   "outputs": [
    {
     "data": {
      "image/png": "[encoded data removed]",
      "text/plain": [
       "<Figure size 432x288 with 1 Axes>"
      ]
     },
     "metadata": {
      "needs_background": "light"
     },
     "output_type": "display_data"
    }
   ],
   "source": [
    "# Boxplot for 'installment'\n",
    "boxplot( 'installment')\n"
   ]
  },
  {
   "cell_type": "code",
   "execution_count": 157,
   "id": "d14b2612",
   "metadata": {},
   "outputs": [
    {
     "data": {
      "text/plain": [
       "(33744, 23)"
      ]
     },
     "execution_count": 157,
     "metadata": {},
     "output_type": "execute_result"
    }
   ],
   "source": [
    "#remove outlier for installment\n",
    "lc = lc[lc['installment'] < 771]\n",
    "lc.shape"
   ]
  },
  {
   "cell_type": "code",
   "execution_count": 158,
   "id": "51e620f9",
   "metadata": {},
   "outputs": [
    {
     "data": {
      "image/png": "[encoded data removed]",
      "text/plain": [
       "<Figure size 432x288 with 1 Axes>"
      ]
     },
     "metadata": {
      "needs_background": "light"
     },
     "output_type": "display_data"
    }
   ],
   "source": [
    "#Boxplot for annual_inc\n",
    "boxplot('annual_inc')\n",
    "\n"
   ]
  },
  {
   "cell_type": "code",
   "execution_count": 159,
   "id": "6ee72aad",
   "metadata": {},
   "outputs": [
    {
     "data": {
      "image/png": "[encoded data removed]",
      "text/plain": [
       "<Figure size 432x288 with 1 Axes>"
      ]
     },
     "metadata": {
      "needs_background": "light"
     },
     "output_type": "display_data"
    }
   ],
   "source": [
    "#remove outlier\n",
    "lc = lc[lc['annual_inc'] < 135000]\n",
    "boxplot('annual_inc')"
   ]
  },
  {
   "cell_type": "code",
   "execution_count": 160,
   "id": "60a628ed",
   "metadata": {},
   "outputs": [
    {
     "data": {
      "image/png": "[encoded data removed]",
      "text/plain": [
       "<Figure size 432x288 with 1 Axes>"
      ]
     },
     "metadata": {
      "needs_background": "light"
     },
     "output_type": "display_data"
    }
   ],
   "source": [
    "boxplot('int_rate')"
   ]
  },
  {
   "cell_type": "markdown",
   "id": "7bdbb37d",
   "metadata": {},
   "source": [
    "## Univariate Analysis"
   ]
  },
  {
   "cell_type": "code",
   "execution_count": 161,
   "id": "7c2be4d9",
   "metadata": {},
   "outputs": [],
   "source": [
    "\n",
    "def histd(name, title):\n",
    "#     fig = px.histogram(lc, x=name, color=\"loan_status\", title=title)\n",
    "#     fig.show(renderer=\"colab\")\n",
    "    sns.histplot(data=lc, x=name, hue=\"loan_status\", bins=2)\n",
    "    plt.legend(bbox_to_anchor=(1.02, 1), loc='upper left', borderaxespad=0)\n",
    "\n",
    "\n",
    "    \n",
    "def barplot(lcd, x, y):\n",
    "#     plt.figure(figsize=(10,16))\n",
    "#     sns.barplot(x=x, y=y, data=lcd)\n",
    "#     plt.show()\n",
    "#     fig = px.bar(lcd, x=x, y=y, color=x, color_discrete_sequence=['red', 'blue', 'green', 'orange','gray','yellow'])\n",
    "#     fig.show(renderer=\"colab\")\n",
    "    sns.countplot(data=lcd, x=x, hue=x)\n",
    "    plt.legend(bbox_to_anchor=(1.02, 1), loc='upper left', borderaxespad=0)\n",
    "\n",
    "\n",
    "    \n",
    "# def histdper(name, title):\n",
    "#     fig = px.histogram(lc, x=name, color=\"loan_status\", title=title, histnorm='percent' )\n",
    "#     fig.show(renderer=\"colab\")\n",
    "    "
   ]
  },
  {
   "cell_type": "markdown",
   "id": "50b3e1a2",
   "metadata": {},
   "source": [
    "###### Analyze LoanStatus"
   ]
  },
  {
   "cell_type": "code",
   "execution_count": 162,
   "id": "5696c2f8",
   "metadata": {},
   "outputs": [
    {
     "name": "stderr",
     "output_type": "stream",
     "text": [
      "No artists with labels found to put in legend.  Note that artists whose label start with an underscore are ignored when legend() is called with no argument.\n"
     ]
    },
    {
     "data": {
      "image/png": "[encoded data removed]",
      "text/plain": [
       "<Figure size 432x288 with 1 Axes>"
      ]
     },
     "metadata": {
      "needs_background": "light"
     },
     "output_type": "display_data"
    }
   ],
   "source": [
    "histd('loan_status', 'Frequency Of Loan Status')"
   ]
  },
  {
   "cell_type": "code",
   "execution_count": 163,
   "id": "aae8ae3b",
   "metadata": {},
   "outputs": [
    {
     "data": {
      "text/plain": [
       "0.14"
      ]
     },
     "execution_count": 163,
     "metadata": {},
     "output_type": "execute_result"
    }
   ],
   "source": [
    "# %age of default loan\n",
    "round(np.mean(lc['loan_status']), 2)"
   ]
  },
  {
   "cell_type": "markdown",
   "id": "0a37902d",
   "metadata": {},
   "source": [
    "### Insight: As per above histogram the number of fully paid loan is higher as compared to default loans. But still the charged-off loan percentage(14%) is a bit high."
   ]
  },
  {
   "cell_type": "code",
   "execution_count": 164,
   "id": "ce1e17d9",
   "metadata": {},
   "outputs": [
    {
     "data": {
      "text/plain": [
       "0.14"
      ]
     },
     "execution_count": 164,
     "metadata": {},
     "output_type": "execute_result"
    }
   ],
   "source": [
    "round(np.mean(lc['loan_status']), 2)"
   ]
  },
  {
   "cell_type": "code",
   "execution_count": 165,
   "id": "c00e6624",
   "metadata": {},
   "outputs": [
    {
     "data": {
      "text/plain": [
       "Index(['id', 'member_id', 'loan_amnt', 'funded_amnt', 'funded_amnt_inv',\n",
       "       'term', 'int_rate', 'installment', 'grade', 'sub_grade', 'emp_length',\n",
       "       'home_ownership', 'annual_inc', 'verification_status', 'issue_d',\n",
       "       'loan_status', 'purpose', 'addr_state', 'dti', 'grade_c', 'sub_grade_c',\n",
       "       'Year', 'Month'],\n",
       "      dtype='object')"
      ]
     },
     "execution_count": 165,
     "metadata": {},
     "output_type": "execute_result"
    }
   ],
   "source": [
    "lc.columns"
   ]
  },
  {
   "cell_type": "code",
   "execution_count": 166,
   "id": "65947120",
   "metadata": {
    "scrolled": true
   },
   "outputs": [
    {
     "data": {
      "text/html": [
       "<div>\n",
       "<style scoped>\n",
       "    .dataframe tbody tr th:only-of-type {\n",
       "        vertical-align: middle;\n",
       "    }\n",
       "\n",
       "    .dataframe tbody tr th {\n",
       "        vertical-align: top;\n",
       "    }\n",
       "\n",
       "    .dataframe thead th {\n",
       "        text-align: right;\n",
       "    }\n",
       "</style>\n",
       "<table border=\"1\" class=\"dataframe\">\n",
       "  <thead>\n",
       "    <tr style=\"text-align: right;\">\n",
       "      <th></th>\n",
       "      <th>id</th>\n",
       "      <th>member_id</th>\n",
       "      <th>loan_amnt</th>\n",
       "      <th>funded_amnt</th>\n",
       "      <th>funded_amnt_inv</th>\n",
       "      <th>term</th>\n",
       "      <th>int_rate</th>\n",
       "      <th>installment</th>\n",
       "      <th>grade</th>\n",
       "      <th>sub_grade</th>\n",
       "      <th>emp_length</th>\n",
       "      <th>home_ownership</th>\n",
       "      <th>annual_inc</th>\n",
       "      <th>verification_status</th>\n",
       "      <th>issue_d</th>\n",
       "      <th>loan_status</th>\n",
       "      <th>purpose</th>\n",
       "      <th>addr_state</th>\n",
       "      <th>dti</th>\n",
       "      <th>grade_c</th>\n",
       "      <th>sub_grade_c</th>\n",
       "      <th>Year</th>\n",
       "      <th>Month</th>\n",
       "    </tr>\n",
       "  </thead>\n",
       "  <tbody>\n",
       "    <tr>\n",
       "      <th>1</th>\n",
       "      <td>1077430</td>\n",
       "      <td>1314167</td>\n",
       "      <td>2500</td>\n",
       "      <td>2500</td>\n",
       "      <td>2500.0</td>\n",
       "      <td>60</td>\n",
       "      <td>15.27</td>\n",
       "      <td>59.83</td>\n",
       "      <td>C</td>\n",
       "      <td>C4</td>\n",
       "      <td>0</td>\n",
       "      <td>RENT</td>\n",
       "      <td>30000.0</td>\n",
       "      <td>Source Verified</td>\n",
       "      <td>2011-12-01</td>\n",
       "      <td>1</td>\n",
       "      <td>car</td>\n",
       "      <td>GA</td>\n",
       "      <td>1.00</td>\n",
       "      <td>1</td>\n",
       "      <td>1</td>\n",
       "      <td>2011</td>\n",
       "      <td>12</td>\n",
       "    </tr>\n",
       "    <tr>\n",
       "      <th>8</th>\n",
       "      <td>1071795</td>\n",
       "      <td>1306957</td>\n",
       "      <td>5600</td>\n",
       "      <td>5600</td>\n",
       "      <td>5600.0</td>\n",
       "      <td>60</td>\n",
       "      <td>21.28</td>\n",
       "      <td>152.39</td>\n",
       "      <td>F</td>\n",
       "      <td>F2</td>\n",
       "      <td>4</td>\n",
       "      <td>OWN</td>\n",
       "      <td>40000.0</td>\n",
       "      <td>Source Verified</td>\n",
       "      <td>2011-12-01</td>\n",
       "      <td>1</td>\n",
       "      <td>small_business</td>\n",
       "      <td>CA</td>\n",
       "      <td>5.55</td>\n",
       "      <td>4</td>\n",
       "      <td>7</td>\n",
       "      <td>2011</td>\n",
       "      <td>12</td>\n",
       "    </tr>\n",
       "    <tr>\n",
       "      <th>9</th>\n",
       "      <td>1071570</td>\n",
       "      <td>1306721</td>\n",
       "      <td>5375</td>\n",
       "      <td>5375</td>\n",
       "      <td>5350.0</td>\n",
       "      <td>60</td>\n",
       "      <td>12.69</td>\n",
       "      <td>121.45</td>\n",
       "      <td>B</td>\n",
       "      <td>B5</td>\n",
       "      <td>0</td>\n",
       "      <td>RENT</td>\n",
       "      <td>15000.0</td>\n",
       "      <td>Verified</td>\n",
       "      <td>2011-12-01</td>\n",
       "      <td>1</td>\n",
       "      <td>other</td>\n",
       "      <td>TX</td>\n",
       "      <td>18.08</td>\n",
       "      <td>0</td>\n",
       "      <td>4</td>\n",
       "      <td>2011</td>\n",
       "      <td>12</td>\n",
       "    </tr>\n",
       "    <tr>\n",
       "      <th>12</th>\n",
       "      <td>1064687</td>\n",
       "      <td>1298717</td>\n",
       "      <td>9000</td>\n",
       "      <td>9000</td>\n",
       "      <td>9000.0</td>\n",
       "      <td>36</td>\n",
       "      <td>13.49</td>\n",
       "      <td>305.38</td>\n",
       "      <td>C</td>\n",
       "      <td>C1</td>\n",
       "      <td>0</td>\n",
       "      <td>RENT</td>\n",
       "      <td>30000.0</td>\n",
       "      <td>Source Verified</td>\n",
       "      <td>2011-12-01</td>\n",
       "      <td>1</td>\n",
       "      <td>debt_consolidation</td>\n",
       "      <td>VA</td>\n",
       "      <td>10.08</td>\n",
       "      <td>1</td>\n",
       "      <td>3</td>\n",
       "      <td>2011</td>\n",
       "      <td>12</td>\n",
       "    </tr>\n",
       "    <tr>\n",
       "      <th>14</th>\n",
       "      <td>1069057</td>\n",
       "      <td>1303503</td>\n",
       "      <td>10000</td>\n",
       "      <td>10000</td>\n",
       "      <td>10000.0</td>\n",
       "      <td>36</td>\n",
       "      <td>10.65</td>\n",
       "      <td>325.74</td>\n",
       "      <td>B</td>\n",
       "      <td>B2</td>\n",
       "      <td>3</td>\n",
       "      <td>RENT</td>\n",
       "      <td>100000.0</td>\n",
       "      <td>Source Verified</td>\n",
       "      <td>2011-12-01</td>\n",
       "      <td>1</td>\n",
       "      <td>other</td>\n",
       "      <td>CA</td>\n",
       "      <td>7.06</td>\n",
       "      <td>0</td>\n",
       "      <td>0</td>\n",
       "      <td>2011</td>\n",
       "      <td>12</td>\n",
       "    </tr>\n",
       "  </tbody>\n",
       "</table>\n",
       "</div>"
      ],
      "text/plain": [
       "         id  member_id  loan_amnt  funded_amnt  funded_amnt_inv term  \\\n",
       "1   1077430    1314167       2500         2500           2500.0   60   \n",
       "8   1071795    1306957       5600         5600           5600.0   60   \n",
       "9   1071570    1306721       5375         5375           5350.0   60   \n",
       "12  1064687    1298717       9000         9000           9000.0   36   \n",
       "14  1069057    1303503      10000        10000          10000.0   36   \n",
       "\n",
       "    int_rate  installment grade sub_grade  emp_length home_ownership  \\\n",
       "1      15.27        59.83     C        C4           0           RENT   \n",
       "8      21.28       152.39     F        F2           4            OWN   \n",
       "9      12.69       121.45     B        B5           0           RENT   \n",
       "12     13.49       305.38     C        C1           0           RENT   \n",
       "14     10.65       325.74     B        B2           3           RENT   \n",
       "\n",
       "    annual_inc verification_status    issue_d  loan_status  \\\n",
       "1      30000.0     Source Verified 2011-12-01            1   \n",
       "8      40000.0     Source Verified 2011-12-01            1   \n",
       "9      15000.0            Verified 2011-12-01            1   \n",
       "12     30000.0     Source Verified 2011-12-01            1   \n",
       "14    100000.0     Source Verified 2011-12-01            1   \n",
       "\n",
       "               purpose addr_state    dti  grade_c  sub_grade_c  Year  Month  \n",
       "1                  car         GA   1.00        1            1  2011     12  \n",
       "8       small_business         CA   5.55        4            7  2011     12  \n",
       "9                other         TX  18.08        0            4  2011     12  \n",
       "12  debt_consolidation         VA  10.08        1            3  2011     12  \n",
       "14               other         CA   7.06        0            0  2011     12  "
      ]
     },
     "execution_count": 166,
     "metadata": {},
     "output_type": "execute_result"
    }
   ],
   "source": [
    "#default loan records\n",
    "lcd = lc[lc['loan_status']==1]\n",
    "lcd.head()"
   ]
  },
  {
   "cell_type": "markdown",
   "id": "f6cbe3b2",
   "metadata": {},
   "source": [
    "## Analyze Loan Amount"
   ]
  },
  {
   "cell_type": "code",
   "execution_count": 167,
   "id": "0d59501a",
   "metadata": {},
   "outputs": [],
   "source": [
    "# Since Loan_amount is a conitneous variable , binning is required to do univariate analysis. \n",
    "# As we can see from the box plot, \n",
    "# most of the datapoints are between 5k and 15k.\n",
    "# low < 5k, 5k<= mid < 15k, 15k <= high < 25k and very high if > 25k\n",
    "def loan_amount_binning(amt):\n",
    "    if amt < 5000:\n",
    "        return 'low'\n",
    "    elif amt >=5000 and amt < 15000:\n",
    "        return 'medium'\n",
    "    elif amt >= 15000 and amt < 25000:\n",
    "        return 'high'\n",
    "    else:\n",
    "        return 'very high'\n",
    "    \n",
    "lc['loan_amnt_c'] = lc.loan_amnt.apply(lambda x : loan_amount_binning(x))\n",
    "    "
   ]
  },
  {
   "cell_type": "code",
   "execution_count": 168,
   "id": "f5b958ed",
   "metadata": {},
   "outputs": [
    {
     "data": {
      "text/plain": [
       "medium       18865\n",
       "low           6939\n",
       "high          5928\n",
       "very high      446\n",
       "Name: loan_amnt_c, dtype: int64"
      ]
     },
     "execution_count": 168,
     "metadata": {},
     "output_type": "execute_result"
    },
    {
     "data": {
      "image/png": "[encoded data removed]",
      "text/plain": [
       "<Figure size 432x288 with 1 Axes>"
      ]
     },
     "metadata": {
      "needs_background": "light"
     },
     "output_type": "display_data"
    }
   ],
   "source": [
    "lcd = lc[lc['loan_status']==1]\n",
    "barplot(lcd, 'loan_amnt_c', 'loan_status')\n",
    "lc['loan_amnt_c'].value_counts()"
   ]
  },
  {
   "cell_type": "markdown",
   "id": "eb502967",
   "metadata": {},
   "source": [
    "### Observation\n",
    "### <span style=\"color:red\">Higher the loan amount is more the risk of default. And medium and high ranged loans are more prone to default</span> "
   ]
  },
  {
   "cell_type": "markdown",
   "id": "d7a956e0",
   "metadata": {},
   "source": [
    "### Analyze Funded Amount And Funded Amount Invested\n"
   ]
  },
  {
   "cell_type": "code",
   "execution_count": 169,
   "id": "9f4461b5",
   "metadata": {},
   "outputs": [
    {
     "data": {
      "text/plain": [
       "medium       18865\n",
       "low           6939\n",
       "high          5928\n",
       "very high      446\n",
       "Name: funded_amnt_c, dtype: int64"
      ]
     },
     "execution_count": 169,
     "metadata": {},
     "output_type": "execute_result"
    },
    {
     "data": {
      "image/png": "[encoded data removed]",
      "text/plain": [
       "<Figure size 432x288 with 1 Axes>"
      ]
     },
     "metadata": {
      "needs_background": "light"
     },
     "output_type": "display_data"
    }
   ],
   "source": [
    "lc['funded_amnt_c'] = lc.funded_amnt.apply(lambda x : loan_amount_binning(x))\n",
    "lcd = lc[lc['loan_status']==1]\n",
    "barplot(lcd, 'funded_amnt_c', 'loan_status')\n",
    "lc['funded_amnt_c'].value_counts()"
   ]
  },
  {
   "cell_type": "code",
   "execution_count": 170,
   "id": "5e9606e3",
   "metadata": {},
   "outputs": [
    {
     "data": {
      "text/plain": [
       "medium       18652\n",
       "low           8545\n",
       "high          4839\n",
       "very high      142\n",
       "Name: funded_amnt_inv_c, dtype: int64"
      ]
     },
     "execution_count": 170,
     "metadata": {},
     "output_type": "execute_result"
    },
    {
     "data": {
      "image/png": "[encoded data removed]",
      "text/plain": [
       "<Figure size 432x288 with 1 Axes>"
      ]
     },
     "metadata": {
      "needs_background": "light"
     },
     "output_type": "display_data"
    }
   ],
   "source": [
    "lc['funded_amnt_inv_c'] = lc.funded_amnt_inv.apply(lambda x : loan_amount_binning(x))\n",
    "lcd = lc[lc['loan_status']==1]\n",
    "barplot(lcd, 'funded_amnt_inv_c', 'loan_status')\n",
    "lc['funded_amnt_inv_c'].value_counts()"
   ]
  },
  {
   "cell_type": "markdown",
   "id": "244435de",
   "metadata": {},
   "source": [
    "### Observation\n",
    "#### Since funded amount and funded amount invested is highly related to loan amount, it would have simillar kind of insights. Higher the amount is more prone to default"
   ]
  },
  {
   "cell_type": "markdown",
   "id": "ba3f5244",
   "metadata": {},
   "source": [
    "### Analyze Term"
   ]
  },
  {
   "cell_type": "code",
   "execution_count": 171,
   "id": "df9e390a",
   "metadata": {},
   "outputs": [
    {
     "data": {
      "text/plain": [
       "36    2727\n",
       "60    1836\n",
       "Name: term, dtype: int64"
      ]
     },
     "execution_count": 171,
     "metadata": {},
     "output_type": "execute_result"
    },
    {
     "data": {
      "image/png": "[encoded data removed]",
      "text/plain": [
       "<Figure size 432x288 with 1 Axes>"
      ]
     },
     "metadata": {
      "needs_background": "light"
     },
     "output_type": "display_data"
    }
   ],
   "source": [
    "barplot(lcd, 'term', 'loan_status')\n",
    "lcd.term.value_counts()\n"
   ]
  },
  {
   "cell_type": "markdown",
   "id": "e99c9187",
   "metadata": {},
   "source": [
    "### Observation\n",
    "#### <span style=\"color:red\"> Lesser the tenure is more prone to default</span>"
   ]
  },
  {
   "cell_type": "markdown",
   "id": "b5aad570",
   "metadata": {},
   "source": [
    "### Analyze Interest Rate\n"
   ]
  },
  {
   "cell_type": "code",
   "execution_count": 172,
   "id": "4bd5c29f",
   "metadata": {},
   "outputs": [],
   "source": [
    "def int_rate_binning(amt):\n",
    "    if amt <= 10:\n",
    "        return 'low'\n",
    "    elif amt > 10 and amt <=15:\n",
    "        return 'medium'\n",
    "    else:\n",
    "        return 'high'"
   ]
  },
  {
   "cell_type": "code",
   "execution_count": 173,
   "id": "b13d1b88",
   "metadata": {
    "scrolled": true
   },
   "outputs": [
    {
     "data": {
      "text/plain": [
       "medium    2258\n",
       "high      1610\n",
       "low        695\n",
       "Name: int_rate_c, dtype: int64"
      ]
     },
     "execution_count": 173,
     "metadata": {},
     "output_type": "execute_result"
    },
    {
     "data": {
      "image/png": "[encoded data removed]",
      "text/plain": [
       "<Figure size 432x288 with 1 Axes>"
      ]
     },
     "metadata": {
      "needs_background": "light"
     },
     "output_type": "display_data"
    }
   ],
   "source": [
    "lc['int_rate_c'] = lc.int_rate.apply(lambda x : int_rate_binning(x))\n",
    "lcd = lc[lc['loan_status']==1] \n",
    "barplot(lcd, 'int_rate_c', 'loan_status')\n",
    "lcd.int_rate_c.value_counts()"
   ]
  },
  {
   "cell_type": "markdown",
   "id": "3866b035",
   "metadata": {},
   "source": [
    "### Observation\n",
    "#### <span style=\"color:red\"> Default rate increases with interest rate</span>"
   ]
  },
  {
   "cell_type": "markdown",
   "id": "a8261087",
   "metadata": {},
   "source": [
    "### Analyze Installment\n"
   ]
  },
  {
   "cell_type": "code",
   "execution_count": 174,
   "id": "fbef9f0e",
   "metadata": {},
   "outputs": [],
   "source": [
    "\n",
    "def installments_binning(amt):\n",
    "    if amt <= 160:\n",
    "        return 'low'\n",
    "    elif amt > 160 and amt <=390:\n",
    "        return 'medium'\n",
    "    elif amt > 390 and amt <=720:\n",
    "        return 'high'\n",
    "    else:\n",
    "        return 'very high'"
   ]
  },
  {
   "cell_type": "code",
   "execution_count": 175,
   "id": "2d3e2adc",
   "metadata": {},
   "outputs": [
    {
     "data": {
      "text/plain": [
       "very high    4507\n",
       "low            31\n",
       "high           16\n",
       "medium          9\n",
       "Name: installment_c, dtype: int64"
      ]
     },
     "execution_count": 175,
     "metadata": {},
     "output_type": "execute_result"
    },
    {
     "data": {
      "image/png": "[encoded data removed]",
      "text/plain": [
       "<Figure size 432x288 with 1 Axes>"
      ]
     },
     "metadata": {
      "needs_background": "light"
     },
     "output_type": "display_data"
    }
   ],
   "source": [
    "\n",
    "lc['installment_c'] = lc.funded_amnt_inv.apply(lambda x : installments_binning(x))\n",
    "lcd = lc[lc['loan_status']==1] \n",
    "barplot(lcd, 'installment_c', 'loan_status')\n",
    "lcd.installment_c.value_counts()"
   ]
  },
  {
   "cell_type": "code",
   "execution_count": null,
   "id": "afefa106",
   "metadata": {},
   "outputs": [],
   "source": []
  },
  {
   "cell_type": "markdown",
   "id": "68c8d5dd",
   "metadata": {},
   "source": [
    "### Observation\n",
    "#### <span style=\"color:red\"> Higher the installments higher the number of defaults</span>\n"
   ]
  },
  {
   "cell_type": "markdown",
   "id": "6378fc92",
   "metadata": {},
   "source": [
    "### Analyze Grade\n"
   ]
  },
  {
   "cell_type": "code",
   "execution_count": 176,
   "id": "a117d074",
   "metadata": {},
   "outputs": [],
   "source": [
    "def barplot_grade(lcd, x, y, categ_arr):\n",
    "#     sns.barplot(x=cat, y=md, data=lcd)\n",
    "#     plt.show()\n",
    "    fig = px.bar(lcd, x=x, y=y, color=x, color_discrete_sequence=['red', 'blue', 'green', 'orange','gray','yellow'])\n",
    "    fig.update_layout(barmode='stack',  xaxis={'categoryorder':'array', 'categoryarray':categ_arr})\n",
    "    fig.show()"
   ]
  },
  {
   "cell_type": "code",
   "execution_count": 177,
   "id": "6e75110a",
   "metadata": {},
   "outputs": [
    {
     "data": {
      "text/plain": [
       "B    1161\n",
       "C    1147\n",
       "D     931\n",
       "E     526\n",
       "A     517\n",
       "F     207\n",
       "G      74\n",
       "Name: grade, dtype: int64"
      ]
     },
     "execution_count": 177,
     "metadata": {},
     "output_type": "execute_result"
    },
    {
     "data": {
      "image/png": "[encoded data removed]",
      "text/plain": [
       "<Figure size 432x288 with 1 Axes>"
      ]
     },
     "metadata": {
      "needs_background": "light"
     },
     "output_type": "display_data"
    }
   ],
   "source": [
    "categ_arr = sorted(lcd.grade.unique(), reverse=True)\n",
    "barplot(lcd, 'grade', 'loan_status')\n",
    "\n",
    "lcd.grade.value_counts()"
   ]
  },
  {
   "cell_type": "markdown",
   "id": "c78029ac",
   "metadata": {},
   "source": [
    "### Observation\n",
    "#### <span style=\"color:red\"> Higher the grade higher the number of defaults</span>\n"
   ]
  },
  {
   "cell_type": "markdown",
   "id": "cf0199b2",
   "metadata": {},
   "source": [
    "### Analyze Sub Grade"
   ]
  },
  {
   "cell_type": "code",
   "execution_count": 178,
   "id": "70daed58",
   "metadata": {},
   "outputs": [
    {
     "data": {
      "image/png": "[encoded data removed]",
      "text/plain": [
       "<Figure size 2160x720 with 1 Axes>"
      ]
     },
     "metadata": {
      "needs_background": "light"
     },
     "output_type": "display_data"
    }
   ],
   "source": [
    "categ_arr = sorted(lcd.sub_grade.unique(), reverse=False)\n",
    "plt.figure(figsize=(30, 10))\n",
    "barplot(lcd, 'sub_grade', 'loan_status')"
   ]
  },
  {
   "cell_type": "markdown",
   "id": "c30e9684",
   "metadata": {},
   "source": [
    "### Observation\n",
    "#### SubGrade does not matter a lot for low level grades. But High Grades like A, it has A1 is better as compared to A2 and A3"
   ]
  },
  {
   "cell_type": "markdown",
   "id": "672c95f4",
   "metadata": {},
   "source": [
    "### Analyze emp_length"
   ]
  },
  {
   "cell_type": "code",
   "execution_count": 179,
   "id": "c23c04bf",
   "metadata": {},
   "outputs": [
    {
     "data": {
      "image/png": "[encoded data removed]",
      "text/plain": [
       "<Figure size 432x288 with 1 Axes>"
      ]
     },
     "metadata": {
      "needs_background": "light"
     },
     "output_type": "display_data"
    }
   ],
   "source": [
    "barplot(lcd, 'emp_length', 'loan_status')\n",
    "\n"
   ]
  },
  {
   "cell_type": "markdown",
   "id": "d4cb09f1",
   "metadata": {},
   "source": [
    "### Observation\n",
    "#### Emp Length more than 10 years or less than 2 years of experience has high default rate"
   ]
  },
  {
   "cell_type": "markdown",
   "id": "41c93e0e",
   "metadata": {},
   "source": [
    "### Analyze home_ownership"
   ]
  },
  {
   "cell_type": "code",
   "execution_count": 180,
   "id": "e7947023",
   "metadata": {},
   "outputs": [
    {
     "data": {
      "image/png": "[encoded data removed]",
      "text/plain": [
       "<Figure size 432x288 with 1 Axes>"
      ]
     },
     "metadata": {
      "needs_background": "light"
     },
     "output_type": "display_data"
    }
   ],
   "source": [
    "\n",
    "barplot(lcd, 'home_ownership', 'loan_status')\n"
   ]
  },
  {
   "cell_type": "markdown",
   "id": "8d934ae3",
   "metadata": {},
   "source": [
    "### Observation\n",
    "#### <span style=\"color:red\"> Rented Applicants have high number of defaults</span>\n"
   ]
  },
  {
   "cell_type": "markdown",
   "id": "7926ea11",
   "metadata": {},
   "source": [
    "### Analyze verification_status"
   ]
  },
  {
   "cell_type": "code",
   "execution_count": 181,
   "id": "7b6fcd08",
   "metadata": {},
   "outputs": [
    {
     "data": {
      "text/plain": [
       "Not Verified       1884\n",
       "Verified           1438\n",
       "Source Verified    1241\n",
       "Name: verification_status, dtype: int64"
      ]
     },
     "execution_count": 181,
     "metadata": {},
     "output_type": "execute_result"
    },
    {
     "data": {
      "image/png": "[encoded data removed]",
      "text/plain": [
       "<Figure size 432x288 with 1 Axes>"
      ]
     },
     "metadata": {
      "needs_background": "light"
     },
     "output_type": "display_data"
    }
   ],
   "source": [
    "barplot(lcd, 'verification_status', 'loan_status')\n",
    "lcd.verification_status.value_counts()"
   ]
  },
  {
   "cell_type": "markdown",
   "id": "33960241",
   "metadata": {},
   "source": [
    "### Observation\n",
    "#### <span style=\"color:red\"> Verified applicants(Verified and Source Verified  ) have high number of defaults</span>"
   ]
  },
  {
   "cell_type": "code",
   "execution_count": 200,
   "id": "e3062f86-4f48-483d-b641-bee15ae71337",
   "metadata": {},
   "outputs": [
    {
     "data": {
      "text/plain": [
       "debt_consolidation    2250\n",
       "other                  516\n",
       "credit_card            421\n",
       "small_business         356\n",
       "home_improvement       266\n",
       "major_purchase         188\n",
       "car                    151\n",
       "medical                 95\n",
       "wedding                 82\n",
       "moving                  81\n",
       "vacation                48\n",
       "house                   47\n",
       "educational             46\n",
       "renewable_energy        16\n",
       "Name: purpose, dtype: int64"
      ]
     },
     "execution_count": 200,
     "metadata": {},
     "output_type": "execute_result"
    },
    {
     "data": {
      "image/png": "[encoded data removed]",
      "text/plain": [
       "<Figure size 1440x720 with 1 Axes>"
      ]
     },
     "metadata": {
      "needs_background": "light"
     },
     "output_type": "display_data"
    }
   ],
   "source": [
    "#### Analyze Purpose\n",
    "plt.figure(figsize=(20, 10))\n",
    "\n",
    "barplot(lcd, 'purpose', 'loan_status')\n",
    "lcd.purpose.value_counts()"
   ]
  },
  {
   "cell_type": "markdown",
   "id": "021dc03c",
   "metadata": {},
   "source": [
    "## Observation\n",
    "#### <span style=\"color:red\"> debt_consolidation, credit_card, small_business, home_improvement and major_purchase purpose loans have the high default rate respectively  </span>"
   ]
  },
  {
   "cell_type": "markdown",
   "id": "b263f887",
   "metadata": {},
   "source": [
    "### Analyze by Year"
   ]
  },
  {
   "cell_type": "code",
   "execution_count": 183,
   "id": "b004e1b7",
   "metadata": {},
   "outputs": [
    {
     "data": {
      "image/png": "[encoded data removed]",
      "text/plain": [
       "<Figure size 432x288 with 1 Axes>"
      ]
     },
     "metadata": {
      "needs_background": "light"
     },
     "output_type": "display_data"
    }
   ],
   "source": [
    "barplot(lcd, 'Year', 'loan_status')\n"
   ]
  },
  {
   "cell_type": "markdown",
   "id": "00c542dd",
   "metadata": {},
   "source": [
    "### Observation\n",
    "#### <span style=\"color:red\"> Clearly default rate increases with the year </span>"
   ]
  },
  {
   "cell_type": "markdown",
   "id": "bc9c9426",
   "metadata": {},
   "source": [
    "### Analyze by Month"
   ]
  },
  {
   "cell_type": "code",
   "execution_count": 184,
   "id": "f0c19d3a",
   "metadata": {},
   "outputs": [
    {
     "data": {
      "image/png": "[encoded data removed]",
      "text/plain": [
       "<Figure size 432x288 with 1 Axes>"
      ]
     },
     "metadata": {
      "needs_background": "light"
     },
     "output_type": "display_data"
    }
   ],
   "source": [
    "barplot(lcd, 'Month', 'loan_status')\n"
   ]
  },
  {
   "cell_type": "markdown",
   "id": "1edb0263",
   "metadata": {},
   "source": [
    "### Observation\n",
    "#### <span style=\"color:red\"> December has the highest default rate </span>"
   ]
  },
  {
   "cell_type": "markdown",
   "id": "a46165dc",
   "metadata": {},
   "source": [
    "### Analyze Annual Income"
   ]
  },
  {
   "cell_type": "code",
   "execution_count": 185,
   "id": "f5b06b38",
   "metadata": {},
   "outputs": [
    {
     "data": {
      "image/png": "[encoded data removed]",
      "text/plain": [
       "<Figure size 432x288 with 1 Axes>"
      ]
     },
     "metadata": {
      "needs_background": "light"
     },
     "output_type": "display_data"
    }
   ],
   "source": [
    "# boxplot('annual_inc')\n",
    "# annual income\n",
    "def annual_income(amt):\n",
    "    if amt <= 54000:\n",
    "        return 'low'\n",
    "    elif amt > 54000 and amt <=75000:\n",
    "        return 'medium'\n",
    "    elif amt > 75000 and amt <=120000:\n",
    "        return 'high'\n",
    "    else:\n",
    "        return 'very high'\n",
    "\n",
    "lc['annual_inc_c'] = lc['annual_inc'].apply(lambda x: annual_income(x))\n",
    "lcd = lc[lc['loan_status']==1]\n",
    "barplot(lcd, 'annual_inc_c', 'loan_status')\n"
   ]
  },
  {
   "cell_type": "markdown",
   "id": "056335ea",
   "metadata": {},
   "source": [
    "### Observation\n",
    "#### <span style=\"color:red\"> Lower the income has the higher default rate </span>"
   ]
  },
  {
   "cell_type": "markdown",
   "id": "a1dd7653",
   "metadata": {},
   "source": [
    "### Analyze debt to income ratio"
   ]
  },
  {
   "cell_type": "code",
   "execution_count": 186,
   "id": "30a6159f",
   "metadata": {},
   "outputs": [
    {
     "data": {
      "image/png": "[encoded data removed]",
      "text/plain": [
       "<Figure size 432x288 with 1 Axes>"
      ]
     },
     "metadata": {
      "needs_background": "light"
     },
     "output_type": "display_data"
    }
   ],
   "source": [
    "boxplot( 'dti')\n",
    "\n",
    "# debt to income ratio\n",
    "def dti(rt):\n",
    "    if rt <= 8:\n",
    "        return 'low'\n",
    "    elif rt > 8 and rt <=13:\n",
    "        return 'medium'\n",
    "    else:\n",
    "        return 'high'\n",
    "    \n",
    "\n",
    "lc['dti_c'] = lc['dti'].apply(lambda x: dti(x))\n",
    "lcd = lc[lc['loan_status']==1]\n",
    "barplot(lcd, 'dti_c', 'loan_status')\n"
   ]
  },
  {
   "cell_type": "markdown",
   "id": "05e6c6bd",
   "metadata": {},
   "source": [
    "### Obeservation\n",
    "##### <span style=\"color:red\"> Higher the dti has the higher default rate </span>"
   ]
  },
  {
   "cell_type": "markdown",
   "id": "f7d179ce",
   "metadata": {},
   "source": [
    "# Segmented Univariate Analysis\n",
    "\n",
    "##### The default rate varies highly on the purpose of loan. And since different kinds of loan behaves differntly, let's do segmented analysis using purpose variable  for important variables  like loan_amt, int_rate, grade, annual_inc, dti etc"
   ]
  },
  {
   "cell_type": "code",
   "execution_count": 208,
   "id": "2bd3a7a6",
   "metadata": {},
   "outputs": [
    {
     "data": {
      "image/png": "[encoded data removed]",
      "text/plain": [
       "<Figure size 432x288 with 1 Axes>"
      ]
     },
     "metadata": {
      "needs_background": "light"
     },
     "output_type": "display_data"
    },
    {
     "data": {
      "image/png": "[encoded data removed]",
      "text/plain": [
       "<Figure size 432x288 with 1 Axes>"
      ]
     },
     "metadata": {
      "needs_background": "light"
     },
     "output_type": "display_data"
    }
   ],
   "source": [
    "# segmented by purpose \n",
    "# from plotly.graph_objs import *\n",
    "\n",
    "# def bar_plot_segment_analysis(cat_var, lcd):\n",
    "#       fig = px.bar(lcd,  x=cat_var, y=\"loan_status\", color=\"purpose\", barmode=\"group\")\n",
    "# #       fig.update_layout(height=300, paper_bgcolor=\"rgba(0,0,0,0)\", plot_bgcolor=\"rgba(0,0,0,0)\")\n",
    "#       fig.show()\n",
    "    \n",
    "def bar_plot_segment_analysis(cat_var, lcd):\n",
    "    sns.countplot(data=lcd, x=cat_var, hue=\"purpose\")\n",
    "    plt.legend(bbox_to_anchor=(1.02, 1), loc='upper left', borderaxespad=0)\n",
    "    plt.show()\n",
    "#       fig = px.bar(lcd,  x=cat_var, y=\"loan_status\", color=\"purpose\", barmode=\"group\")\n",
    "#       fig.update_layout(height=300, paper_bgcolor=\"rgba(0,0,0,0)\", plot_bgcolor=\"rgba(0,0,0,0)\")\n",
    "#       fig.show()\n",
    "\n",
    "lcs = lcd[lcd['purpose'].isin(['debt_consolidation', 'credit_card', 'small_business', 'home_improvement' , 'major_purchase'])]\n",
    "\n",
    "#Compare default rates for different terms across top five purpose\n",
    "bar_plot_segment_analysis('term', lcs)\n",
    "\n",
    "# print(lcs.columns)\n",
    "\n",
    "#Compare default rates for different loan_amount_range across top five purpose\n",
    "bar_plot_segment_analysis('loan_amnt_c', lcs)\n",
    "\n",
    "# ?px.bar"
   ]
  },
  {
   "cell_type": "markdown",
   "id": "4a6b516a-388e-4c6f-946f-79f470c6516b",
   "metadata": {},
   "source": [
    "#### Loan Amount has high significance"
   ]
  },
  {
   "cell_type": "code",
   "execution_count": 188,
   "id": "4f75976f",
   "metadata": {},
   "outputs": [
    {
     "data": {
      "image/png": "[encoded data removed]",
      "text/plain": [
       "<Figure size 432x288 with 1 Axes>"
      ]
     },
     "metadata": {
      "needs_background": "light"
     },
     "output_type": "display_data"
    }
   ],
   "source": [
    "#Compare default rates for different interest rate range across top five purpose\n",
    "bar_plot_segment_analysis('int_rate_c', lcs)\n",
    "\n"
   ]
  },
  {
   "cell_type": "code",
   "execution_count": 189,
   "id": "9f932b43",
   "metadata": {},
   "outputs": [
    {
     "data": {
      "image/png": "[encoded data removed]",
      "text/plain": [
       "<Figure size 432x288 with 1 Axes>"
      ]
     },
     "metadata": {
      "needs_background": "light"
     },
     "output_type": "display_data"
    }
   ],
   "source": [
    "#Compare default rates for different annual income range across top five purpose\n",
    "bar_plot_segment_analysis('annual_inc_c', lcs)\n",
    "\n"
   ]
  },
  {
   "cell_type": "code",
   "execution_count": 190,
   "id": "d93d2dd3",
   "metadata": {},
   "outputs": [
    {
     "data": {
      "image/png": "[encoded data removed]",
      "text/plain": [
       "<Figure size 432x288 with 1 Axes>"
      ]
     },
     "metadata": {
      "needs_background": "light"
     },
     "output_type": "display_data"
    }
   ],
   "source": [
    "#Compare default rates for different debt to income ratio across top five purpose\n",
    "bar_plot_segment_analysis('dti_c', lcs)\n",
    "\n"
   ]
  },
  {
   "cell_type": "code",
   "execution_count": 191,
   "id": "4ec1ceaa",
   "metadata": {},
   "outputs": [
    {
     "data": {
      "image/png": "[encoded data removed]",
      "text/plain": [
       "<Figure size 432x288 with 1 Axes>"
      ]
     },
     "metadata": {
      "needs_background": "light"
     },
     "output_type": "display_data"
    }
   ],
   "source": [
    "#Compare default rates for different installment range across top five purpose\n",
    "bar_plot_segment_analysis('installment_c', lcs)\n",
    "\n"
   ]
  },
  {
   "cell_type": "code",
   "execution_count": 209,
   "id": "8520359b",
   "metadata": {},
   "outputs": [
    {
     "data": {
      "image/png": "[encoded data removed]",
      "text/plain": [
       "<Figure size 432x288 with 1 Axes>"
      ]
     },
     "metadata": {
      "needs_background": "light"
     },
     "output_type": "display_data"
    }
   ],
   "source": [
    "#Compare default rates for different grade across top five purpose\n",
    "bar_plot_segment_analysis('grade', lcs)\n",
    "\n"
   ]
  },
  {
   "cell_type": "code",
   "execution_count": 193,
   "id": "c0fb8309",
   "metadata": {},
   "outputs": [
    {
     "data": {
      "image/png": "[encoded data removed]",
      "text/plain": [
       "<Figure size 432x288 with 1 Axes>"
      ]
     },
     "metadata": {
      "needs_background": "light"
     },
     "output_type": "display_data"
    }
   ],
   "source": [
    "#Compare default rates for different verification_status across top five purpose\n",
    "bar_plot_segment_analysis('verification_status', lcs)\n",
    "\n"
   ]
  },
  {
   "cell_type": "code",
   "execution_count": 194,
   "id": "4d760763",
   "metadata": {},
   "outputs": [
    {
     "data": {
      "image/png": "[encoded data removed]",
      "text/plain": [
       "<Figure size 432x288 with 1 Axes>"
      ]
     },
     "metadata": {
      "needs_background": "light"
     },
     "output_type": "display_data"
    }
   ],
   "source": [
    "#Compare default rates for different year across top five purpose\n",
    "bar_plot_segment_analysis('Year', lcs)\n",
    "\n",
    "\n"
   ]
  },
  {
   "cell_type": "code",
   "execution_count": 195,
   "id": "19483e2c-53a3-45cd-bbd9-6101aa7c6914",
   "metadata": {},
   "outputs": [
    {
     "data": {
      "text/plain": [
       "debt_consolidation    12\n",
       "small_business         5\n",
       "home_improvement       2\n",
       "major_purchase         1\n",
       "credit_card            1\n",
       "Name: purpose, dtype: int64"
      ]
     },
     "execution_count": 195,
     "metadata": {},
     "output_type": "execute_result"
    }
   ],
   "source": [
    "lcs[lcs['Year']==2007].purpose.value_counts()\n"
   ]
  },
  {
   "cell_type": "code",
   "execution_count": 196,
   "id": "854bc51d",
   "metadata": {},
   "outputs": [
    {
     "data": {
      "image/png": "[encoded data removed]",
      "text/plain": [
       "<Figure size 432x288 with 1 Axes>"
      ]
     },
     "metadata": {
      "needs_background": "light"
     },
     "output_type": "display_data"
    }
   ],
   "source": [
    "#Compare default rates for different month across top five purpose\n",
    "bar_plot_segment_analysis('Month', lcs)"
   ]
  },
  {
   "cell_type": "code",
   "execution_count": 197,
   "id": "a8351048-3e66-4bfb-a216-a1c97e177c33",
   "metadata": {},
   "outputs": [
    {
     "data": {
      "image/png": "[encoded data removed]",
      "text/plain": [
       "<Figure size 432x288 with 1 Axes>"
      ]
     },
     "metadata": {
      "needs_background": "light"
     },
     "output_type": "display_data"
    }
   ],
   "source": [
    "#Compare default rates for different month across top five purpose\n",
    "bar_plot_segment_analysis('home_ownership', lcs)\n",
    "# lcs.columns"
   ]
  },
  {
   "cell_type": "markdown",
   "id": "a89c1f8d",
   "metadata": {},
   "source": [
    "# Observations\n",
    "\n",
    "<li>\n",
    "    <span> debit_consolidstion loan type has a higher default rate irrespective of other important variable like annual income, Year, Month, verification status</span>\n",
    "</li>\n",
    "\n",
    "<li>Default Rate is increasing with year irrespective of purpose of loan</li>\n",
    "\n",
    "<li>More number of defaulter in mid range interest rate</li>\n",
    "<li> Verified loans has less default rate for all the pupose except debit_consolidstion loan </li>\n",
    "\n",
    "<li> Very high installments loans have high default rate\n"
   ]
  },
  {
   "cell_type": "markdown",
   "id": "935bc0e1-bacd-46d8-8451-93dea2dd14ed",
   "metadata": {},
   "source": [
    "## Bivariate Analysis"
   ]
  },
  {
   "cell_type": "code",
   "execution_count": 206,
   "id": "990ea123-ca48-43f8-b6b1-6e2251a5579e",
   "metadata": {},
   "outputs": [
    {
     "data": {
      "image/png": "[encoded data removed]",
      "text/plain": [
       "<Figure size 1440x1440 with 2 Axes>"
      ]
     },
     "metadata": {
      "needs_background": "light"
     },
     "output_type": "display_data"
    }
   ],
   "source": [
    "#Finding correlation matric\n",
    "corr_matrix = lc.corr()\n",
    "plt.figure(figsize=(20,20))\n",
    "#plotting correlatioon matric on a heat map\n",
    "ax = sns.heatmap(corr_matrix, annot = True, cmap='Blues')\n",
    "top, bottom = ax.get_ylim()\n",
    "ax.set_ylim(top+0.5, bottom-0.5)\n",
    "plt.title(\"Correlation between Columns\")\n",
    "plt.show()"
   ]
  },
  {
   "cell_type": "markdown",
   "id": "6caf1ee6-6b9a-4e88-b5b1-ed13351da0a9",
   "metadata": {},
   "source": [
    "## Observation\n",
    "#### Interest Rate And Grade is highly correlated to loan status. \n",
    "#### Loan Amount And Funded Amount is also highly correlated as an oobivious one"
   ]
  },
  {
   "cell_type": "markdown",
   "id": "29be9d3e-e3ec-4c0c-9b79-9009b385d699",
   "metadata": {},
   "source": [
    "## Summary\n",
    "\n",
    "#### Debt consolidation  - Term, Grade, Interest Rate, Loan Amount impact a lot to default rate for debt consolidation\n",
    "#### Credit card - Grade , Interest Rate, Loan Amount , Debt To Income Ratio impact a lot to default rate for Credit card\n",
    "#### small business – DTI,  Interest Rate, Annual Income  and Home Ownership impact a lot to default rate for small business\n",
    "#### home improvement  -  Home Ownership , annual income, interest rate and term impact a lot to default rate for home improvement . And interestingly mortgage home owners have high default rate\n",
    "#### major purchase – Interest Rate, Term and Grade are key variables for high default rate of major purchase loan\n"
   ]
  },
  {
   "cell_type": "code",
   "execution_count": null,
   "id": "066d6642-7a36-4e7c-b640-d578f73cecf3",
   "metadata": {},
   "outputs": [],
   "source": []
  }
 ],
 "metadata": {
  "kernelspec": {
   "display_name": "Python 3 (ipykernel)",
   "language": "python",
   "name": "python3"
  },
  "language_info": {
   "codemirror_mode": {
    "name": "ipython",
    "version": 3
   },
   "file_extension": ".py",
   "mimetype": "text/x-python",
   "name": "python",
   "nbconvert_exporter": "python",
   "pygments_lexer": "ipython3",
   "version": "3.9.12"
  }
 },
 "nbformat": 4,
 "nbformat_minor": 5
}
